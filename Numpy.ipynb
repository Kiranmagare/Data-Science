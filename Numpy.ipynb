{
 "cells": [
  {
   "cell_type": "markdown",
   "id": "400b162b-dfcf-4340-8a61-1500e7b05ab9",
   "metadata": {},
   "source": [
    "### @NumPy:Numerical Python\n",
    "    -it is an array\n",
    "    -it is core python library\n",
    "    -we are using NumPy to perform the complex operation\n",
    "    -complex operations we are performing with the help of NumPy\n",
    "    -NumPy is extension to the multi-dimensional array\n",
    "    -array is a collection of homogenous/similar kind of data.\n",
    "    -it is open source and freeware\n",
    "       open source: code is available for everyone \n",
    "       freeware: no cost\n",
    "    -NumPy is written in python + c\n",
    "\n",
    "@ 1.performing the operation on higher dimensional array---complex operation\n",
    "      \n",
    "    In a machine learning each feature as a dimensional\n",
    "  \n",
    "     scalar: only magnitude \n",
    "         ex: displacement\n",
    "\n",
    "     vector: magnitude as well as dimension\n",
    "\n",
    "@ Data visualization:\n",
    "\n",
    "     dimensionality reduction: PCA, TSNE\n",
    "  \n",
    "@ 2.Complex matrix multiplication:\n",
    "  \n",
    "    1D:vector\n",
    "    2D:matrix\n",
    "    3D:cube\n",
    "    nD: tensors\n",
    "\n",
    "    a. matrix multiplication: costly/complex\n",
    "        -because of the vectorization numpy perform the multiplication in a faster way\n",
    "  \n",
    "    b. Inverse \n",
    "    c. Rank\n",
    "    d. Transpose\n",
    "    e. eigen values and eigen vectors\n",
    "    f. determinant\n",
    "\n",
    "*@ Linear Expression:\n",
    "  \n",
    "    a1x+b1y+c=0\n",
    "    a2x+b2y+c=0\n",
    "      a. simultaneous equation\n",
    "      b. inversion, reduction---matrix\n",
    "      c. LPP: simplex method\n",
    "\n",
    "@ 3.Numerical method and optimization:\n",
    "   \n",
    "    -In a mathematics we have two kinds of method:\n",
    "        a. Analytical method:Algorithm\n",
    "           -if we have a formulation, method, theorem or axioms to solve a particular problem then we called it as analytical method\n",
    "   \n",
    "        b. Numerical method:procedure\n",
    "            -approximation\n",
    "             ex: newton Raphson,etc\n",
    "\n",
    "        c. Numerical integration:\n",
    "       \n",
    "@ 4.Scientific computing\n",
    "\n",
    "@ 5.vector computing\n",
    "\n",
    "@ 6.Statical operation\n",
    "  \n",
    "    statistics: way of solving the problem with the help of data\n",
    "\n",
    "*@ for using the numpy we need to import it\n",
    "  \n",
    "    syntax:\n",
    "       import numpy as np\n",
    "\n",
    "     import---keyword\n",
    "     numpy---library name\n",
    "     no--alias\n",
    "\n",
    "*@ why we are using alias? \n",
    "  \n",
    "    -it will increase the readablity\n"
   ]
  },
  {
   "cell_type": "code",
   "execution_count": 23,
   "id": "9d8019ca-a193-49eb-a1d3-dd76caae9b64",
   "metadata": {},
   "outputs": [],
   "source": [
    "import numpy as np"
   ]
  },
  {
   "cell_type": "markdown",
   "id": "b2baef6e-ba81-40e8-92ee-9c9bdd494c6b",
   "metadata": {},
   "source": [
    "### *creating numpy array:\n",
    "\n",
    "### @ 1. np.array():\n",
    "     \n",
    "         -we are creating the numpy array manually with the help of np.array()\n",
    "         -it will always take list as a argument\n",
    "         -numpy is a fixed size\n",
    "     \n",
    "         Syntax:\n",
    "            identifier/variable=np.array([e1,e2---])\n",
    "        \n",
    "         ex:\n",
    "           array([23,45,67,89,99])---1D--vector\n",
    " \n",
    "         -number of subscript operator will decide the dimension of numpy array\n",
    "              []---1D\n",
    "            [[]]---2D\n",
    "         -ndim:will gives the dimension of the numpy array\n",
    "         syntax:\n",
    "           array_name.ndim\n",
    "          ex:\n",
    "             array([[1, 2, 3, 4],\n",
    "                   [5, 6, 7, 8]])------matrix---2D(rows and columns)\n",
    "\n",
    "          ex:\n",
    "             array([[[1, 2],\n",
    "                    [3, 4]],\n",
    "\n",
    "                    [[5, 6],\n",
    "                    [7, 8]]])-----cube---3D(length, height, width)\n"
   ]
  },
  {
   "cell_type": "code",
   "execution_count": 8,
   "id": "743f88e3-6cea-44b1-af72-ce9ee6b21d0a",
   "metadata": {},
   "outputs": [
    {
     "data": {
      "text/plain": [
       "array([23, 45, 67, 89, 99])"
      ]
     },
     "execution_count": 8,
     "metadata": {},
     "output_type": "execute_result"
    }
   ],
   "source": [
    "array1=np.array([23,45,67,89,99])\n",
    "array1"
   ]
  },
  {
   "cell_type": "code",
   "execution_count": 10,
   "id": "f337ee6b-c672-49bf-ac9c-750632863c2f",
   "metadata": {},
   "outputs": [
    {
     "data": {
      "text/plain": [
       "numpy.ndarray"
      ]
     },
     "execution_count": 10,
     "metadata": {},
     "output_type": "execute_result"
    }
   ],
   "source": [
    "type(array1)"
   ]
  },
  {
   "cell_type": "code",
   "execution_count": 14,
   "id": "6b62abd3-5142-406f-b1b2-9d0a343df22d",
   "metadata": {},
   "outputs": [
    {
     "data": {
      "text/plain": [
       "1"
      ]
     },
     "execution_count": 14,
     "metadata": {},
     "output_type": "execute_result"
    }
   ],
   "source": [
    "array1.ndim"
   ]
  },
  {
   "cell_type": "code",
   "execution_count": 18,
   "id": "9b5ca0d8-acc0-4638-847c-c59e1e386d5f",
   "metadata": {},
   "outputs": [
    {
     "data": {
      "text/plain": [
       "array([[1, 2, 3, 4],\n",
       "       [5, 6, 7, 8]])"
      ]
     },
     "execution_count": 18,
     "metadata": {},
     "output_type": "execute_result"
    }
   ],
   "source": [
    "array2=np.array([[1,2,3,4],[5,6,7,8]])\n",
    "array2"
   ]
  },
  {
   "cell_type": "code",
   "execution_count": 20,
   "id": "b9933768-919c-41a8-b945-ade2606f6587",
   "metadata": {},
   "outputs": [
    {
     "data": {
      "text/plain": [
       "2"
      ]
     },
     "execution_count": 20,
     "metadata": {},
     "output_type": "execute_result"
    }
   ],
   "source": [
    "array2.ndim"
   ]
  },
  {
   "cell_type": "code",
   "execution_count": 26,
   "id": "6b45f2c6-d993-4b18-9cfe-01dc350194c0",
   "metadata": {},
   "outputs": [
    {
     "data": {
      "text/plain": [
       "array([[[1, 2],\n",
       "        [3, 4]],\n",
       "\n",
       "       [[5, 6],\n",
       "        [7, 8]]])"
      ]
     },
     "execution_count": 26,
     "metadata": {},
     "output_type": "execute_result"
    }
   ],
   "source": [
    "array3=np.array([[[1,2],[3,4]],[[5,6],[7,8]]])\n",
    "array3"
   ]
  },
  {
   "cell_type": "code",
   "execution_count": 28,
   "id": "d179cc2f-26fa-4fb4-8e2b-6e0da83dec2b",
   "metadata": {},
   "outputs": [
    {
     "data": {
      "text/plain": [
       "3"
      ]
     },
     "execution_count": 28,
     "metadata": {},
     "output_type": "execute_result"
    }
   ],
   "source": [
    "array3.ndim"
   ]
  },
  {
   "cell_type": "code",
   "execution_count": 9,
   "id": "9207fe67-f5cd-4f4c-b699-e661c02714c3",
   "metadata": {},
   "outputs": [],
   "source": [
    "import numpy as np"
   ]
  },
  {
   "cell_type": "markdown",
   "id": "49359149-92a4-424d-ab09-b78effda600b",
   "metadata": {},
   "source": [
    "### @ 2. Creating NumPy array using arrange():\n",
    "\n",
    "    -we are creating the numpy array by specifying the values in the arguments\n",
    "     Syntax:\n",
    "        np.arange(start,end,step_size)\n",
    "       -by default it is starting from 0\n",
    "       -by default step size is 1\n"
   ]
  },
  {
   "cell_type": "markdown",
   "id": "0a647f43-0ade-4414-88ed-2b7310d5700c",
   "metadata": {},
   "source": [
    "### @difference between list and NumPy array:\n",
    "\n",
    "    list:\n",
    "       -collection of heterogeneous items\n",
    "       -list is a variable size\n",
    "       -list is not memory efficient because for one item it is creating two blocks of memory\n",
    "       -so we required every time one block extra memory for each item\n",
    "       -whenever we are storing the list in the memory ,the item will be stored wherever the space is available in the memory.\n",
    "       -matrix operations are slow in list\n",
    "       -to perform the matrix operation in list we have to iterate it becoz of that time and space both are getting increase\n",
    "\n",
    "    numpy:\n",
    "       -collection of similar kind of data items\n",
    "       -it is of fixed size\n",
    "       -numpy array will be stored inside the memory in a consecutive manner\n",
    "       -so it is memory efficient\n",
    "       -numpy is more closer to the hardware \n",
    "       -numpy is faster than list becoz it will follows the spatial or temporal aspect of cache\n",
    "       -it is possible because of consecutive storing behaviour of numpy\n",
    "       \n",
    "#aspects of cache:\n",
    "\n",
    "      spatial:instead of loading one block load the consecutive block also\n",
    "      temporal aspect:instead of loading consecutive block load the entire array\n",
    "      -matrix operations are faster in numpy because of vectorization.\n",
    "      -in case of numpy array we don't need to iterate the matrix so it efficient\n",
    "      -numpy will provide matrix multiplication in two ways\n",
    "        1.element wise multiplication\n",
    "        2.dot product\n",
    "\n",
    "     scalar: magnitude\n",
    "     vector: magnitude as well as direction\n"
   ]
  },
  {
   "cell_type": "code",
   "execution_count": 11,
   "id": "0b5a4894-97a5-406c-a0e4-3cb12f8c2ca0",
   "metadata": {},
   "outputs": [
    {
     "data": {
      "text/plain": [
       "array([0, 1, 2, 3, 4, 5, 6, 7, 8, 9])"
      ]
     },
     "execution_count": 11,
     "metadata": {},
     "output_type": "execute_result"
    }
   ],
   "source": [
    "array4=np.arange(10)\n",
    "array4"
   ]
  },
  {
   "cell_type": "code",
   "execution_count": 13,
   "id": "cfda7927-ee48-4e31-82de-0d92cf1bf5ee",
   "metadata": {},
   "outputs": [
    {
     "data": {
      "text/plain": [
       "array([10, 11, 12, 13, 14, 15, 16, 17, 18, 19, 20, 21, 22, 23, 24, 25, 26,\n",
       "       27, 28, 29])"
      ]
     },
     "execution_count": 13,
     "metadata": {},
     "output_type": "execute_result"
    }
   ],
   "source": [
    "array5=np.arange(10,30)\n",
    "array5"
   ]
  },
  {
   "cell_type": "code",
   "execution_count": 15,
   "id": "d1c90faa-7f11-4e7d-81ed-7f9d5f5fa0fd",
   "metadata": {},
   "outputs": [
    {
     "data": {
      "text/plain": [
       "array([10, 13, 16, 19])"
      ]
     },
     "execution_count": 15,
     "metadata": {},
     "output_type": "execute_result"
    }
   ],
   "source": [
    "array6=np.arange(10,20,3)\n",
    "array6"
   ]
  },
  {
   "cell_type": "code",
   "execution_count": 17,
   "id": "63dbdff9-c5e0-4df6-b2b7-3c81587531e3",
   "metadata": {},
   "outputs": [
    {
     "name": "stdout",
     "output_type": "stream",
     "text": [
      "[[4, 6], [8, 10]]\n"
     ]
    }
   ],
   "source": [
    "a=[[1,2],[3,4]]\n",
    "b=[[3,4],[5,6]]\n",
    "c=[[0,0],[0,0]]\n",
    "for i in range(len(a)):\n",
    "    for j in range(len(b)): \n",
    "        c[i][j]=a[i][j]+b[i][j]\n",
    "print(c)        "
   ]
  },
  {
   "cell_type": "code",
   "execution_count": 19,
   "id": "bdd0b65e-fc8a-425b-b2fd-4805ea0899ae",
   "metadata": {},
   "outputs": [
    {
     "data": {
      "text/plain": [
       "array([[ 4,  6],\n",
       "       [ 8, 10]])"
      ]
     },
     "execution_count": 19,
     "metadata": {},
     "output_type": "execute_result"
    }
   ],
   "source": [
    "a1=np.array([[1,2],[3,4]])\n",
    "a2=np.array([[3,4],[5,6]])\n",
    "a1+a2"
   ]
  },
  {
   "cell_type": "code",
   "execution_count": 21,
   "id": "45dfc262-4bf5-461b-b024-ee33d87858db",
   "metadata": {},
   "outputs": [
    {
     "name": "stdout",
     "output_type": "stream",
     "text": [
      "[[13, 16], [29, 36]]\n"
     ]
    }
   ],
   "source": [
    "a=[[1,2],[3,4]]\n",
    "b=[[3,4],[5,6]]\n",
    "c=[[0,0],[0,0]]\n",
    "for i in range(len(a)):\n",
    "    for j in range(len(b)):\n",
    "        for k in range(len(b)):\n",
    "            c[i][j]+=a[i][k]*b[k][j]\n",
    "print(c)"
   ]
  },
  {
   "cell_type": "code",
   "execution_count": 23,
   "id": "1e9e5a00-f0ac-422e-93b5-b5b0d81dde01",
   "metadata": {},
   "outputs": [
    {
     "data": {
      "text/plain": [
       "array([[ 3,  8],\n",
       "       [15, 24]])"
      ]
     },
     "execution_count": 23,
     "metadata": {},
     "output_type": "execute_result"
    }
   ],
   "source": [
    "a1=np.array([[1,2],[3,4]])\n",
    "a2=np.array([[3,4],[5,6]])\n",
    "a1*a2"
   ]
  },
  {
   "cell_type": "code",
   "execution_count": 25,
   "id": "01785cac-e7a6-44a0-a7db-f215d820b97d",
   "metadata": {},
   "outputs": [
    {
     "data": {
      "text/plain": [
       "array([[13, 16],\n",
       "       [29, 36]])"
      ]
     },
     "execution_count": 25,
     "metadata": {},
     "output_type": "execute_result"
    }
   ],
   "source": [
    "a1.dot(a2)"
   ]
  },
  {
   "cell_type": "markdown",
   "id": "68cdd351-1a4d-45d9-82e6-3c5e0c35af63",
   "metadata": {},
   "source": [
    "### @ 3.creating numpy array using np.zeros()\n",
    "\n",
    "    -it will create the numpy array with all elements zeros\n",
    "    -if we are giving the order of a matrix as a argument then we have to give it in the form of tuple\n",
    "      arr1=np.zeros(5)\n",
    "      arr2=np.zeros((3,3))\n",
    "    -zero matrix we called it as initialization matrix"
   ]
  },
  {
   "cell_type": "code",
   "execution_count": 27,
   "id": "e770ed86-f080-4559-8f2d-348d8c18761e",
   "metadata": {},
   "outputs": [
    {
     "data": {
      "text/plain": [
       "array([0., 0., 0., 0., 0.])"
      ]
     },
     "execution_count": 27,
     "metadata": {},
     "output_type": "execute_result"
    }
   ],
   "source": [
    "arr1=np.zeros(5)\n",
    "arr1"
   ]
  },
  {
   "cell_type": "code",
   "execution_count": 29,
   "id": "b0bc183a-4082-48c9-8705-fc2b1eaa4cb7",
   "metadata": {},
   "outputs": [
    {
     "data": {
      "text/plain": [
       "array([[0., 0., 0.],\n",
       "       [0., 0., 0.],\n",
       "       [0., 0., 0.]])"
      ]
     },
     "execution_count": 29,
     "metadata": {},
     "output_type": "execute_result"
    }
   ],
   "source": [
    "arr2=np.zeros((3,3))\n",
    "arr2"
   ]
  },
  {
   "cell_type": "markdown",
   "id": "ea9905f2-0417-4c5f-86e2-96376b1e1001",
   "metadata": {},
   "source": [
    "### @ 4.creating numpy array using np.ones()\n",
    "    \n",
    "    -it will create numpy array with all elemnets one\n",
    "    -if we are giving the order of a matrix as a argument then we have to give it in the form of tuple\n"
   ]
  },
  {
   "cell_type": "code",
   "execution_count": 31,
   "id": "6d5ced24-60fa-48d0-b6f6-d6dfd4fa4118",
   "metadata": {},
   "outputs": [
    {
     "data": {
      "text/plain": [
       "array([1., 1., 1., 1., 1.])"
      ]
     },
     "execution_count": 31,
     "metadata": {},
     "output_type": "execute_result"
    }
   ],
   "source": [
    "arr3=np.ones(5)\n",
    "arr3"
   ]
  },
  {
   "cell_type": "code",
   "execution_count": 33,
   "id": "06663d91-741f-48d5-8e5b-c85427be1b4f",
   "metadata": {},
   "outputs": [
    {
     "data": {
      "text/plain": [
       "array([[1., 1., 1.],\n",
       "       [1., 1., 1.],\n",
       "       [1., 1., 1.]])"
      ]
     },
     "execution_count": 33,
     "metadata": {},
     "output_type": "execute_result"
    }
   ],
   "source": [
    "arr4=np.ones((3,3))\n",
    "arr4"
   ]
  },
  {
   "cell_type": "markdown",
   "id": "1f5d3351-6c7b-425e-8f32-dd3af8a83222",
   "metadata": {},
   "source": [
    "### @ 5. creating numpy array using np.eye()\n",
    "   - it will make all the principal diagonal elements 1 \n",
    "   - arr7=np.eye(2,3)\n",
    "   - arr5=np.eye(3,3)\n",
    "   - arr6=np.eye(4)"
   ]
  },
  {
   "cell_type": "code",
   "execution_count": 35,
   "id": "35e2a1b5-68de-4a5e-a862-107588963d11",
   "metadata": {},
   "outputs": [
    {
     "data": {
      "text/plain": [
       "array([[1., 0., 0.],\n",
       "       [0., 1., 0.],\n",
       "       [0., 0., 1.]])"
      ]
     },
     "execution_count": 35,
     "metadata": {},
     "output_type": "execute_result"
    }
   ],
   "source": [
    "arr5=np.eye(3,3)\n",
    "arr5"
   ]
  },
  {
   "cell_type": "code",
   "execution_count": 40,
   "id": "5c0a8ba5-8cf4-47b4-82a4-fbf4d0dc4e59",
   "metadata": {},
   "outputs": [
    {
     "data": {
      "text/plain": [
       "array([[1., 0., 0., 0.],\n",
       "       [0., 1., 0., 0.],\n",
       "       [0., 0., 1., 0.],\n",
       "       [0., 0., 0., 1.]])"
      ]
     },
     "execution_count": 40,
     "metadata": {},
     "output_type": "execute_result"
    }
   ],
   "source": [
    "arr6=np.eye(4)\n",
    "arr6"
   ]
  },
  {
   "cell_type": "code",
   "execution_count": 42,
   "id": "c1e5fe56-ff8e-461f-8905-df73000c91fd",
   "metadata": {},
   "outputs": [
    {
     "data": {
      "text/plain": [
       "array([[1., 0., 0.],\n",
       "       [0., 1., 0.]])"
      ]
     },
     "execution_count": 42,
     "metadata": {},
     "output_type": "execute_result"
    }
   ],
   "source": [
    "arr7=np.eye(2,3)\n",
    "arr7"
   ]
  },
  {
   "cell_type": "markdown",
   "id": "89fba8c5-1efc-4d56-afb0-12b2a86ff9ff",
   "metadata": {},
   "source": [
    "### @ 6.creating numpy array using np.diag()\n",
    "    \n",
    "    -it will create the diagonal matrix\n",
    "    -it will always takes the argument in the form of list\n",
    "    -d1=np.diag([1,2,3])\n",
    "    -for creating the matrix of the combinations of zeros and ones ,we have to create it manually\n",
    "\n"
   ]
  },
  {
   "cell_type": "code",
   "execution_count": 44,
   "id": "bd51942a-9d6b-4b25-a4af-b0d9d290abf8",
   "metadata": {},
   "outputs": [
    {
     "data": {
      "text/plain": [
       "array([[1, 0, 0],\n",
       "       [0, 2, 0],\n",
       "       [0, 0, 3]])"
      ]
     },
     "execution_count": 44,
     "metadata": {},
     "output_type": "execute_result"
    }
   ],
   "source": [
    "d1=np.diag([1,2,3])\n",
    "d1"
   ]
  },
  {
   "cell_type": "code",
   "execution_count": 46,
   "id": "1cf2565a-ceb6-432e-a446-0e0a4c4849d5",
   "metadata": {},
   "outputs": [
    {
     "data": {
      "text/plain": [
       "array([[2., 2., 2.],\n",
       "       [2., 2., 2.],\n",
       "       [2., 2., 2.]])"
      ]
     },
     "execution_count": 46,
     "metadata": {},
     "output_type": "execute_result"
    }
   ],
   "source": [
    "d2=2*np.ones((3,3))\n",
    "d2"
   ]
  },
  {
   "cell_type": "code",
   "execution_count": 53,
   "id": "114a621b-24b4-4fdd-84b3-771f8c1ed6ee",
   "metadata": {},
   "outputs": [],
   "source": [
    "import numpy as np"
   ]
  },
  {
   "cell_type": "markdown",
   "id": "9a4d8af3-5605-48a6-99cf-3112ea0bc0a0",
   "metadata": {},
   "source": [
    "### @ 7.creating numpy array using np.linspace():\n",
    "\n",
    "    -it is used to create 1D numpy array (vector)\n",
    "    -it will create the values as per the limit\n",
    "    -and if we are not specifying the equidistant points by default it will take 50 points\n",
    "    syntax:\n",
    "      np.linspace(start,end,no_equi_points)\n",
    "    -for samplings (when we don't have the proper sampling points)"
   ]
  },
  {
   "cell_type": "markdown",
   "id": "db3548fb-483c-44bd-8b42-c9da1bed582d",
   "metadata": {},
   "source": [
    "### @ 8.np.random.rand():\n",
    "\n",
    "    -it will create the random values array as per the limit according to the uniform distribution\n",
    "    -uniform distribution: each values has equally likely chance of getting selected\n",
    "    -it will take all the values less than or equal to zero becoz probability should not be grater than 1"
   ]
  },
  {
   "cell_type": "code",
   "execution_count": 10,
   "id": "8fe2788f-6514-489f-bb60-1ce0a7180513",
   "metadata": {},
   "outputs": [
    {
     "data": {
      "text/plain": [
       "array([0.93516236, 0.43911315, 0.29110991, 0.75631607, 0.45929232])"
      ]
     },
     "execution_count": 10,
     "metadata": {},
     "output_type": "execute_result"
    }
   ],
   "source": [
    "r=np.random.rand(5)\n",
    "r"
   ]
  },
  {
   "cell_type": "code",
   "execution_count": 16,
   "id": "6978bae9-35f5-4978-a05b-18495c3e8d87",
   "metadata": {},
   "outputs": [
    {
     "data": {
      "text/plain": [
       "array([[0.69571464, 0.9299228 , 0.57692206],\n",
       "       [0.89371238, 0.91806659, 0.83721499],\n",
       "       [0.56760843, 0.62444465, 0.68917383]])"
      ]
     },
     "execution_count": 16,
     "metadata": {},
     "output_type": "execute_result"
    }
   ],
   "source": [
    "r1=np.random.rand(3,3)\n",
    "r1"
   ]
  },
  {
   "cell_type": "markdown",
   "id": "fa1ba513-5b05-44a5-a4fd-afeeff7786d1",
   "metadata": {},
   "source": [
    "### @ 9.np.random.randn():\n",
    "\n",
    "    -it will also gives the random values as per the standard normal variate(standard normal distribution)\n",
    "\n"
   ]
  },
  {
   "cell_type": "code",
   "execution_count": 18,
   "id": "b09a8890-71a1-4b80-9c68-88ceea0f8628",
   "metadata": {},
   "outputs": [
    {
     "data": {
      "text/plain": [
       "array([-0.14160051, -0.6075353 ,  1.97634778,  0.82192138,  0.00724244])"
      ]
     },
     "execution_count": 18,
     "metadata": {},
     "output_type": "execute_result"
    }
   ],
   "source": [
    "r2=np.random.randn(5)\n",
    "r2"
   ]
  },
  {
   "cell_type": "markdown",
   "id": "9d0f4cd1-06a7-49ab-8718-859f3ac083d9",
   "metadata": {},
   "source": [
    "### @ 10.np.random.randint():\n",
    "\n",
    "    -it will generate the numpy array with any random values as per the range\n",
    "    -np.random.randint(start,end,no_of_elements)\n",
    "\n"
   ]
  },
  {
   "cell_type": "code",
   "execution_count": 20,
   "id": "baa25051-e764-4fc1-8986-5ecf4ee374fc",
   "metadata": {},
   "outputs": [
    {
     "data": {
      "text/plain": [
       "array([19, 16, 15, 12, 19])"
      ]
     },
     "execution_count": 20,
     "metadata": {},
     "output_type": "execute_result"
    }
   ],
   "source": [
    "r3=np.random.randint(10,20,5)\n",
    "r3"
   ]
  },
  {
   "cell_type": "code",
   "execution_count": 22,
   "id": "11238b9b-56ae-4cd9-8ff1-09db6eac45c6",
   "metadata": {},
   "outputs": [
    {
     "data": {
      "text/plain": [
       "array([[16, 14, 18],\n",
       "       [18, 12, 13],\n",
       "       [13, 15, 11]])"
      ]
     },
     "execution_count": 22,
     "metadata": {},
     "output_type": "execute_result"
    }
   ],
   "source": [
    "r4=np.random.randint(10,20,(3,3))\n",
    "r4"
   ]
  },
  {
   "cell_type": "markdown",
   "id": "6999411c-8ef8-4ee9-a258-b393fbd0e89b",
   "metadata": {},
   "source": [
    "### @11.copy():\n",
    "     -it will copy the elements from one array to another array"
   ]
  },
  {
   "cell_type": "code",
   "execution_count": 24,
   "id": "37db24f3-2e39-4a8a-ae19-07488fbf664f",
   "metadata": {},
   "outputs": [
    {
     "data": {
      "text/plain": [
       "array([1, 2, 3, 4, 5])"
      ]
     },
     "execution_count": 24,
     "metadata": {},
     "output_type": "execute_result"
    }
   ],
   "source": [
    "a1=np.array([1,2,3,4,5])\n",
    "a2=a1.copy()\n",
    "a2"
   ]
  },
  {
   "cell_type": "code",
   "execution_count": 26,
   "id": "b06e5899-5cc5-4140-aea6-bd4dcaa68a3d",
   "metadata": {},
   "outputs": [
    {
     "data": {
      "text/plain": [
       "(5,)"
      ]
     },
     "execution_count": 26,
     "metadata": {},
     "output_type": "execute_result"
    }
   ],
   "source": [
    "z=np.array([1,2,3,4,5])\n",
    "z.shape"
   ]
  },
  {
   "cell_type": "code",
   "execution_count": 34,
   "id": "edac77ea-4b5e-4546-a87a-9f7a77a38c5a",
   "metadata": {},
   "outputs": [
    {
     "data": {
      "text/plain": [
       "dtype('int32')"
      ]
     },
     "execution_count": 34,
     "metadata": {},
     "output_type": "execute_result"
    }
   ],
   "source": [
    "z.dtype"
   ]
  },
  {
   "cell_type": "code",
   "execution_count": 36,
   "id": "5fa9441d-2c04-4574-9f38-2d058de7162d",
   "metadata": {},
   "outputs": [
    {
     "data": {
      "text/plain": [
       "4"
      ]
     },
     "execution_count": 36,
     "metadata": {},
     "output_type": "execute_result"
    }
   ],
   "source": [
    "z.itemsize"
   ]
  },
  {
   "cell_type": "markdown",
   "id": "e2ef487f-dd01-4a92-af6d-6723b2a5bd36",
   "metadata": {},
   "source": [
    "## @ NumPy class are having the attribute:\n",
    "\n",
    "* 1.ndim:it will give the dimension of the numpy array\n",
    "* 2.shape: it will gives the order of the array\n",
    "* 3.size:no.of elements present in the array\n",
    "* 4.itemsize:how much memory each element of the array is occupying\n",
    "* 5.dtype:it will give the datatype of the array\n",
    "* 6.astype():it is use for typecasting\n",
    "\n",
    "\n",
    "* 1.trace:\n",
    "\n",
    "      sum of the diagonal elements of the array\n",
    "      syntax:np.trace(array_name)\n",
    "\n",
    "* 2.transpose of a matrix:\n",
    "\n",
    "      -converting the rows of matrix into columns into row\n",
    "      syntax:array\n",
    "\n",
    "* 3.Inverse of matrix:\n",
    "  \n",
    "      -it will give the inverse of the matrix\n",
    "      Syntax: np.linalg.inv(p)\n",
    "\n",
    "* 4.Determinant:\n",
    "\n",
    "      Syntax: np.linalg.det(a)\n",
    "\n",
    "* 5.rank:\n",
    "\n",
    "      -it will gives the rank of matrix\n",
    "      -on of linearly independent rows and columns in the matrix \n",
    "      -np.linalg.matrix_rank(a)\n",
    "\n",
    "* 6.scalar \n"
   ]
  },
  {
   "cell_type": "code",
   "execution_count": 38,
   "id": "355d520b-3270-43ce-81f7-0a2587dff239",
   "metadata": {},
   "outputs": [
    {
     "name": "stdout",
     "output_type": "stream",
     "text": [
      "6\n"
     ]
    }
   ],
   "source": [
    "list1=[[1,2],[4,5]]\n",
    "trace=0\n",
    "for i in range(len(list1)):\n",
    "    for j in range(len(list1)):\n",
    "        if i==j:\n",
    "            trace+=list1[i][j]\n",
    "print(trace)"
   ]
  },
  {
   "cell_type": "code",
   "execution_count": 40,
   "id": "45f61a46-4190-4c03-a826-4ba860fe7309",
   "metadata": {},
   "outputs": [
    {
     "data": {
      "text/plain": [
       "6"
      ]
     },
     "execution_count": 40,
     "metadata": {},
     "output_type": "execute_result"
    }
   ],
   "source": [
    "p=np.array([[1,2],[4,5]])\n",
    "np.trace(p)"
   ]
  },
  {
   "cell_type": "code",
   "execution_count": 42,
   "id": "726013b6-23f7-4714-bc64-6353c5e80446",
   "metadata": {},
   "outputs": [
    {
     "data": {
      "text/plain": [
       "array([[1, 4],\n",
       "       [2, 5]])"
      ]
     },
     "execution_count": 42,
     "metadata": {},
     "output_type": "execute_result"
    }
   ],
   "source": [
    "p.T"
   ]
  },
  {
   "cell_type": "code",
   "execution_count": 46,
   "id": "29e6030e-75b0-497c-aeca-dff51b6bf76a",
   "metadata": {},
   "outputs": [
    {
     "data": {
      "text/plain": [
       "array([[-1.66666667,  0.66666667],\n",
       "       [ 1.33333333, -0.33333333]])"
      ]
     },
     "execution_count": 46,
     "metadata": {},
     "output_type": "execute_result"
    }
   ],
   "source": [
    "np.linalg.inv(p)"
   ]
  },
  {
   "cell_type": "code",
   "execution_count": 52,
   "id": "d2d03321-b1e4-44b0-ae43-5d428d68683c",
   "metadata": {},
   "outputs": [
    {
     "data": {
      "text/plain": [
       "-2.9999999999999996"
      ]
     },
     "execution_count": 52,
     "metadata": {},
     "output_type": "execute_result"
    }
   ],
   "source": [
    "np.linalg.det(p)"
   ]
  },
  {
   "cell_type": "code",
   "execution_count": 50,
   "id": "f983ffe9-3489-4267-afee-768ac332c06e",
   "metadata": {},
   "outputs": [
    {
     "data": {
      "text/plain": [
       "2"
      ]
     },
     "execution_count": 50,
     "metadata": {},
     "output_type": "execute_result"
    }
   ],
   "source": [
    "a=np.array([[1,2,3,4,5],[3,4,5,6,7],[4,5,6,7,8]])\n",
    "np.linalg.matrix_rank(a)"
   ]
  },
  {
   "cell_type": "code",
   "execution_count": 54,
   "id": "1bf27319-11cd-4410-ba5f-91d15bd0c36a",
   "metadata": {},
   "outputs": [
    {
     "data": {
      "text/plain": [
       "array([2, 3, 4, 5, 6])"
      ]
     },
     "execution_count": 54,
     "metadata": {},
     "output_type": "execute_result"
    }
   ],
   "source": [
    "a=np.array([1,2,3,4,5])\n",
    "a+1"
   ]
  },
  {
   "cell_type": "code",
   "execution_count": 56,
   "id": "849a428b-55d8-43b9-87a6-f16821391ac5",
   "metadata": {},
   "outputs": [
    {
     "data": {
      "text/plain": [
       "array([0, 1, 2, 3, 4])"
      ]
     },
     "execution_count": 56,
     "metadata": {},
     "output_type": "execute_result"
    }
   ],
   "source": [
    "a-1"
   ]
  },
  {
   "cell_type": "code",
   "execution_count": 58,
   "id": "7ada80d6-5b7e-4070-a655-29bf627b9c96",
   "metadata": {},
   "outputs": [
    {
     "data": {
      "text/plain": [
       "array([ 2,  4,  6,  8, 10])"
      ]
     },
     "execution_count": 58,
     "metadata": {},
     "output_type": "execute_result"
    }
   ],
   "source": [
    "a*2"
   ]
  },
  {
   "cell_type": "code",
   "execution_count": 60,
   "id": "e06c2b1b-b8b5-4635-94fe-babc0610b344",
   "metadata": {},
   "outputs": [
    {
     "data": {
      "text/plain": [
       "array([ 1,  4,  9, 16, 25])"
      ]
     },
     "execution_count": 60,
     "metadata": {},
     "output_type": "execute_result"
    }
   ],
   "source": [
    "a**2"
   ]
  },
  {
   "cell_type": "code",
   "execution_count": 2,
   "id": "b4949032-6904-47dc-9068-9dc82fa0a0b3",
   "metadata": {},
   "outputs": [
    {
     "name": "stdout",
     "output_type": "stream",
     "text": [
      "nArEsH\n"
     ]
    }
   ],
   "source": [
    "s=\"NaReSh\";\n",
    "s1=\"\";\n",
    "for i in s:\n",
    "    if(ord(i)<96):\n",
    "        s1=s1+chr(ord(i)+32)\n",
    "    else:\n",
    "        s1=s1+chr(ord(i)-32)\n",
    "print(s1)"
   ]
  },
  {
   "cell_type": "code",
   "execution_count": 4,
   "id": "3eefb84c-ef3d-46ee-b85b-eb08e47221f3",
   "metadata": {},
   "outputs": [],
   "source": [
    "import numpy as np"
   ]
  },
  {
   "cell_type": "markdown",
   "id": "6bf9d4d0-58af-47fa-852c-1f9ca0a68252",
   "metadata": {},
   "source": [
    "### @ arithmatic operations on numpy:\n",
    "\n",
    "* 1.addition(+)\n",
    "* 2.subtraction(-)\n",
    "* 3.multiplication(*)\n",
    "* 4.division(/)\n",
    "* 5.floor division(//)\n",
    "* 6.power(*)\n",
    "* 7.modulus(%)\n",
    "\n",
    "      -all the arithmatic operation done by element wise\n",
    "\n",
    "\n",
    "### @ 3.Scalar Operations on numpy array:\n",
    "\n",
    "    -we are performing the operation with the help of scalar\n",
    "\n",
    "### @ 4.Relational operations:\n",
    "\n",
    "    -it is used to find the relation between the elements of the numpy array\n",
    "    -<,>,==,!=,>=,<=---it will compare elementwise\n",
    "\n",
    "     Syntax: np.array_equal(p1,p2)----it will compare arraywise\n",
    "\n",
    "### @ 5.Logical operations on numpy:\n",
    "\n",
    "    -all():it will return true value when all the elements in the array are true\n",
    "       -every non-zero is considered as true\n",
    "\n",
    "    -any():\n",
    "     -it will true if atleast one value is true otherwise false \n",
    "    -logical_or\n",
    "    -logical_and\n",
    "\n"
   ]
  },
  {
   "cell_type": "code",
   "execution_count": 6,
   "id": "3b7685c2-3144-4391-be84-d5d0f843e1d8",
   "metadata": {},
   "outputs": [
    {
     "data": {
      "text/plain": [
       "array([ 6,  8, 10, 12])"
      ]
     },
     "execution_count": 6,
     "metadata": {},
     "output_type": "execute_result"
    }
   ],
   "source": [
    "a=np.array([1,2,3,4])\n",
    "b=np.array([5,6,7,8])\n",
    "a+b"
   ]
  },
  {
   "cell_type": "code",
   "execution_count": 8,
   "id": "9d7a7eaa-4117-4ada-8bfb-b05b08873fa8",
   "metadata": {},
   "outputs": [
    {
     "data": {
      "text/plain": [
       "array([-4, -4, -4, -4])"
      ]
     },
     "execution_count": 8,
     "metadata": {},
     "output_type": "execute_result"
    }
   ],
   "source": [
    "a-b"
   ]
  },
  {
   "cell_type": "code",
   "execution_count": 10,
   "id": "f5582201-1a2d-4103-847f-2374a92b5d2c",
   "metadata": {},
   "outputs": [
    {
     "data": {
      "text/plain": [
       "array([    1,    64,  2187, 65536])"
      ]
     },
     "execution_count": 10,
     "metadata": {},
     "output_type": "execute_result"
    }
   ],
   "source": [
    "a**b"
   ]
  },
  {
   "cell_type": "code",
   "execution_count": 12,
   "id": "55664733-b74f-4979-85b3-69a61da90420",
   "metadata": {},
   "outputs": [
    {
     "data": {
      "text/plain": [
       "array([1, 2, 3, 4])"
      ]
     },
     "execution_count": 12,
     "metadata": {},
     "output_type": "execute_result"
    }
   ],
   "source": [
    "a%b"
   ]
  },
  {
   "cell_type": "code",
   "execution_count": 14,
   "id": "a88391c2-231f-4d07-a935-582908a7fc81",
   "metadata": {},
   "outputs": [
    {
     "data": {
      "text/plain": [
       "array([0, 0, 0, 0])"
      ]
     },
     "execution_count": 14,
     "metadata": {},
     "output_type": "execute_result"
    }
   ],
   "source": [
    "a//b"
   ]
  },
  {
   "cell_type": "code",
   "execution_count": 16,
   "id": "011b13b5-aa18-47c1-90b6-c9617131feda",
   "metadata": {},
   "outputs": [
    {
     "data": {
      "text/plain": [
       "array([ 5, 12, 21, 32])"
      ]
     },
     "execution_count": 16,
     "metadata": {},
     "output_type": "execute_result"
    }
   ],
   "source": [
    "a*b"
   ]
  },
  {
   "cell_type": "code",
   "execution_count": 18,
   "id": "74cbef04-83a2-4e2e-b6c6-eba26ab57a7b",
   "metadata": {},
   "outputs": [
    {
     "data": {
      "text/plain": [
       "array([0.2       , 0.33333333, 0.42857143, 0.5       ])"
      ]
     },
     "execution_count": 18,
     "metadata": {},
     "output_type": "execute_result"
    }
   ],
   "source": [
    "a/b"
   ]
  },
  {
   "cell_type": "code",
   "execution_count": 28,
   "id": "718e4393-3789-4620-aab1-a6c787ad920d",
   "metadata": {},
   "outputs": [
    {
     "data": {
      "text/plain": [
       "array([[2., 2., 2.],\n",
       "       [2., 2., 2.],\n",
       "       [2., 2., 2.]])"
      ]
     },
     "execution_count": 28,
     "metadata": {},
     "output_type": "execute_result"
    }
   ],
   "source": [
    "a=np.ones((3,3))+1\n",
    "a"
   ]
  },
  {
   "cell_type": "code",
   "execution_count": 30,
   "id": "41082cc8-3bd1-47ed-a127-55478c9dd2df",
   "metadata": {},
   "outputs": [
    {
     "data": {
      "text/plain": [
       "array([ True,  True,  True,  True, False])"
      ]
     },
     "execution_count": 30,
     "metadata": {},
     "output_type": "execute_result"
    }
   ],
   "source": [
    "a1=np.array([4,5,6,7,8])\n",
    "a2=np.array([2,3,4,5,8])\n",
    "a1>a2"
   ]
  },
  {
   "cell_type": "code",
   "execution_count": 32,
   "id": "af90d6bd-b75f-4834-8ca7-ce61282f12c8",
   "metadata": {},
   "outputs": [
    {
     "data": {
      "text/plain": [
       "array([False, False, False, False, False])"
      ]
     },
     "execution_count": 32,
     "metadata": {},
     "output_type": "execute_result"
    }
   ],
   "source": [
    "a1<a2"
   ]
  },
  {
   "cell_type": "code",
   "execution_count": 34,
   "id": "d72ab676-4d41-4034-9d47-1a41d3a7b11a",
   "metadata": {},
   "outputs": [
    {
     "data": {
      "text/plain": [
       "array([False, False, False, False,  True])"
      ]
     },
     "execution_count": 34,
     "metadata": {},
     "output_type": "execute_result"
    }
   ],
   "source": [
    "a1==a2"
   ]
  },
  {
   "cell_type": "code",
   "execution_count": 36,
   "id": "b6e936f3-95aa-4f57-814b-1838b7fdc3da",
   "metadata": {},
   "outputs": [
    {
     "data": {
      "text/plain": [
       "array([ True,  True,  True,  True, False])"
      ]
     },
     "execution_count": 36,
     "metadata": {},
     "output_type": "execute_result"
    }
   ],
   "source": [
    "a1!=a2"
   ]
  },
  {
   "cell_type": "code",
   "execution_count": 40,
   "id": "d8b6a24f-a377-4839-95e8-8c998f1d0a85",
   "metadata": {},
   "outputs": [],
   "source": [
    "c=np.array([[2,3],[4,5]])\n"
   ]
  },
  {
   "cell_type": "code",
   "execution_count": 48,
   "id": "b7d657c7-478f-4cb0-abce-e845224702a9",
   "metadata": {},
   "outputs": [
    {
     "data": {
      "text/plain": [
       "False"
      ]
     },
     "execution_count": 48,
     "metadata": {},
     "output_type": "execute_result"
    }
   ],
   "source": [
    "p1=np.array([1,2,45,67])\n",
    "p2=np.array([1,2,63,75])\n",
    "p3=np.array([3,4,46,54])\n",
    "np.array_equal(p1,p2)"
   ]
  },
  {
   "cell_type": "code",
   "execution_count": 50,
   "id": "af37cc47-2db1-45a6-bc41-16330337b324",
   "metadata": {},
   "outputs": [
    {
     "data": {
      "text/plain": [
       "False"
      ]
     },
     "execution_count": 50,
     "metadata": {},
     "output_type": "execute_result"
    }
   ],
   "source": [
    "np.array_equal(p1,p3)"
   ]
  },
  {
   "cell_type": "code",
   "execution_count": 52,
   "id": "4bba33e2-990b-4dc7-8e2c-8ea8157c66b6",
   "metadata": {},
   "outputs": [
    {
     "data": {
      "text/plain": [
       "False"
      ]
     },
     "execution_count": 52,
     "metadata": {},
     "output_type": "execute_result"
    }
   ],
   "source": [
    "s=np.array([1,0,3,4,5])\n",
    "np.all(s)"
   ]
  },
  {
   "cell_type": "code",
   "execution_count": 54,
   "id": "7f82c14d-bd61-4a17-8ab9-0104bbb47e86",
   "metadata": {},
   "outputs": [
    {
     "data": {
      "text/plain": [
       "True"
      ]
     },
     "execution_count": 54,
     "metadata": {},
     "output_type": "execute_result"
    }
   ],
   "source": [
    "np.any(s)"
   ]
  },
  {
   "cell_type": "code",
   "execution_count": 56,
   "id": "b1d996a4-ef77-42bf-a536-909cdb946925",
   "metadata": {},
   "outputs": [
    {
     "data": {
      "text/plain": [
       "array([ True,  True, False,  True,  True])"
      ]
     },
     "execution_count": 56,
     "metadata": {},
     "output_type": "execute_result"
    }
   ],
   "source": [
    "a=np.array([2,0,0,3,1])\n",
    "b=np.array([4,5,0,0,56])\n",
    "np.logical_or(a,b)"
   ]
  },
  {
   "cell_type": "code",
   "execution_count": 58,
   "id": "ca4f8b10-6a94-47a8-8249-4a5dfbb130b4",
   "metadata": {},
   "outputs": [
    {
     "data": {
      "text/plain": [
       "array([ True, False, False, False,  True])"
      ]
     },
     "execution_count": 58,
     "metadata": {},
     "output_type": "execute_result"
    }
   ],
   "source": [
    "np.logical_and(a,b)"
   ]
  },
  {
   "cell_type": "code",
   "execution_count": 70,
   "id": "e495d4a1-c362-47de-964d-245ff9c0a422",
   "metadata": {},
   "outputs": [
    {
     "data": {
      "text/plain": [
       "array([0.69314718, 1.09861229, 1.38629436, 1.60943791, 1.79175947])"
      ]
     },
     "execution_count": 70,
     "metadata": {},
     "output_type": "execute_result"
    }
   ],
   "source": [
    "a=np.array([2,3,4,5,6])\n",
    "np.log(a)"
   ]
  },
  {
   "cell_type": "code",
   "execution_count": 68,
   "id": "bd076caf-1e3e-4db2-8c09-5e4f7dab60f7",
   "metadata": {},
   "outputs": [
    {
     "data": {
      "text/plain": [
       "array([  7.3890561 ,  20.08553692,  54.59815003, 148.4131591 ,\n",
       "       403.42879349,   1.        ])"
      ]
     },
     "execution_count": 68,
     "metadata": {},
     "output_type": "execute_result"
    }
   ],
   "source": [
    "np.exp(a)"
   ]
  },
  {
   "cell_type": "markdown",
   "id": "3caa19b1-80de-400d-bcdc-968ec53ce6c6",
   "metadata": {},
   "source": [
    "### @ 6.Transcendental operations:\n",
    "    -when we have a log,exp(e),trigonometry----\n",
    "    -np.log():it will give the log of each value present in numpy array\n",
    "    -np.exp():it is giving the exponential value of each elements of numpy array\n",
    "    -np.sin()  \n",
    "    -np.cos()"
   ]
  },
  {
   "cell_type": "code",
   "execution_count": 72,
   "id": "bb79030f-ea7f-44ce-a26c-3f246e46448c",
   "metadata": {},
   "outputs": [
    {
     "data": {
      "text/plain": [
       "array([ 0.14112001, -0.7568025 , -0.95892427, -0.2794155 , -0.98803162])"
      ]
     },
     "execution_count": 72,
     "metadata": {},
     "output_type": "execute_result"
    }
   ],
   "source": [
    "a=np.array([3,4,5,6,30])\n",
    "np.sin(a)"
   ]
  },
  {
   "cell_type": "code",
   "execution_count": 74,
   "id": "b26b735f-9445-4012-8565-57e75207d6c6",
   "metadata": {},
   "outputs": [
    {
     "data": {
      "text/plain": [
       "array([-0.9899925 , -0.65364362,  0.28366219,  0.96017029,  0.15425145])"
      ]
     },
     "execution_count": 74,
     "metadata": {},
     "output_type": "execute_result"
    }
   ],
   "source": [
    "np.cos(a)"
   ]
  },
  {
   "cell_type": "markdown",
   "id": "8d372f1d-80f0-4b3f-998d-68658a983330",
   "metadata": {},
   "source": [
    "### @ 7.sorting:\n",
    "    -np.sort():\n",
    "         -it will sort in ascending order\n",
    "         -it is not in-place sort\n",
    "\n",
    "    -np.argsort():\n",
    "         -it will perform the sorting on the basis of index of the numpy array\n",
    "    \n",
    "    -numpy_array.sort():it will perform inplace sorting \n",
    "\n",
    "* row-wise sorting:axis=1\n",
    "* column-wise sorting :axis=0\n"
   ]
  },
  {
   "cell_type": "code",
   "execution_count": 76,
   "id": "d0fee676-94dc-46cd-9bf4-005dc2ce3a09",
   "metadata": {},
   "outputs": [],
   "source": [
    "a=([3,4,-5,-67,2,1])"
   ]
  },
  {
   "cell_type": "code",
   "execution_count": 84,
   "id": "4305fd43-81bc-454b-a9ec-7d28808bc06c",
   "metadata": {},
   "outputs": [
    {
     "name": "stdout",
     "output_type": "stream",
     "text": [
      "[3, 4, -5, -67, 2, 1]\n",
      "[-67  -5   1   2   3   4]\n"
     ]
    }
   ],
   "source": [
    "b=np.sort(a)\n",
    "print(a)\n",
    "print(b)"
   ]
  },
  {
   "cell_type": "code",
   "execution_count": 86,
   "id": "882fd34d-46eb-41d0-af48-af5ce07bf99f",
   "metadata": {},
   "outputs": [
    {
     "data": {
      "text/plain": [
       "array([3, 2, 5, 4, 0, 1], dtype=int64)"
      ]
     },
     "execution_count": 86,
     "metadata": {},
     "output_type": "execute_result"
    }
   ],
   "source": [
    "c=np.argsort(a)\n",
    "c"
   ]
  },
  {
   "cell_type": "code",
   "execution_count": 90,
   "id": "6c40037a-555d-4110-bdbd-1fa121c051d2",
   "metadata": {},
   "outputs": [
    {
     "data": {
      "text/plain": [
       "array([-14,  -3,  -1,   0,   5,   7])"
      ]
     },
     "execution_count": 90,
     "metadata": {},
     "output_type": "execute_result"
    }
   ],
   "source": [
    "d=np.array([5,0,-1,-3,7,-14])\n",
    "d.sort()\n",
    "d"
   ]
  },
  {
   "cell_type": "code",
   "execution_count": 92,
   "id": "7513cb3e-786b-49c2-8274-b713fae03b1f",
   "metadata": {},
   "outputs": [
    {
     "data": {
      "text/plain": [
       "array([[ -2,   7,  11],\n",
       "       [ -6,   4,  17],\n",
       "       [-34, -23,  18]])"
      ]
     },
     "execution_count": 92,
     "metadata": {},
     "output_type": "execute_result"
    }
   ],
   "source": [
    "mat1=np.array([[11,7,-2],[4,-6,17],[-23,18,-34]])\n",
    "mat2=np.sort(mat1)\n",
    "mat2"
   ]
  },
  {
   "cell_type": "code",
   "execution_count": 94,
   "id": "e5d72ab9-82d0-49c6-bd9c-3bc086206351",
   "metadata": {},
   "outputs": [
    {
     "data": {
      "text/plain": [
       "array([[2, 1, 0],\n",
       "       [1, 0, 2],\n",
       "       [2, 0, 1]], dtype=int64)"
      ]
     },
     "execution_count": 94,
     "metadata": {},
     "output_type": "execute_result"
    }
   ],
   "source": [
    "m3=np.argsort(mat1)\n",
    "m3"
   ]
  },
  {
   "cell_type": "code",
   "execution_count": 98,
   "id": "3f680091-7266-47ef-969a-6c060d53c8a0",
   "metadata": {},
   "outputs": [
    {
     "data": {
      "text/plain": [
       "array([[ -2,   7,  11],\n",
       "       [ -6,   4,  17],\n",
       "       [-34, -23,  18]])"
      ]
     },
     "execution_count": 98,
     "metadata": {},
     "output_type": "execute_result"
    }
   ],
   "source": [
    "mat1.sort()\n",
    "mat1"
   ]
  },
  {
   "cell_type": "code",
   "execution_count": 102,
   "id": "e45e5ec4-8c27-4bff-9529-34d4fe0640fc",
   "metadata": {},
   "outputs": [
    {
     "data": {
      "text/plain": [
       "array([[ 19, -19, -99],\n",
       "       [ 20, -11, -34],\n",
       "       [ 22,  -8,  12]])"
      ]
     },
     "execution_count": 102,
     "metadata": {},
     "output_type": "execute_result"
    }
   ],
   "source": [
    "n=np.array([[20,-11,-34],[22,-8,-99],[19,-19,12]])\n",
    "n=np.sort(n,axis=0)\n",
    "n"
   ]
  },
  {
   "cell_type": "code",
   "execution_count": 108,
   "id": "54f51f3b-8541-458f-b18b-097e0d8fa753",
   "metadata": {},
   "outputs": [
    {
     "data": {
      "text/plain": [
       "array([[0, 0, 0],\n",
       "       [1, 1, 1],\n",
       "       [2, 2, 2]], dtype=int64)"
      ]
     },
     "execution_count": 108,
     "metadata": {},
     "output_type": "execute_result"
    }
   ],
   "source": [
    "o=np.argsort(n,axis=0)\n",
    "o"
   ]
  },
  {
   "cell_type": "code",
   "execution_count": 110,
   "id": "789bdc2c-3e6f-4bb3-a69e-51d33bf25ddd",
   "metadata": {},
   "outputs": [
    {
     "data": {
      "text/plain": [
       "array([  90,   79,   34,   17,  -11,  -22, -100])"
      ]
     },
     "execution_count": 110,
     "metadata": {},
     "output_type": "execute_result"
    }
   ],
   "source": [
    "aa=np.array([34,-11,-22,17,79,90,-100])\n",
    "rev_sorted=np.sort(aa)[::-1]\n",
    "rev_sorted"
   ]
  },
  {
   "cell_type": "markdown",
   "id": "9951f25a-4bd3-46b4-9958-5308e8c39df4",
   "metadata": {},
   "source": [
    "### @8.aggregation operations:\n",
    "\n",
    "* sum()\n",
    "* max()\n",
    "* min()\n",
    "* argmax()\n",
    "* argmin()\n"
   ]
  },
  {
   "cell_type": "code",
   "execution_count": 112,
   "id": "7457e6cb-d440-47b7-a045-3c53f69376e0",
   "metadata": {},
   "outputs": [
    {
     "data": {
      "text/plain": [
       "33"
      ]
     },
     "execution_count": 112,
     "metadata": {},
     "output_type": "execute_result"
    }
   ],
   "source": [
    "ab=np.array([3,4,5,6,7,8])\n",
    "np.sum(ab)"
   ]
  },
  {
   "cell_type": "code",
   "execution_count": 114,
   "id": "b33f3cc4-2bc9-4d32-8d29-3d53981c5500",
   "metadata": {},
   "outputs": [
    {
     "data": {
      "text/plain": [
       "8"
      ]
     },
     "execution_count": 114,
     "metadata": {},
     "output_type": "execute_result"
    }
   ],
   "source": [
    "np.max(ab)"
   ]
  },
  {
   "cell_type": "code",
   "execution_count": 116,
   "id": "0d7bce4c-3e26-4674-a88d-ddc377b52f83",
   "metadata": {},
   "outputs": [
    {
     "data": {
      "text/plain": [
       "3"
      ]
     },
     "execution_count": 116,
     "metadata": {},
     "output_type": "execute_result"
    }
   ],
   "source": [
    "np.min(ab)"
   ]
  },
  {
   "cell_type": "code",
   "execution_count": 118,
   "id": "c663d687-4d43-4077-80a3-5654de33d6e0",
   "metadata": {},
   "outputs": [
    {
     "data": {
      "text/plain": [
       "0"
      ]
     },
     "execution_count": 118,
     "metadata": {},
     "output_type": "execute_result"
    }
   ],
   "source": [
    "np.argmin(ab)"
   ]
  },
  {
   "cell_type": "code",
   "execution_count": 120,
   "id": "61e9b851-9472-4d9a-a158-6d705512dedd",
   "metadata": {},
   "outputs": [
    {
     "data": {
      "text/plain": [
       "5"
      ]
     },
     "execution_count": 120,
     "metadata": {},
     "output_type": "execute_result"
    }
   ],
   "source": [
    "np.argmax(ab)"
   ]
  },
  {
   "cell_type": "code",
   "execution_count": 2,
   "id": "fc600a3e-402c-4507-87cc-6e1a3e3eea44",
   "metadata": {},
   "outputs": [],
   "source": [
    "import numpy as np"
   ]
  },
  {
   "cell_type": "markdown",
   "id": "156bcb97-51f4-4cf9-83f6-cbf70b493fdb",
   "metadata": {},
   "source": [
    "### @9.Searching in numpy array:\n",
    "\n",
    "    1.np.where(condition):it will return the index of the elements where the condition is true\n",
    "\n",
    "    2.np.nonzero():it will return the index of the non-zero elements in the array\n",
    "       syntax: np.nonzero(array_name)\n",
    "\n",
    "    3.np.extract():it will return the element besed on the condition\n",
    "       syntax: np.extract(condition,array_name)\n",
    "\n"
   ]
  },
  {
   "cell_type": "code",
   "execution_count": 4,
   "id": "d2c34967-d2f1-4984-b3cd-7be38a9f2a5f",
   "metadata": {},
   "outputs": [
    {
     "data": {
      "text/plain": [
       "(array([0, 1, 2, 4], dtype=int64),)"
      ]
     },
     "execution_count": 4,
     "metadata": {},
     "output_type": "execute_result"
    }
   ],
   "source": [
    "a=np.array([3,4,5,1,7])\n",
    "np.where(a>2)"
   ]
  },
  {
   "cell_type": "code",
   "execution_count": 8,
   "id": "1f798595-3eb9-4081-a5f6-45d38c48816d",
   "metadata": {},
   "outputs": [
    {
     "data": {
      "text/plain": [
       "(array([], dtype=int64),)"
      ]
     },
     "execution_count": 8,
     "metadata": {},
     "output_type": "execute_result"
    }
   ],
   "source": [
    "np.where(a==2)"
   ]
  },
  {
   "cell_type": "code",
   "execution_count": 10,
   "id": "c9f8fc33-97cf-4c4c-a598-090b19877bae",
   "metadata": {},
   "outputs": [
    {
     "data": {
      "text/plain": [
       "(array([0], dtype=int64),)"
      ]
     },
     "execution_count": 10,
     "metadata": {},
     "output_type": "execute_result"
    }
   ],
   "source": [
    "np.where(a==3)"
   ]
  },
  {
   "cell_type": "code",
   "execution_count": 14,
   "id": "796d10ed-bce8-4a71-b10a-fde9d48af56f",
   "metadata": {},
   "outputs": [
    {
     "data": {
      "text/plain": [
       "(array([0, 1, 2, 4, 5], dtype=int64),)"
      ]
     },
     "execution_count": 14,
     "metadata": {},
     "output_type": "execute_result"
    }
   ],
   "source": [
    "b=np.array([2,3,4,0,5,6,0,0])\n",
    "np.nonzero(b)"
   ]
  },
  {
   "cell_type": "code",
   "execution_count": 18,
   "id": "3fab04c0-1f4e-4bea-a871-f8358b6c62aa",
   "metadata": {},
   "outputs": [
    {
     "data": {
      "text/plain": [
       "array([ 6, 11, 19, 20])"
      ]
     },
     "execution_count": 18,
     "metadata": {},
     "output_type": "execute_result"
    }
   ],
   "source": [
    "c=np.array([4,5,6,11,19,20])\n",
    "np.extract(c>5,c)"
   ]
  },
  {
   "cell_type": "markdown",
   "id": "ac639407-ba08-45c3-944e-e1802290dbea",
   "metadata": {},
   "source": [
    "### @numpy is fixed length:\n",
    "\n",
    "    * np.append():\n",
    "       -it is used to add the lement in the numpy array \n",
    "       -it will not make changes directly in exicting array, we have to create a new array to see the changes\n",
    "       -it is taking extra array for append\n",
    "       syntax: np.append(array_element)\n",
    "\n",
    "    * np.insert():\n",
    "       -it will insert the element into numpy array at the particular position \n",
    "       -but to see the changes we have create another numpy array\n",
    "       syntax: np,insert(array_name,index,item)\n",
    "\n",
    "    * np.concatenate():\n",
    "       -it is used to concatenate the numpy array to another numpy array\n",
    "       -it will create a numpy array\n",
    "        Syntax:np.concatenate((array_name,[i1,i2----]))\n"
   ]
  },
  {
   "cell_type": "code",
   "execution_count": 20,
   "id": "40e318ae-a1a6-4351-8272-47820a219eca",
   "metadata": {},
   "outputs": [
    {
     "data": {
      "text/plain": [
       "array([ 3,  4,  5,  6,  7, 45])"
      ]
     },
     "execution_count": 20,
     "metadata": {},
     "output_type": "execute_result"
    }
   ],
   "source": [
    "p=np.array([3,4,5,6,7])\n",
    "np.append(p,45)"
   ]
  },
  {
   "cell_type": "code",
   "execution_count": 22,
   "id": "80d986d3-56d0-4f29-a91f-6bbeccae8dd2",
   "metadata": {},
   "outputs": [
    {
     "data": {
      "text/plain": [
       "array([3, 4, 5, 6, 7])"
      ]
     },
     "execution_count": 22,
     "metadata": {},
     "output_type": "execute_result"
    }
   ],
   "source": [
    "p"
   ]
  },
  {
   "cell_type": "code",
   "execution_count": 24,
   "id": "61bd93cd-bac9-4594-8878-45c35ac0db28",
   "metadata": {},
   "outputs": [
    {
     "data": {
      "text/plain": [
       "array([  3,   4, 100,   5,   6,   7,   8,   9])"
      ]
     },
     "execution_count": 24,
     "metadata": {},
     "output_type": "execute_result"
    }
   ],
   "source": [
    "q=np.array([3,4,5,6,7,8,9])\n",
    "r=np.insert(q,2,100)\n",
    "r"
   ]
  },
  {
   "cell_type": "code",
   "execution_count": 32,
   "id": "9ea95da3-5545-490c-bd51-df5cdbb684f9",
   "metadata": {},
   "outputs": [
    {
     "data": {
      "text/plain": [
       "array([ 45,  67,  89,  90, 100,   1,   2,   3,   4])"
      ]
     },
     "execution_count": 32,
     "metadata": {},
     "output_type": "execute_result"
    }
   ],
   "source": [
    "d=np.array([45,67,89,90,100])\n",
    "h=np.concatenate([d,[1,2,3,4]])\n",
    "h"
   ]
  },
  {
   "cell_type": "markdown",
   "id": "4969ae2f-5461-451d-8253-8f9025c798f2",
   "metadata": {},
   "source": [
    "### @10. reshaping:\n",
    "    -it is converting the one numpy array into another dimensions\n",
    "    Syntax:\n",
    "      1. array_name=np.array([]).reshape(x_dim,y_dim)\n",
    "      2.array_name.reshape()\n",
    "    -number of elements before reshaping and after reshaping must be equal \n",
    "\n",
    "    -if only one row present in matrix:row vector:(1*n)\n",
    "    -if only one column present in matrix:column vector:(n*1)\n",
    "\n",
    "### @11.Accessing the elements of numpy array:\n",
    "    -a. we can access the numpybelements using indexing\n"
   ]
  },
  {
   "cell_type": "code",
   "execution_count": 44,
   "id": "789118d3-3d22-47c7-b976-3a316377961b",
   "metadata": {},
   "outputs": [
    {
     "data": {
      "text/plain": [
       "(12,)"
      ]
     },
     "execution_count": 44,
     "metadata": {},
     "output_type": "execute_result"
    }
   ],
   "source": [
    "a1=np.array([0,0,0,0,0,0,0,1,0,0,0,0])\n",
    "a1.shape"
   ]
  },
  {
   "cell_type": "code",
   "execution_count": 48,
   "id": "79e6223d-738d-4ff6-b0e4-92988e486b0c",
   "metadata": {},
   "outputs": [
    {
     "data": {
      "text/plain": [
       "array([[0],\n",
       "       [0],\n",
       "       [0],\n",
       "       [0],\n",
       "       [0],\n",
       "       [0],\n",
       "       [0],\n",
       "       [1],\n",
       "       [0],\n",
       "       [0],\n",
       "       [0],\n",
       "       [0]])"
      ]
     },
     "execution_count": 48,
     "metadata": {},
     "output_type": "execute_result"
    }
   ],
   "source": [
    "a1.reshape(12,1)"
   ]
  },
  {
   "cell_type": "code",
   "execution_count": 50,
   "id": "0b5f66f2-b9e9-4684-8245-6f65f5a37ed2",
   "metadata": {},
   "outputs": [
    {
     "data": {
      "text/plain": [
       "array([[0, 0, 0, 0, 0, 0],\n",
       "       [0, 1, 0, 0, 0, 0]])"
      ]
     },
     "execution_count": 50,
     "metadata": {},
     "output_type": "execute_result"
    }
   ],
   "source": [
    "a1.reshape(2,6)"
   ]
  },
  {
   "cell_type": "code",
   "execution_count": 52,
   "id": "78bce6dd-99ca-4b0d-824f-662b29d7f97d",
   "metadata": {},
   "outputs": [
    {
     "data": {
      "text/plain": [
       "array([[[0, 0, 0],\n",
       "        [0, 0, 0]],\n",
       "\n",
       "       [[0, 1, 0],\n",
       "        [0, 0, 0]]])"
      ]
     },
     "execution_count": 52,
     "metadata": {},
     "output_type": "execute_result"
    }
   ],
   "source": [
    "a1.reshape(2,2,3)"
   ]
  },
  {
   "cell_type": "code",
   "execution_count": 2,
   "id": "08688cb0-452b-4b69-9f5a-14fe44ceef67",
   "metadata": {},
   "outputs": [],
   "source": [
    "import numpy as np"
   ]
  },
  {
   "cell_type": "code",
   "execution_count": 4,
   "id": "94c1b0d9-ff11-46ed-803d-722c9f372dff",
   "metadata": {},
   "outputs": [
    {
     "data": {
      "text/plain": [
       "4"
      ]
     },
     "execution_count": 4,
     "metadata": {},
     "output_type": "execute_result"
    }
   ],
   "source": [
    "a=np.array([2,3,4,5,6,7])\n",
    "a[2]"
   ]
  },
  {
   "cell_type": "code",
   "execution_count": 10,
   "id": "efc92ce2-1ce7-4d26-a4a0-5bb66c830dc4",
   "metadata": {},
   "outputs": [
    {
     "data": {
      "text/plain": [
       "4"
      ]
     },
     "execution_count": 10,
     "metadata": {},
     "output_type": "execute_result"
    }
   ],
   "source": [
    "b=np.array([[2,3],[4,5]])\n",
    "b[1][0]"
   ]
  },
  {
   "cell_type": "code",
   "execution_count": 14,
   "id": "793c5f08-fa1e-4e9c-bfbd-a67c523ded95",
   "metadata": {},
   "outputs": [
    {
     "data": {
      "text/plain": [
       "array([0, 1, 2, 3, 4, 4, 3, 2, 1, 0])"
      ]
     },
     "execution_count": 14,
     "metadata": {},
     "output_type": "execute_result"
    }
   ],
   "source": [
    "a1=np.arange(10)\n",
    "a2=np.arange(5)\n",
    "a1[5:]=a2[::-1]\n",
    "a1"
   ]
  },
  {
   "cell_type": "code",
   "execution_count": 16,
   "id": "81621d66-7f3b-4700-ab84-7c68dde3a33e",
   "metadata": {},
   "outputs": [
    {
     "data": {
      "text/plain": [
       "False"
      ]
     },
     "execution_count": 16,
     "metadata": {},
     "output_type": "execute_result"
    }
   ],
   "source": [
    "b1=np.array([2,3,4,5])\n",
    "b2=np.array([1,2,3,4])\n",
    "b3=np.array([2,3,4,5])\n",
    "d=((b1<=b2)&(b1<=b3)).all()\n",
    "d"
   ]
  },
  {
   "cell_type": "code",
   "execution_count": 2,
   "id": "3e3e25ec-fab5-4d98-b4ea-0d09e2b7c966",
   "metadata": {},
   "outputs": [],
   "source": [
    "import numpy as np"
   ]
  },
  {
   "cell_type": "markdown",
   "id": "2e7a519e-756a-498a-981f-f04171495d5b",
   "metadata": {},
   "source": [
    "### @12. Statistics operation on numpy array :\n",
    "\n",
    "* Statistics: R A Fisher\n",
    "  \n",
    "      -statistics is a way to solve a problem by using data\n",
    "        1.descriptive statistics:\n",
    "          -describing the data\n",
    "          -we have different techniques and measures in descriptive stats to describe the data\n",
    "          -we want to explore the data\n",
    "  \n",
    "          -statistics measures:\n",
    "  \n",
    "            first moment business decision (measures of central tendencies):\n",
    "  \n",
    "               1.mean:average of the data\n",
    "                   mathematical notation: \n",
    "                      mean=(sum of all observation)/total number of observation\n",
    "                   time:o(n)\n",
    "                   -it is getting influenced by the outliers\n",
    "                   -outliers:out of context value\n",
    "                  Syntax: np.means(array_name)\n",
    "                \n",
    "               2.median:it will give the avarage\n",
    "                   -when we have outlies present in the dataset the better to use median\n",
    "                   -becoz median is not influenced by the outliers\n",
    "                   formulation\n",
    "                      a.no. of points are odd:\n",
    "                         i.sort the datapoints\n",
    "                        ii.middle element is means----O(nlogn)\n",
    "                      b.no. of datapoints are even:\n",
    "                         i.sort\n",
    "                        ii.avg of mid element+(mid+1)element----O(nlogn)\n",
    "                   Syntax: np.median(array_name)\n",
    "\n",
    "               3.mode(scipy):\n",
    "                     -it will work on the categorical data\n",
    "                     -mode means maximum occurrence of the datapoints \n",
    "                     -there can be multiple modes in the dataset se called it as multimodal dataset\n",
    "                     -if we wanted to select any one or two its completely depends upon problem statements\n",
    "  \n",
    "                   there is two types of data in statistics:\n",
    "  \n",
    "                     1.numerical data:\n",
    "                        -it will contains the numerical value\n",
    "                        -numerical data again classify into two types:\n",
    "                           a. continuous data:it is having continuous real value \n",
    "                               ex:weight,height etc\n",
    "                           b. discrete data: it will not contain fractional value\n",
    "                               ex:count of student\n",
    "                        -mean and medium will works on numerical data only\n",
    "  \n",
    "                      2.categorical data:\n",
    "                        -it will specify the category\n",
    "                        -we cannot find out the mean and median for categorical data\n",
    "\n",
    "              second moment business decision: (measures of the dispersion)\n",
    "  \n",
    "                 -dispersion means how the data points are varying \n",
    "                  1.variance:\n",
    "                    -how far each data point from the average\n",
    "                    Syntax: np.var(array_name)\n",
    "                  2.standard deviation:\n",
    "                    -it is a square root of variance\n",
    "                    Syntax: np.std(array_name)\n",
    "                  3.range : max(array)\n",
    "                         min(array)\n",
    "\n",
    "            cumsum:\n",
    "                [1,2,,4,5]:[1,3,6,10,15]\n",
    "                Syntax: np.cumsum(array_name)\n",
    "\n",
    "          Percentile :\n",
    "             Syntax:np.percentile(array_name,value)\n",
    "\n",
    "          co-relation:\n",
    "             relationship between the two features\n",
    "             rho:1----strong relation\n",
    "                 0----no relation\n",
    "                 -1----weak relation\n",
    "             Syntax: np.corrcoef(a1,a1)\n",
    "\n",
    "      2.inferential statistics\n",
    "          -we are making some conclusion based on the sample and inferring about the population\n",
    "          \n"
   ]
  },
  {
   "cell_type": "code",
   "execution_count": 4,
   "id": "920472a8-3857-451b-b98e-53dd1d045abd",
   "metadata": {},
   "outputs": [
    {
     "name": "stdout",
     "output_type": "stream",
     "text": [
      "3\n",
      "4\n",
      "5\n",
      "6\n",
      "7\n",
      "8\n"
     ]
    }
   ],
   "source": [
    "a=np.array([3,4,5,6,7,8])\n",
    "for i in a:\n",
    "    print(i)"
   ]
  },
  {
   "cell_type": "code",
   "execution_count": 25,
   "id": "58ec065f-935b-4ea4-a8a9-fcd8f6fbc375",
   "metadata": {},
   "outputs": [
    {
     "data": {
      "text/plain": [
       "array([[18, 17, 19, 14],\n",
       "       [12, 15, 13, 15],\n",
       "       [13, 27, 24, 22],\n",
       "       [26, 25, 19, 23],\n",
       "       [24, 12, 20, 24]])"
      ]
     },
     "execution_count": 25,
     "metadata": {},
     "output_type": "execute_result"
    }
   ],
   "source": [
    "#13 iterate numpy array \n",
    "b=np.random.randint(10,30,(4,5)).reshape(5,4)\n",
    "b"
   ]
  },
  {
   "cell_type": "code",
   "execution_count": 27,
   "id": "c065822f-73cf-4742-8b15-64f247af3c50",
   "metadata": {},
   "outputs": [
    {
     "name": "stdout",
     "output_type": "stream",
     "text": [
      "18\n",
      "17\n",
      "19\n",
      "14\n",
      "12\n",
      "15\n",
      "13\n",
      "15\n",
      "13\n",
      "27\n",
      "24\n",
      "22\n",
      "26\n",
      "25\n",
      "19\n",
      "23\n",
      "24\n",
      "12\n",
      "20\n",
      "24\n"
     ]
    }
   ],
   "source": [
    "for i in range(len(b)):\n",
    "    for j in range(len(b[0])):\n",
    "        print(b[i][j])"
   ]
  },
  {
   "cell_type": "code",
   "execution_count": 29,
   "id": "b16bdf8b-6cbc-420a-9b35-37ab28373abd",
   "metadata": {},
   "outputs": [
    {
     "data": {
      "text/plain": [
       "array([[12, 15, 13, 15],\n",
       "       [26, 25, 19, 23]])"
      ]
     },
     "execution_count": 29,
     "metadata": {},
     "output_type": "execute_result"
    }
   ],
   "source": [
    "#14 fancy indexing\n",
    "b[[1,3]]"
   ]
  },
  {
   "cell_type": "code",
   "execution_count": 31,
   "id": "fae8915c-640c-4214-9d3a-10f452485552",
   "metadata": {},
   "outputs": [
    {
     "data": {
      "text/plain": [
       "array([[ True,  True,  True, False],\n",
       "       [False, False, False, False],\n",
       "       [False,  True,  True,  True],\n",
       "       [ True,  True,  True,  True],\n",
       "       [ True, False,  True,  True]])"
      ]
     },
     "execution_count": 31,
     "metadata": {},
     "output_type": "execute_result"
    }
   ],
   "source": [
    "#15 boolean indexing/filtering\n",
    "b>15"
   ]
  },
  {
   "cell_type": "code",
   "execution_count": 20,
   "id": "0e159422-3f66-422f-b704-0eeee5dda889",
   "metadata": {},
   "outputs": [
    {
     "data": {
      "text/plain": [
       "array([[ True,  True, False,  True],\n",
       "       [ True, False, False, False],\n",
       "       [ True, False, False, False],\n",
       "       [ True,  True, False, False],\n",
       "       [ True, False, False, False]])"
      ]
     },
     "execution_count": 20,
     "metadata": {},
     "output_type": "execute_result"
    }
   ],
   "source": [
    "f=(b>15)&(b%2==0)\n",
    "f"
   ]
  },
  {
   "cell_type": "markdown",
   "id": "86767744-eeb4-4e8c-967b-1822a78ee1ed",
   "metadata": {},
   "source": [
    "### @16.Brodcasting:\n",
    "     -its ability to expand the array to perform the operations with the larger array\n",
    "     -broadcasting is a process to perform the operation of small matrices and large matrix\n",
    "     -with the help of this concept different size matrix operation can perform\n"
   ]
  },
  {
   "cell_type": "code",
   "execution_count": 22,
   "id": "59875c3f-2c63-41f0-999e-cc135ba7cbc8",
   "metadata": {},
   "outputs": [
    {
     "data": {
      "text/plain": [
       "array([[5., 5., 5.],\n",
       "       [5., 5., 5.],\n",
       "       [5., 5., 5.]])"
      ]
     },
     "execution_count": 22,
     "metadata": {},
     "output_type": "execute_result"
    }
   ],
   "source": [
    "#Broadcasting\n",
    "aa=np.ones((3,3))+4\n",
    "aa"
   ]
  },
  {
   "cell_type": "code",
   "execution_count": 24,
   "id": "5ee66a3f-82ba-4d92-87a6-c57430351656",
   "metadata": {},
   "outputs": [],
   "source": [
    "a1=np.array([[2,3],[4,5]])\n",
    "a2=np.array([1,2])"
   ]
  },
  {
   "cell_type": "code",
   "execution_count": 26,
   "id": "2b8058c6-038e-4036-876a-99d091042d21",
   "metadata": {},
   "outputs": [
    {
     "data": {
      "text/plain": [
       "array([1, 2])"
      ]
     },
     "execution_count": 26,
     "metadata": {},
     "output_type": "execute_result"
    }
   ],
   "source": [
    "a2"
   ]
  },
  {
   "cell_type": "code",
   "execution_count": 28,
   "id": "6c004b4c-61c6-4193-b994-49613bcb7101",
   "metadata": {},
   "outputs": [
    {
     "data": {
      "text/plain": [
       "array([[2, 3],\n",
       "       [4, 5]])"
      ]
     },
     "execution_count": 28,
     "metadata": {},
     "output_type": "execute_result"
    }
   ],
   "source": [
    "a1"
   ]
  },
  {
   "cell_type": "code",
   "execution_count": 30,
   "id": "743e3714-181b-4865-b0ec-10115546d939",
   "metadata": {},
   "outputs": [
    {
     "data": {
      "text/plain": [
       "array([[3, 5],\n",
       "       [5, 7]])"
      ]
     },
     "execution_count": 30,
     "metadata": {},
     "output_type": "execute_result"
    }
   ],
   "source": [
    "a1+a2"
   ]
  },
  {
   "cell_type": "code",
   "execution_count": 32,
   "id": "b3fe7efd-3b8a-4ace-82ec-f994774bbdd9",
   "metadata": {},
   "outputs": [
    {
     "data": {
      "text/plain": [
       "array([[0, 1, 2],\n",
       "       [3, 4, 5],\n",
       "       [6, 7, 8]])"
      ]
     },
     "execution_count": 32,
     "metadata": {},
     "output_type": "execute_result"
    }
   ],
   "source": [
    "ab=np.arange(9).reshape(3,3)\n",
    "ac=np.arange(3).reshape(3,1)\n",
    "ab"
   ]
  },
  {
   "cell_type": "code",
   "execution_count": 34,
   "id": "b371bf3f-f4ef-41eb-ba6c-6eefd331038f",
   "metadata": {},
   "outputs": [
    {
     "data": {
      "text/plain": [
       "array([[0],\n",
       "       [1],\n",
       "       [2]])"
      ]
     },
     "execution_count": 34,
     "metadata": {},
     "output_type": "execute_result"
    }
   ],
   "source": [
    "ac"
   ]
  },
  {
   "cell_type": "code",
   "execution_count": 36,
   "id": "9ec69603-1783-4c9d-8b4a-cab732f47be1",
   "metadata": {},
   "outputs": [
    {
     "data": {
      "text/plain": [
       "array([[ 0,  1,  2],\n",
       "       [ 4,  5,  6],\n",
       "       [ 8,  9, 10]])"
      ]
     },
     "execution_count": 36,
     "metadata": {},
     "output_type": "execute_result"
    }
   ],
   "source": [
    "ab+ac"
   ]
  },
  {
   "cell_type": "code",
   "execution_count": 54,
   "id": "1ff9f8c3-496b-4245-aefe-5e78c618310f",
   "metadata": {},
   "outputs": [
    {
     "data": {
      "text/plain": [
       "array([[0, 1, 2],\n",
       "       [3, 4, 5]])"
      ]
     },
     "execution_count": 54,
     "metadata": {},
     "output_type": "execute_result"
    }
   ],
   "source": [
    "ab1=np.arange(2).reshape(2,1)\n",
    "ac1=np.arange(6).reshape(2,3)\n",
    "ac1"
   ]
  },
  {
   "cell_type": "code",
   "execution_count": 56,
   "id": "7f87e1c1-98e8-429c-846e-88bba4018e36",
   "metadata": {},
   "outputs": [
    {
     "data": {
      "text/plain": [
       "array([[0],\n",
       "       [1]])"
      ]
     },
     "execution_count": 56,
     "metadata": {},
     "output_type": "execute_result"
    }
   ],
   "source": [
    "ab1"
   ]
  },
  {
   "cell_type": "code",
   "execution_count": 58,
   "id": "86e3318c-41d3-4070-94c4-b677945810c3",
   "metadata": {},
   "outputs": [
    {
     "data": {
      "text/plain": [
       "array([[0, 1, 2],\n",
       "       [4, 5, 6]])"
      ]
     },
     "execution_count": 58,
     "metadata": {},
     "output_type": "execute_result"
    }
   ],
   "source": [
    "ab1+ac1"
   ]
  },
  {
   "cell_type": "code",
   "execution_count": 62,
   "id": "7261330e-7703-41cf-8218-1def44923fd4",
   "metadata": {},
   "outputs": [],
   "source": [
    "ab2=np.arange(3)[::-1].reshape(3,1)\n",
    "ac2=np.arange(6).reshape(3,2)"
   ]
  },
  {
   "cell_type": "code",
   "execution_count": 64,
   "id": "08aad0ba-6e7b-4665-a468-3cce43d4bce2",
   "metadata": {},
   "outputs": [
    {
     "data": {
      "text/plain": [
       "array([[2, 3],\n",
       "       [3, 4],\n",
       "       [4, 5]])"
      ]
     },
     "execution_count": 64,
     "metadata": {},
     "output_type": "execute_result"
    }
   ],
   "source": [
    "ab2+ac2"
   ]
  },
  {
   "cell_type": "code",
   "execution_count": 2,
   "id": "13d7f268-c7e0-4ae7-9398-32db64c80479",
   "metadata": {},
   "outputs": [],
   "source": [
    "import numpy as np"
   ]
  },
  {
   "cell_type": "markdown",
   "id": "c3ea364e-42e3-46d7-81bd-d1fb487ee206",
   "metadata": {},
   "source": [
    "* why numpy is faster in that list\n",
    " it is closer to hardware and it is follow cache memory\n",
    "\n",
    "* we  have 3D numpy array with random we need to add there array using loop\n",
    "\n",
    "* RMO (Row measure order):\n",
    "    np.reshape(array_name,dimension,'C')\n",
    "  C-PL will follows the row major order\n",
    "\n",
    "* CMO: column measure order\n",
    "    np.reshape(array_name,dimension,'C')\n",
    "\n",
    "  FORTRAN PL will follows CMO\n"
   ]
  },
  {
   "cell_type": "code",
   "execution_count": 4,
   "id": "d73b4c52-40c8-4310-8408-988e97911583",
   "metadata": {},
   "outputs": [
    {
     "data": {
      "text/plain": [
       "array([[16, 19, 11],\n",
       "       [14, 11, 16],\n",
       "       [13, 16, 15]])"
      ]
     },
     "execution_count": 4,
     "metadata": {},
     "output_type": "execute_result"
    }
   ],
   "source": [
    "a=np.random.randint(10,20,(3,3))\n",
    "b=np.random.randint(5,8,(3,3))\n",
    "a"
   ]
  },
  {
   "cell_type": "code",
   "execution_count": 6,
   "id": "f22b7fff-61ea-4194-81c7-719aad43ad67",
   "metadata": {},
   "outputs": [
    {
     "data": {
      "text/plain": [
       "array([[6, 7, 5],\n",
       "       [5, 5, 6],\n",
       "       [7, 6, 5]])"
      ]
     },
     "execution_count": 6,
     "metadata": {},
     "output_type": "execute_result"
    }
   ],
   "source": [
    "b"
   ]
  },
  {
   "cell_type": "code",
   "execution_count": 8,
   "id": "bd08390c-629b-4ffd-9fb6-a2daa75fbf6a",
   "metadata": {},
   "outputs": [
    {
     "data": {
      "text/plain": [
       "array([[22, 26, 16],\n",
       "       [19, 16, 22],\n",
       "       [20, 22, 20]])"
      ]
     },
     "execution_count": 8,
     "metadata": {},
     "output_type": "execute_result"
    }
   ],
   "source": [
    "a+b"
   ]
  },
  {
   "cell_type": "code",
   "execution_count": 14,
   "id": "9c82eb2b-c622-450d-a735-e80406c4f5b7",
   "metadata": {},
   "outputs": [
    {
     "data": {
      "text/plain": [
       "array([[0, 1, 2],\n",
       "       [3, 4, 5],\n",
       "       [6, 7, 8]])"
      ]
     },
     "execution_count": 14,
     "metadata": {},
     "output_type": "execute_result"
    }
   ],
   "source": [
    "c=np.arange(9).reshape(3,3)\n",
    "c"
   ]
  },
  {
   "cell_type": "code",
   "execution_count": 16,
   "id": "d2412ce5-59ef-4043-b139-b3f077a08882",
   "metadata": {},
   "outputs": [
    {
     "data": {
      "text/plain": [
       "array([[0, 1, 2, 3, 4, 5, 6, 7, 8]])"
      ]
     },
     "execution_count": 16,
     "metadata": {},
     "output_type": "execute_result"
    }
   ],
   "source": [
    "np.reshape(c,(1,9),'C')"
   ]
  },
  {
   "cell_type": "code",
   "execution_count": 20,
   "id": "36ae9421-3119-4acb-a0be-af3309d13b54",
   "metadata": {},
   "outputs": [
    {
     "data": {
      "text/plain": [
       "array([[0, 3, 6, 1, 4, 7, 2, 5, 8]])"
      ]
     },
     "execution_count": 20,
     "metadata": {},
     "output_type": "execute_result"
    }
   ],
   "source": [
    "np.reshape(c,(1,9),'F')"
   ]
  },
  {
   "cell_type": "markdown",
   "id": "c53ca6c7-4b51-4741-b05e-57702ced15d0",
   "metadata": {},
   "source": [
    "### @concatenate two matrices:\n",
    "\n",
    "    -np.concatenate([])\n",
    "    -np.hstack([]):it will concatenate two matrices horizontally\n",
    "    -np.vstack([]):it will concatenate two matrices vertically\n"
   ]
  },
  {
   "cell_type": "code",
   "execution_count": 18,
   "id": "6fe1b70f-22ed-468d-a461-d7a8830e7af0",
   "metadata": {},
   "outputs": [
    {
     "data": {
      "text/plain": [
       "array([[1, 2],\n",
       "       [3, 4],\n",
       "       [5, 6],\n",
       "       [7, 8]])"
      ]
     },
     "execution_count": 18,
     "metadata": {},
     "output_type": "execute_result"
    }
   ],
   "source": [
    "a1=np.array([[1,2],[3,4]])\n",
    "a2=np.array([[5,6],[7,8]])\n",
    "np.concatenate([a1,a2])"
   ]
  },
  {
   "cell_type": "code",
   "execution_count": 22,
   "id": "a08152f6-121a-47d3-bf5b-5364f25d789a",
   "metadata": {},
   "outputs": [
    {
     "data": {
      "text/plain": [
       "array([[1, 2, 5, 6],\n",
       "       [3, 4, 7, 8]])"
      ]
     },
     "execution_count": 22,
     "metadata": {},
     "output_type": "execute_result"
    }
   ],
   "source": [
    "np.hstack([a1,a2])"
   ]
  },
  {
   "cell_type": "code",
   "execution_count": 26,
   "id": "211c4732-4969-488b-8de8-e8d782f524c4",
   "metadata": {},
   "outputs": [
    {
     "data": {
      "text/plain": [
       "array([[1, 2],\n",
       "       [3, 4],\n",
       "       [5, 6],\n",
       "       [7, 8]])"
      ]
     },
     "execution_count": 26,
     "metadata": {},
     "output_type": "execute_result"
    }
   ],
   "source": [
    "np.vstack([a1,a2])"
   ]
  },
  {
   "cell_type": "markdown",
   "id": "68403cb5-baa9-424d-b2e3-219c4a9ff4bd",
   "metadata": {},
   "source": [
    "### *** Copies and Views(important question in interview)\n",
    "### @Copy():\n",
    "    -when we use the copy(),it will create duplicate array with different buffer\n",
    "    -the changes made in copied array will not affect the original array and vice versa\n",
    "    -when we are using copy we required extra memory buffer so it is not memory efficient\n",
    "    -when we are using copy() we have to stored the data as well as meta data"
   ]
  },
  {
   "cell_type": "code",
   "execution_count": 28,
   "id": "3226438c-e991-46a5-aa6d-755d2a19fdc0",
   "metadata": {},
   "outputs": [
    {
     "name": "stdout",
     "output_type": "stream",
     "text": [
      "[1 2 3 4 5]\n",
      "[   1 1000    3    4    5]\n"
     ]
    }
   ],
   "source": [
    "aa=np.array([1,2,3,4,5])\n",
    "ab=aa.copy()\n",
    "ab[1]=1000\n",
    "print(aa)\n",
    "print(ab)"
   ]
  },
  {
   "cell_type": "markdown",
   "id": "b085f6bb-87f7-401d-ab2b-108f73d0727d",
   "metadata": {},
   "source": [
    "### @View():\n",
    "\n",
    "    -when we use view() it will not create the copy,it will create the view\n",
    "    -both original array and views are at the same place\n",
    "    -so we don't required extra buffer to store data\n",
    "    -but we required to store the metadata to differentiate two array\n",
    "    -so view() is memory efficient\n",
    "    -by using the view() numpy will do the memory optimization\n",
    "    -to check the both array at same space:\n",
    "     Syntax: np.shares_memory(arr1,arr2)\n"
   ]
  },
  {
   "cell_type": "code",
   "execution_count": 32,
   "id": "eb1a1619-38c1-475d-8eae-46b2b88dbc5d",
   "metadata": {},
   "outputs": [
    {
     "name": "stdout",
     "output_type": "stream",
     "text": [
      "[2000    6    7    8    9]\n",
      "[2000    6    7    8    9]\n"
     ]
    }
   ],
   "source": [
    "aa1=np.array([5,6,7,8,9])\n",
    "ab1=aa1.view()\n",
    "aa1[0]=2000\n",
    "print(aa1)\n",
    "print(ab1)"
   ]
  },
  {
   "cell_type": "code",
   "execution_count": 36,
   "id": "1d66c90a-eb95-405a-b4fe-764d57c75b59",
   "metadata": {},
   "outputs": [
    {
     "data": {
      "text/plain": [
       "True"
      ]
     },
     "execution_count": 36,
     "metadata": {},
     "output_type": "execute_result"
    }
   ],
   "source": [
    "np.shares_memory(aa1,ab1)\n"
   ]
  },
  {
   "cell_type": "code",
   "execution_count": 42,
   "id": "298fb0a6-fc15-4c0d-b8dc-425aa6fd978d",
   "metadata": {},
   "outputs": [
    {
     "data": {
      "text/plain": [
       "array([[0, 1, 2],\n",
       "       [3, 4, 5],\n",
       "       [6, 7, 8]])"
      ]
     },
     "execution_count": 42,
     "metadata": {},
     "output_type": "execute_result"
    }
   ],
   "source": [
    "b=np.arange(9).reshape(3,3)\n",
    "b"
   ]
  },
  {
   "cell_type": "markdown",
   "id": "6803b9f7-d0db-4458-b17f-20f6774819d5",
   "metadata": {},
   "source": [
    "### @flattening:\n",
    "     -converting multidimensional array into single dimension\n",
    "      Syntax: array_name.flatten()----it copy()---it is not memory efficient\n"
   ]
  },
  {
   "cell_type": "code",
   "execution_count": 44,
   "id": "4b2d3593-7dac-4918-a3bd-065379e230c6",
   "metadata": {},
   "outputs": [
    {
     "data": {
      "text/plain": [
       "array([0, 1, 2, 3, 4, 5, 6, 7, 8])"
      ]
     },
     "execution_count": 44,
     "metadata": {},
     "output_type": "execute_result"
    }
   ],
   "source": [
    "c=b.flatten()\n",
    "c"
   ]
  },
  {
   "cell_type": "markdown",
   "id": "78798e47-5d25-458d-8ef6-8343773e73af",
   "metadata": {},
   "source": [
    "### @ravel:\n",
    "     - converting multidimensional array into single dimension\n",
    "     Syntax: array_name.ravel()---it is view---it is memory efficient\n"
   ]
  },
  {
   "cell_type": "code",
   "execution_count": 48,
   "id": "7276c18a-41ed-46cb-b64c-80b914b74a5d",
   "metadata": {},
   "outputs": [
    {
     "data": {
      "text/plain": [
       "array([0, 1, 2, 3, 4, 5, 6, 7, 8])"
      ]
     },
     "execution_count": 48,
     "metadata": {},
     "output_type": "execute_result"
    }
   ],
   "source": [
    "d=b.ravel()\n",
    "d"
   ]
  },
  {
   "cell_type": "markdown",
   "id": "43fc4625-72ae-4b11-8ada-ff770acf459f",
   "metadata": {},
   "source": [
    "### *reshaping is also copying so it is not memory efficient operation"
   ]
  },
  {
   "cell_type": "code",
   "execution_count": 50,
   "id": "bcc25b05-ad85-4239-9238-fcc0ca61b831",
   "metadata": {},
   "outputs": [],
   "source": [
    "e=np.zeros((3,2))\n",
    "f=e.T.reshape(3,2)\n",
    "f[0]=500"
   ]
  },
  {
   "cell_type": "code",
   "execution_count": 52,
   "id": "dac8d982-fab3-4e7b-b28a-3259747ec888",
   "metadata": {},
   "outputs": [
    {
     "data": {
      "text/plain": [
       "array([[0., 0.],\n",
       "       [0., 0.],\n",
       "       [0., 0.]])"
      ]
     },
     "execution_count": 52,
     "metadata": {},
     "output_type": "execute_result"
    }
   ],
   "source": [
    "e"
   ]
  },
  {
   "cell_type": "code",
   "execution_count": 54,
   "id": "fa521132-f07c-4678-a444-eb132d9723d9",
   "metadata": {},
   "outputs": [
    {
     "data": {
      "text/plain": [
       "array([[500., 500.],\n",
       "       [  0.,   0.],\n",
       "       [  0.,   0.]])"
      ]
     },
     "execution_count": 54,
     "metadata": {},
     "output_type": "execute_result"
    }
   ],
   "source": [
    "f"
   ]
  },
  {
   "cell_type": "code",
   "execution_count": 56,
   "id": "d3969e76-2b50-46c3-90b0-112b7adc88ad",
   "metadata": {},
   "outputs": [
    {
     "data": {
      "text/plain": [
       "array([0, 1, 2, 3, 4, 5, 6, 7, 8, 9])"
      ]
     },
     "execution_count": 56,
     "metadata": {},
     "output_type": "execute_result"
    }
   ],
   "source": [
    "s=np.arange(10)\n",
    "s"
   ]
  },
  {
   "cell_type": "code",
   "execution_count": 58,
   "id": "f768e496-e377-4dc7-931d-527a14f01031",
   "metadata": {},
   "outputs": [
    {
     "data": {
      "text/plain": [
       "array([0, 2, 4, 6, 8])"
      ]
     },
     "execution_count": 58,
     "metadata": {},
     "output_type": "execute_result"
    }
   ],
   "source": [
    "p=s[::2]\n",
    "p"
   ]
  },
  {
   "cell_type": "code",
   "execution_count": 60,
   "id": "90dbec2d-5c74-466c-82e5-90291bc104a7",
   "metadata": {},
   "outputs": [
    {
     "data": {
      "text/plain": [
       "True"
      ]
     },
     "execution_count": 60,
     "metadata": {},
     "output_type": "execute_result"
    }
   ],
   "source": [
    "np.shares_memory(s,p)"
   ]
  },
  {
   "cell_type": "code",
   "execution_count": 64,
   "id": "416d921d-7023-4d52-aa5b-b4433c549378",
   "metadata": {},
   "outputs": [
    {
     "data": {
      "text/plain": [
       "array([0, 2, 4, 6, 8])"
      ]
     },
     "execution_count": 64,
     "metadata": {},
     "output_type": "execute_result"
    }
   ],
   "source": [
    "q=s[::2].copy()\n",
    "q"
   ]
  },
  {
   "cell_type": "code",
   "execution_count": 66,
   "id": "a70d8a0f-6cc2-4e18-ac96-c86ea7c252b0",
   "metadata": {},
   "outputs": [
    {
     "data": {
      "text/plain": [
       "False"
      ]
     },
     "execution_count": 66,
     "metadata": {},
     "output_type": "execute_result"
    }
   ],
   "source": [
    "np.shares_memory(s,q)"
   ]
  },
  {
   "cell_type": "code",
   "execution_count": null,
   "id": "c76b3211-2c8d-4680-b933-094883d4c136",
   "metadata": {},
   "outputs": [],
   "source": []
  }
 ],
 "metadata": {
  "kernelspec": {
   "display_name": "Python 3 (ipykernel)",
   "language": "python",
   "name": "python3"
  },
  "language_info": {
   "codemirror_mode": {
    "name": "ipython",
    "version": 3
   },
   "file_extension": ".py",
   "mimetype": "text/x-python",
   "name": "python",
   "nbconvert_exporter": "python",
   "pygments_lexer": "ipython3",
   "version": "3.12.7"
  }
 },
 "nbformat": 4,
 "nbformat_minor": 5
}
