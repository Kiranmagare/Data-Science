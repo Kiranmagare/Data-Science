{
 "cells": [
  {
   "cell_type": "markdown",
   "id": "39c181cb-7304-48ed-9bf7-a4e4e8a05745",
   "metadata": {},
   "source": [
    "### Hypothesis Testing:\n",
    "   - Hypothesis--->assumption.\n",
    "   - estimate:\n",
    "   - point estimate?\n",
    "\n",
    "* process:\n",
    "1. defined test statistics\n",
    "2. form the hypothesis\n",
    "3. calculate the value\n",
    "\n",
    "### permutation test:\n",
    "   - original=meu1-meu2\n",
    "   X1-----\n",
    "   X2-----\n",
    "   - combine these two samples x1 and x2\n",
    "   - randomly sampled\n",
    "   - del1=s1------------>meu1\n",
    "   - s2------------>meu2---->meu1-meu2\n",
    "\n",
    "* sort all the x1=meu1-mue2\n",
    "\n",
    "* x1,x2----------original------xn\n",
    "\n",
    "\n",
    "\n",
    "\n"
   ]
  },
  {
   "cell_type": "markdown",
   "id": "5e42c4ab-3517-4908-b753-817bf959ce85",
   "metadata": {},
   "source": [
    "## KS test:\n",
    "   - X and Y are any two random variables\n",
    "   - X=[x1,x2,x3,----xn]\n",
    "   - Y=[y1,y2-------yn]\n",
    "* task:\n",
    "   - check the X and Y are having the same distribution or not.\n",
    "   - X----m\n",
    "   - Y----n\n",
    "   - construct the CDF for both X and Y\n",
    "   - CDF(X)-CDF(Y)=0----->both X and Y are having same distribution\n",
    "   - m and n value large\n",
    "   - CDF(X) and CDF(Y) are overlapping\n",
    "   - value --->small X and Y---->if this case there may the possibility that null hypothesis is true\n",
    "   - CDF(x)-cdf(y)--->x\n",
    "\n",
    "##### P_value=P(x|h0)=0.05>--->accepted\n",
    "\n",
    "\n",
    "* Therotical aspect\n",
    "   - Dn,m---Test statistics\n",
    "   - Dn,m=supx{F1,n(X)-F2,m(Y)}\n",
    "   - H0-->X and Y are having same distribution\n",
    "   - H1-->not having same distribution\n",
    "   - alpha~p_value\n",
    "   - condition for rejecting the null hypothesis\n",
    "\n",
    "     * Dn,m>c(alpha)*sqrt((n+m)/n*m)\n",
    "\n",
    "   - alpha=0.05\n",
    "   - m=1000\n",
    "   - n=1000\n",
    "   - c(alpha)=1.358\n",
    "   - Dn,m>0.047892--->Null hypothesis is rejected\n",
    "\n",
    "   - Dn,m>any value----->false--->alternative hypothesis is accepted.\n",
    "\n",
    "* process of applying the ks test:\n",
    "\n",
    "    - check the SL is following Gaussian distribution or not\n",
    "1. we need to standardize the data(normalizaed).\n",
    "\n",
    "       PL-np.mean(SL)/(np.std(SL))\n",
    "3. stats.kstest(normalized_values,'norm')\n",
    "\n",
    "       test_sts,p_value=stats.kstest(normalized_values,'norm')\n",
    "\n",
    "4. standardization=PL-mean(PL)/sd(PL)----Zscore"
   ]
  },
  {
   "cell_type": "code",
   "execution_count": 14,
   "id": "f24bf549-ba2a-42d9-8a30-1f9e0c171fc1",
   "metadata": {},
   "outputs": [],
   "source": [
    "import pandas as pd\n",
    "import numpy as np\n",
    "import matplotlib.pyplot as plt\n",
    "import seaborn as sns\n",
    "import scipy.stats as stats"
   ]
  },
  {
   "cell_type": "code",
   "execution_count": 5,
   "id": "295eddeb-59fe-4ecd-95fd-75187946ac5c",
   "metadata": {},
   "outputs": [
    {
     "data": {
      "text/html": [
       "<div>\n",
       "<style scoped>\n",
       "    .dataframe tbody tr th:only-of-type {\n",
       "        vertical-align: middle;\n",
       "    }\n",
       "\n",
       "    .dataframe tbody tr th {\n",
       "        vertical-align: top;\n",
       "    }\n",
       "\n",
       "    .dataframe thead th {\n",
       "        text-align: right;\n",
       "    }\n",
       "</style>\n",
       "<table border=\"1\" class=\"dataframe\">\n",
       "  <thead>\n",
       "    <tr style=\"text-align: right;\">\n",
       "      <th></th>\n",
       "      <th>sepal.length</th>\n",
       "      <th>sepal.width</th>\n",
       "      <th>petal.length</th>\n",
       "      <th>petal.width</th>\n",
       "      <th>variety</th>\n",
       "    </tr>\n",
       "  </thead>\n",
       "  <tbody>\n",
       "    <tr>\n",
       "      <th>0</th>\n",
       "      <td>5.1</td>\n",
       "      <td>3.5</td>\n",
       "      <td>1.4</td>\n",
       "      <td>0.2</td>\n",
       "      <td>Setosa</td>\n",
       "    </tr>\n",
       "    <tr>\n",
       "      <th>1</th>\n",
       "      <td>4.9</td>\n",
       "      <td>3.0</td>\n",
       "      <td>1.4</td>\n",
       "      <td>0.2</td>\n",
       "      <td>Setosa</td>\n",
       "    </tr>\n",
       "    <tr>\n",
       "      <th>2</th>\n",
       "      <td>4.7</td>\n",
       "      <td>3.2</td>\n",
       "      <td>1.3</td>\n",
       "      <td>0.2</td>\n",
       "      <td>Setosa</td>\n",
       "    </tr>\n",
       "    <tr>\n",
       "      <th>3</th>\n",
       "      <td>4.6</td>\n",
       "      <td>3.1</td>\n",
       "      <td>1.5</td>\n",
       "      <td>0.2</td>\n",
       "      <td>Setosa</td>\n",
       "    </tr>\n",
       "    <tr>\n",
       "      <th>4</th>\n",
       "      <td>5.0</td>\n",
       "      <td>3.6</td>\n",
       "      <td>1.4</td>\n",
       "      <td>0.2</td>\n",
       "      <td>Setosa</td>\n",
       "    </tr>\n",
       "    <tr>\n",
       "      <th>...</th>\n",
       "      <td>...</td>\n",
       "      <td>...</td>\n",
       "      <td>...</td>\n",
       "      <td>...</td>\n",
       "      <td>...</td>\n",
       "    </tr>\n",
       "    <tr>\n",
       "      <th>145</th>\n",
       "      <td>6.7</td>\n",
       "      <td>3.0</td>\n",
       "      <td>5.2</td>\n",
       "      <td>2.3</td>\n",
       "      <td>Virginica</td>\n",
       "    </tr>\n",
       "    <tr>\n",
       "      <th>146</th>\n",
       "      <td>6.3</td>\n",
       "      <td>2.5</td>\n",
       "      <td>5.0</td>\n",
       "      <td>1.9</td>\n",
       "      <td>Virginica</td>\n",
       "    </tr>\n",
       "    <tr>\n",
       "      <th>147</th>\n",
       "      <td>6.5</td>\n",
       "      <td>3.0</td>\n",
       "      <td>5.2</td>\n",
       "      <td>2.0</td>\n",
       "      <td>Virginica</td>\n",
       "    </tr>\n",
       "    <tr>\n",
       "      <th>148</th>\n",
       "      <td>6.2</td>\n",
       "      <td>3.4</td>\n",
       "      <td>5.4</td>\n",
       "      <td>2.3</td>\n",
       "      <td>Virginica</td>\n",
       "    </tr>\n",
       "    <tr>\n",
       "      <th>149</th>\n",
       "      <td>5.9</td>\n",
       "      <td>3.0</td>\n",
       "      <td>5.1</td>\n",
       "      <td>1.8</td>\n",
       "      <td>Virginica</td>\n",
       "    </tr>\n",
       "  </tbody>\n",
       "</table>\n",
       "<p>150 rows × 5 columns</p>\n",
       "</div>"
      ],
      "text/plain": [
       "     sepal.length  sepal.width  petal.length  petal.width    variety\n",
       "0             5.1          3.5           1.4          0.2     Setosa\n",
       "1             4.9          3.0           1.4          0.2     Setosa\n",
       "2             4.7          3.2           1.3          0.2     Setosa\n",
       "3             4.6          3.1           1.5          0.2     Setosa\n",
       "4             5.0          3.6           1.4          0.2     Setosa\n",
       "..            ...          ...           ...          ...        ...\n",
       "145           6.7          3.0           5.2          2.3  Virginica\n",
       "146           6.3          2.5           5.0          1.9  Virginica\n",
       "147           6.5          3.0           5.2          2.0  Virginica\n",
       "148           6.2          3.4           5.4          2.3  Virginica\n",
       "149           5.9          3.0           5.1          1.8  Virginica\n",
       "\n",
       "[150 rows x 5 columns]"
      ]
     },
     "execution_count": 5,
     "metadata": {},
     "output_type": "execute_result"
    }
   ],
   "source": [
    "df=pd.read_csv(\"C:\\\\Users\\\\magar\\\\OneDrive\\\\Desktop\\\\PROGRAMM\\\\Data Science\\\\Python\\\\iris.csv\")\n",
    "df"
   ]
  },
  {
   "cell_type": "code",
   "execution_count": 11,
   "id": "f5e20411-3d24-45cc-858f-6ae0ba91ca67",
   "metadata": {},
   "outputs": [
    {
     "data": {
      "text/plain": [
       "0      5.1\n",
       "1      4.9\n",
       "2      4.7\n",
       "3      4.6\n",
       "4      5.0\n",
       "      ... \n",
       "145    6.7\n",
       "146    6.3\n",
       "147    6.5\n",
       "148    6.2\n",
       "149    5.9\n",
       "Name: sepal.length, Length: 150, dtype: float64"
      ]
     },
     "execution_count": 11,
     "metadata": {},
     "output_type": "execute_result"
    }
   ],
   "source": [
    "sepal=df[\"sepal.length\"]\n",
    "sepal"
   ]
  },
  {
   "cell_type": "code",
   "execution_count": 13,
   "id": "48e67680-9edd-421e-8f8f-d51028962c07",
   "metadata": {},
   "outputs": [
    {
     "data": {
      "text/plain": [
       "5.843333333333334"
      ]
     },
     "execution_count": 13,
     "metadata": {},
     "output_type": "execute_result"
    }
   ],
   "source": [
    "sepal_mean=np.mean(sepal)\n",
    "sepal_mean"
   ]
  },
  {
   "cell_type": "code",
   "execution_count": 15,
   "id": "40f2f2bd-3bf3-4b2d-bf8a-da822b08cd40",
   "metadata": {},
   "outputs": [
    {
     "data": {
      "text/plain": [
       "0.8253012917851409"
      ]
     },
     "execution_count": 15,
     "metadata": {},
     "output_type": "execute_result"
    }
   ],
   "source": [
    "sepal_sd=np.std(sepal)\n",
    "sepal_sd"
   ]
  },
  {
   "cell_type": "code",
   "execution_count": 17,
   "id": "9f48529b-70ad-4072-9ef2-6feb581627a0",
   "metadata": {},
   "outputs": [
    {
     "data": {
      "text/plain": [
       "0     -0.900681\n",
       "1     -1.143017\n",
       "2     -1.385353\n",
       "3     -1.506521\n",
       "4     -1.021849\n",
       "         ...   \n",
       "145    1.038005\n",
       "146    0.553333\n",
       "147    0.795669\n",
       "148    0.432165\n",
       "149    0.068662\n",
       "Name: sepal.length, Length: 150, dtype: float64"
      ]
     },
     "execution_count": 17,
     "metadata": {},
     "output_type": "execute_result"
    }
   ],
   "source": [
    "normalized_sepal=(sepal-sepal_mean)/sepal_sd\n",
    "normalized_sepal"
   ]
  },
  {
   "cell_type": "code",
   "execution_count": 21,
   "id": "62201593-29c9-49ba-9330-2e6f462d4540",
   "metadata": {},
   "outputs": [
    {
     "data": {
      "text/plain": [
       "0.08945440179507252"
      ]
     },
     "execution_count": 21,
     "metadata": {},
     "output_type": "execute_result"
    }
   ],
   "source": [
    " test_statistics,p_value=stats.kstest(normalized_sepal,'norm')\n",
    " test_statistics"
   ]
  },
  {
   "cell_type": "code",
   "execution_count": 23,
   "id": "10c771ab-b5b1-4edb-9130-a89decc2f593",
   "metadata": {},
   "outputs": [
    {
     "data": {
      "text/plain": [
       "0.17058360931631134"
      ]
     },
     "execution_count": 23,
     "metadata": {},
     "output_type": "execute_result"
    }
   ],
   "source": [
    "p_value"
   ]
  },
  {
   "cell_type": "code",
   "execution_count": 14,
   "id": "b9412640-3e40-49d7-a715-756f199f1c8c",
   "metadata": {},
   "outputs": [
    {
     "data": {
      "text/plain": [
       "0      1.4\n",
       "1      1.4\n",
       "2      1.3\n",
       "3      1.5\n",
       "4      1.4\n",
       "      ... \n",
       "145    5.2\n",
       "146    5.0\n",
       "147    5.2\n",
       "148    5.4\n",
       "149    5.1\n",
       "Name: petal.length, Length: 150, dtype: float64"
      ]
     },
     "execution_count": 14,
     "metadata": {},
     "output_type": "execute_result"
    }
   ],
   "source": [
    "petal=df[\"petal.length\"]\n",
    "petal"
   ]
  },
  {
   "cell_type": "code",
   "execution_count": 16,
   "id": "9d30f3be-3ced-4b8c-9e11-1a785423dec5",
   "metadata": {},
   "outputs": [
    {
     "data": {
      "text/plain": [
       "3.7580000000000005"
      ]
     },
     "execution_count": 16,
     "metadata": {},
     "output_type": "execute_result"
    }
   ],
   "source": [
    "petal_mean=np.mean(petal)\n",
    "petal_mean"
   ]
  },
  {
   "cell_type": "code",
   "execution_count": 18,
   "id": "7f8a8f0d-f769-45da-b868-99e230513f09",
   "metadata": {},
   "outputs": [
    {
     "data": {
      "text/plain": [
       "1.7594040657753032"
      ]
     },
     "execution_count": 18,
     "metadata": {},
     "output_type": "execute_result"
    }
   ],
   "source": [
    "petal_sd=np.std(petal)\n",
    "petal_sd"
   ]
  },
  {
   "cell_type": "code",
   "execution_count": 20,
   "id": "bada8619-871a-48e6-b6f8-29a4c2469f6e",
   "metadata": {},
   "outputs": [
    {
     "data": {
      "text/plain": [
       "0     -1.340227\n",
       "1     -1.340227\n",
       "2     -1.397064\n",
       "3     -1.283389\n",
       "4     -1.340227\n",
       "         ...   \n",
       "145    0.819596\n",
       "146    0.705921\n",
       "147    0.819596\n",
       "148    0.933271\n",
       "149    0.762758\n",
       "Name: petal.length, Length: 150, dtype: float64"
      ]
     },
     "execution_count": 20,
     "metadata": {},
     "output_type": "execute_result"
    }
   ],
   "source": [
    "normalized_petal=(petal-petal_mean)/petal_sd\n",
    "normalized_petal"
   ]
  },
  {
   "cell_type": "code",
   "execution_count": 22,
   "id": "db7b7723-51a2-45e9-98e0-8b4981fd8003",
   "metadata": {},
   "outputs": [
    {
     "data": {
      "text/plain": [
       "0.1989420083685971"
      ]
     },
     "execution_count": 22,
     "metadata": {},
     "output_type": "execute_result"
    }
   ],
   "source": [
    " test_statistics,p_value=stats.kstest(normalized_petal,'norm')\n",
    " test_statistics"
   ]
  },
  {
   "cell_type": "code",
   "execution_count": 24,
   "id": "b08527ac-88d4-4617-9e10-5640076c3d0d",
   "metadata": {},
   "outputs": [
    {
     "data": {
      "text/plain": [
       "1.1160726642843144e-05"
      ]
     },
     "execution_count": 24,
     "metadata": {},
     "output_type": "execute_result"
    }
   ],
   "source": [
    "p_value"
   ]
  },
  {
   "cell_type": "code",
   "execution_count": 26,
   "id": "cc01f739-0b24-4625-acda-16e69b56f9d9",
   "metadata": {},
   "outputs": [
    {
     "name": "stdout",
     "output_type": "stream",
     "text": [
      "1.1160726642843144e-05:.10f\n"
     ]
    }
   ],
   "source": [
    "value=1.1160726642843144e-05\n",
    "print(f\"{value}:.10f\")"
   ]
  },
  {
   "cell_type": "code",
   "execution_count": 28,
   "id": "c07335ff-0c84-4278-82a1-25040b3e60ad",
   "metadata": {},
   "outputs": [
    {
     "data": {
      "text/plain": [
       "<Axes: xlabel='petal.length', ylabel='Count'>"
      ]
     },
     "execution_count": 28,
     "metadata": {},
     "output_type": "execute_result"
    },
    {
     "data": {
      "image/png": "[encoded data removed]",
      "text/plain": [
       "<Figure size 640x480 with 1 Axes>"
      ]
     },
     "metadata": {},
     "output_type": "display_data"
    }
   ],
   "source": [
    "sns.histplot(normalized_petal,kde=True ,color='red')"
   ]
  },
  {
   "cell_type": "code",
   "execution_count": 43,
   "id": "4449569b-71ca-42fc-86b8-cdeceb813801",
   "metadata": {},
   "outputs": [
    {
     "data": {
      "text/plain": [
       "<Axes: xlabel='sepal.length', ylabel='Count'>"
      ]
     },
     "execution_count": 43,
     "metadata": {},
     "output_type": "execute_result"
    },
    {
     "data": {
      "image/png": "[encoded data removed]",
      "text/plain": [
       "<Figure size 640x480 with 1 Axes>"
      ]
     },
     "metadata": {},
     "output_type": "display_data"
    }
   ],
   "source": [
    "sns.histplot(normalized_sepal,kde=True ,color='red')"
   ]
  },
  {
   "cell_type": "raw",
   "id": "c526282e-dc75-4ce8-8493-088c9afb9732",
   "metadata": {},
   "source": [
    "## @29/05/25"
   ]
  },
  {
   "cell_type": "markdown",
   "id": "d1e0a6dc-0211-40b1-81ff-a39a61a8206e",
   "metadata": {},
   "source": [
    "## Andersons Darling Test: (AD test)\n",
    "\n",
    "   - This test is used to check a particular sample is having the same distribution or not\n",
    "   - AD test primarily used to check other distribution is normal distribution or not.\n",
    "   - we can use AD test to check other distributions also (weibull,uniform,exponetial etc)\n",
    "   - we dont required any distribution parameters\n",
    "   - In this testing we are comparing the Empiracal distribution function(EDF) with cumulative distribution function(CDF) of particular distribution.\n",
    "     F(x)----->EDF\n",
    "     Test statistics:\n",
    "        EDF(x)-CDF(x)\n",
    "     \n",
    "##### EDF:empirical distribution function:\n",
    "     EDF(x)=1/nsum(X<=x)\n",
    "\n",
    "       X=[2,3,4,1,5]--sample data\n",
    "\n",
    "       step1:sort x\n",
    "         xsort=[1,2,3,4,5]\n",
    "\n",
    "       step2:find the rank where X<=x\n",
    "           F(X<=1)=1\n",
    "           F(x<=2)=2\n",
    "           F(x<=3)=3\n",
    "           F(X<=4)=4\n",
    "           F(X<=5)=5\n",
    "\n",
    "       step3:\n",
    "           F1=1/5\n",
    "           F2=2/5\n",
    "           F3=3/5\n",
    "           F4=4/5\n",
    "           F5=5/5\n",
    "   \n",
    "   - EDF will also give the non decreasing graph like a CDF.\n",
    "\n",
    "##### Difference between EDF and CDF\n",
    "\n",
    "   EDF                    \n",
    "    - we don't required distribution parameter\n",
    "    - we can directly apply method\n",
    "\n",
    "   CDF:\n",
    "    - we required a distribution parameter\n",
    "    syntax:\n",
    "      from scipy import stats\n",
    "      norm.cdf(data,meu,SD)\n",
    "    - we used CDF for normal distribution.\n",
    "\n",
    "   *define the Hypothesis:\n",
    "   \n",
    "    H0:distribution are same\n",
    "    H1:distribution are not same\n",
    "\n",
    "    critical value:\n",
    "      significance level:15%,10%,5%,2%,1%\n",
    "\n",
    "    critical value:threshold value to reject the null hypothesis\n",
    "\n",
    "     1.test statistics\n",
    "     2.critical value\n",
    "     3.significance level:15%,10%,5%,2%,1%\n",
    "\n",
    "    criteria:\n",
    "      test statistics>=critical_value-\n",
    "      NUll hypothesis is rejected---->alternative hypothesis is accepted\n",
    "     test statistics<critical value--->null hypothesis is accepted\n",
    "\n",
    "! when we are apply AD test\n",
    "- we are getting three kinds of value:\n",
    "  \n",
    "    syntax:\n",
    "  \n",
    "         from scipy import stats\n",
    "         stats.anderson(data,dist='norm')\n"
   ]
  },
  {
   "cell_type": "code",
   "execution_count": 8,
   "id": "a7a7cc6b-af6f-43a7-a337-19d3bfb7b699",
   "metadata": {},
   "outputs": [
    {
     "data": {
      "text/html": [
       "<div>\n",
       "<style scoped>\n",
       "    .dataframe tbody tr th:only-of-type {\n",
       "        vertical-align: middle;\n",
       "    }\n",
       "\n",
       "    .dataframe tbody tr th {\n",
       "        vertical-align: top;\n",
       "    }\n",
       "\n",
       "    .dataframe thead th {\n",
       "        text-align: right;\n",
       "    }\n",
       "</style>\n",
       "<table border=\"1\" class=\"dataframe\">\n",
       "  <thead>\n",
       "    <tr style=\"text-align: right;\">\n",
       "      <th></th>\n",
       "      <th>sepal.length</th>\n",
       "      <th>sepal.width</th>\n",
       "      <th>petal.length</th>\n",
       "      <th>petal.width</th>\n",
       "      <th>variety</th>\n",
       "    </tr>\n",
       "  </thead>\n",
       "  <tbody>\n",
       "    <tr>\n",
       "      <th>0</th>\n",
       "      <td>5.1</td>\n",
       "      <td>3.5</td>\n",
       "      <td>1.4</td>\n",
       "      <td>0.2</td>\n",
       "      <td>Setosa</td>\n",
       "    </tr>\n",
       "    <tr>\n",
       "      <th>1</th>\n",
       "      <td>4.9</td>\n",
       "      <td>3.0</td>\n",
       "      <td>1.4</td>\n",
       "      <td>0.2</td>\n",
       "      <td>Setosa</td>\n",
       "    </tr>\n",
       "    <tr>\n",
       "      <th>2</th>\n",
       "      <td>4.7</td>\n",
       "      <td>3.2</td>\n",
       "      <td>1.3</td>\n",
       "      <td>0.2</td>\n",
       "      <td>Setosa</td>\n",
       "    </tr>\n",
       "    <tr>\n",
       "      <th>3</th>\n",
       "      <td>4.6</td>\n",
       "      <td>3.1</td>\n",
       "      <td>1.5</td>\n",
       "      <td>0.2</td>\n",
       "      <td>Setosa</td>\n",
       "    </tr>\n",
       "    <tr>\n",
       "      <th>4</th>\n",
       "      <td>5.0</td>\n",
       "      <td>3.6</td>\n",
       "      <td>1.4</td>\n",
       "      <td>0.2</td>\n",
       "      <td>Setosa</td>\n",
       "    </tr>\n",
       "    <tr>\n",
       "      <th>...</th>\n",
       "      <td>...</td>\n",
       "      <td>...</td>\n",
       "      <td>...</td>\n",
       "      <td>...</td>\n",
       "      <td>...</td>\n",
       "    </tr>\n",
       "    <tr>\n",
       "      <th>145</th>\n",
       "      <td>6.7</td>\n",
       "      <td>3.0</td>\n",
       "      <td>5.2</td>\n",
       "      <td>2.3</td>\n",
       "      <td>Virginica</td>\n",
       "    </tr>\n",
       "    <tr>\n",
       "      <th>146</th>\n",
       "      <td>6.3</td>\n",
       "      <td>2.5</td>\n",
       "      <td>5.0</td>\n",
       "      <td>1.9</td>\n",
       "      <td>Virginica</td>\n",
       "    </tr>\n",
       "    <tr>\n",
       "      <th>147</th>\n",
       "      <td>6.5</td>\n",
       "      <td>3.0</td>\n",
       "      <td>5.2</td>\n",
       "      <td>2.0</td>\n",
       "      <td>Virginica</td>\n",
       "    </tr>\n",
       "    <tr>\n",
       "      <th>148</th>\n",
       "      <td>6.2</td>\n",
       "      <td>3.4</td>\n",
       "      <td>5.4</td>\n",
       "      <td>2.3</td>\n",
       "      <td>Virginica</td>\n",
       "    </tr>\n",
       "    <tr>\n",
       "      <th>149</th>\n",
       "      <td>5.9</td>\n",
       "      <td>3.0</td>\n",
       "      <td>5.1</td>\n",
       "      <td>1.8</td>\n",
       "      <td>Virginica</td>\n",
       "    </tr>\n",
       "  </tbody>\n",
       "</table>\n",
       "<p>150 rows × 5 columns</p>\n",
       "</div>"
      ],
      "text/plain": [
       "     sepal.length  sepal.width  petal.length  petal.width    variety\n",
       "0             5.1          3.5           1.4          0.2     Setosa\n",
       "1             4.9          3.0           1.4          0.2     Setosa\n",
       "2             4.7          3.2           1.3          0.2     Setosa\n",
       "3             4.6          3.1           1.5          0.2     Setosa\n",
       "4             5.0          3.6           1.4          0.2     Setosa\n",
       "..            ...          ...           ...          ...        ...\n",
       "145           6.7          3.0           5.2          2.3  Virginica\n",
       "146           6.3          2.5           5.0          1.9  Virginica\n",
       "147           6.5          3.0           5.2          2.0  Virginica\n",
       "148           6.2          3.4           5.4          2.3  Virginica\n",
       "149           5.9          3.0           5.1          1.8  Virginica\n",
       "\n",
       "[150 rows x 5 columns]"
      ]
     },
     "execution_count": 8,
     "metadata": {},
     "output_type": "execute_result"
    }
   ],
   "source": [
    "df"
   ]
  },
  {
   "cell_type": "code",
   "execution_count": 32,
   "id": "df0c320f-6a9a-4013-88fb-9911cbfb91fe",
   "metadata": {},
   "outputs": [
    {
     "data": {
      "text/plain": [
       "0      1.4\n",
       "1      1.4\n",
       "2      1.3\n",
       "3      1.5\n",
       "4      1.4\n",
       "      ... \n",
       "145    5.2\n",
       "146    5.0\n",
       "147    5.2\n",
       "148    5.4\n",
       "149    5.1\n",
       "Name: petal.length, Length: 150, dtype: float64"
      ]
     },
     "execution_count": 32,
     "metadata": {},
     "output_type": "execute_result"
    }
   ],
   "source": [
    "data=df[\"petal.length\"]\n",
    "data"
   ]
  },
  {
   "cell_type": "code",
   "execution_count": 16,
   "id": "d6f03635-00c8-4417-a38b-efa3ec49be9e",
   "metadata": {},
   "outputs": [],
   "source": [
    "from scipy import stats"
   ]
  },
  {
   "cell_type": "code",
   "execution_count": 40,
   "id": "edfc3bde-2964-4606-9264-8515f9b824fe",
   "metadata": {},
   "outputs": [
    {
     "data": {
      "text/plain": [
       "AndersonResult(statistic=7.6785455198266845, critical_values=array([0.562, 0.64 , 0.767, 0.895, 1.065]), significance_level=array([15. , 10. ,  5. ,  2.5,  1. ]), fit_result=  params: FitParams(loc=3.7580000000000005, scale=1.7652982332594667)\n",
       " success: True\n",
       " message: '`anderson` successfully fit the distribution to the data.')"
      ]
     },
     "execution_count": 40,
     "metadata": {},
     "output_type": "execute_result"
    }
   ],
   "source": [
    "result=stats.anderson(data,dist='norm')\n",
    "result"
   ]
  },
  {
   "cell_type": "code",
   "execution_count": 44,
   "id": "089a8eae-c71a-4551-8836-ce1030dd6d77",
   "metadata": {},
   "outputs": [
    {
     "data": {
      "text/plain": [
       "array([0.562, 0.64 , 0.767, 0.895, 1.065])"
      ]
     },
     "execution_count": 44,
     "metadata": {},
     "output_type": "execute_result"
    }
   ],
   "source": [
    "result.critical_values"
   ]
  },
  {
   "cell_type": "code",
   "execution_count": 46,
   "id": "62b63a65-bcc8-4cbf-84ad-f5fbf17ad29a",
   "metadata": {},
   "outputs": [
    {
     "data": {
      "text/plain": [
       "7.6785455198266845"
      ]
     },
     "execution_count": 46,
     "metadata": {},
     "output_type": "execute_result"
    }
   ],
   "source": [
    "#null hypothesis is rejected\n",
    "result.statistic"
   ]
  },
  {
   "cell_type": "code",
   "execution_count": 48,
   "id": "732fa91b-26d2-431c-aea2-6a0c28d3e58e",
   "metadata": {},
   "outputs": [
    {
     "data": {
      "text/plain": [
       "0     -2.0\n",
       "1     -2.0\n",
       "2     -2.0\n",
       "3     -2.0\n",
       "4     -2.0\n",
       "      ... \n",
       "145    0.0\n",
       "146    0.0\n",
       "147    0.0\n",
       "148    0.0\n",
       "149    0.0\n",
       "Name: petal.length, Length: 150, dtype: float64"
      ]
     },
     "execution_count": 48,
     "metadata": {},
     "output_type": "execute_result"
    }
   ],
   "source": [
    "# KS test\n",
    "normalised_data=(data-np.mean(data))//np.std(data)\n",
    "normalised_data"
   ]
  },
  {
   "cell_type": "code",
   "execution_count": 52,
   "id": "ff4ff673-4e0c-4d11-bf4a-d306dfb16bbe",
   "metadata": {},
   "outputs": [
    {
     "data": {
      "text/plain": [
       "0.33333333333333337"
      ]
     },
     "execution_count": 52,
     "metadata": {},
     "output_type": "execute_result"
    }
   ],
   "source": [
    "test_statistics,p_value=stats.kstest(normalised_data,'norm')\n",
    "test_statistics"
   ]
  },
  {
   "cell_type": "code",
   "execution_count": 54,
   "id": "279818d4-f2a8-460c-b1c5-53c8427f19ac",
   "metadata": {},
   "outputs": [
    {
     "data": {
      "text/plain": [
       "2.329163174886984e-15"
      ]
     },
     "execution_count": 54,
     "metadata": {},
     "output_type": "execute_result"
    }
   ],
   "source": [
    "p_value"
   ]
  },
  {
   "cell_type": "code",
   "execution_count": 56,
   "id": "f2cc1f5d-cbe2-4f9d-b87e-92108e046f44",
   "metadata": {},
   "outputs": [
    {
     "data": {
      "text/plain": [
       "array([0.39515539, 0.39515539, 0.29719483, 0.49263588, 0.39515539,\n",
       "       0.68628897, 0.39515539, 0.49263588, 0.39515539, 0.49263588,\n",
       "       0.49263588, 0.58967049, 0.39515539, 0.09966806, 0.19871456,\n",
       "       0.49263588, 0.29719483, 0.39515539, 0.68628897, 0.49263588,\n",
       "       0.68628897, 0.49263588, 0.        , 0.68628897, 0.87837911,\n",
       "       0.58967049, 0.58967049, 0.49263588, 0.39515539, 0.58967049,\n",
       "       0.58967049, 0.49263588, 0.49263588, 0.39515539, 0.49263588,\n",
       "       0.19871456, 0.29719483, 0.39515539, 0.29719483, 0.49263588,\n",
       "       0.29719483, 0.29719483, 0.29719483, 0.58967049, 0.87837911,\n",
       "       0.39515539, 0.58967049, 0.39515539, 0.49263588, 0.39515539,\n",
       "       3.46387186, 3.28378156, 3.64343615, 2.83108425, 3.37389397,\n",
       "       3.28378156, 3.46387186, 2.19060004, 3.37389397, 2.74009188,\n",
       "       2.3744711 , 3.01260446, 2.83108425, 3.46387186, 2.46613355,\n",
       "       3.19353143, 3.28378156, 2.92192042, 3.28378156, 2.74009188,\n",
       "       3.55371827, 2.83108425, 3.64343615, 3.46387186, 3.10314024,\n",
       "       3.19353143, 3.55371827, 3.73302829, 3.28378156, 2.3744711 ,\n",
       "       2.64893903, 2.55762118, 2.74009188, 3.82249738, 3.28378156,\n",
       "       3.28378156, 3.46387186, 3.19353143, 2.92192042, 2.83108425,\n",
       "       3.19353143, 3.37389397, 2.83108425, 2.19060004, 3.01260446,\n",
       "       3.01260446, 3.01260446, 3.10314024, 1.91333743, 2.92192042,\n",
       "       4.62257577, 3.82249738, 4.53410933, 4.26808376, 4.4455398 ,\n",
       "       5.15130785, 3.28378156, 4.88737451, 4.4455398 , 4.71094093,\n",
       "       3.82249738, 4.0010766 , 4.17919325, 3.73302829, 3.82249738,\n",
       "       4.0010766 , 4.17919325, 5.23910069, 5.4144178 , 3.73302829,\n",
       "       4.35686527, 3.64343615, 5.23910069, 3.64343615, 4.35686527,\n",
       "       4.62257577, 3.55371827, 3.64343615, 4.26808376, 4.4455398 ,\n",
       "       4.71094093, 4.97544628, 4.26808376, 3.82249738, 4.26808376,\n",
       "       4.71094093, 4.26808376, 4.17919325, 3.55371827, 4.09019159,\n",
       "       4.26808376, 3.82249738, 3.82249738, 4.53410933, 4.35686527,\n",
       "       3.91184599, 3.73302829, 3.91184599, 4.09019159, 3.82249738])"
      ]
     },
     "execution_count": 56,
     "metadata": {},
     "output_type": "execute_result"
    }
   ],
   "source": [
    "transform_data,alpha=stats.boxcox(data)\n",
    "transform_data"
   ]
  },
  {
   "cell_type": "code",
   "execution_count": 58,
   "id": "60823f98-ae46-4436-993c-23f50f3e98a2",
   "metadata": {},
   "outputs": [
    {
     "data": {
      "text/plain": [
       "0.9312837951447049"
      ]
     },
     "execution_count": 58,
     "metadata": {},
     "output_type": "execute_result"
    }
   ],
   "source": [
    "alpha"
   ]
  },
  {
   "cell_type": "code",
   "execution_count": 60,
   "id": "28ecbde9-9a69-4eeb-aa85-e79d411e977c",
   "metadata": {
    "scrolled": true
   },
   "outputs": [
    {
     "data": {
      "text/plain": [
       "((array([-2.60376328, -2.283875  , -2.1005573 , -1.96875864, -1.86428437,\n",
       "         -1.77691182, -1.70131573, -1.63435332, -1.57400778, -1.51890417,\n",
       "         -1.46806125, -1.42075308, -1.37642684, -1.33465133, -1.29508341,\n",
       "         -1.25744533, -1.22150891, -1.18708433, -1.15401181, -1.12215558,\n",
       "         -1.0913992 , -1.06164202, -1.03279638, -1.00478546, -0.97754152,\n",
       "         -0.95100448, -0.92512081, -0.89984257, -0.87512664, -0.85093408,\n",
       "         -0.8272296 , -0.80398107, -0.78115919, -0.75873709, -0.73669013,\n",
       "         -0.71499557, -0.69363244, -0.67258128, -0.65182406, -0.63134396,\n",
       "         -0.61112532, -0.59115349, -0.57141472, -0.55189613, -0.53258558,\n",
       "         -0.51347162, -0.49454346, -0.47579085, -0.45720409, -0.43877397,\n",
       "         -0.4204917 , -0.40234892, -0.38433762, -0.36645016, -0.3486792 ,\n",
       "         -0.33101768, -0.31345882, -0.29599609, -0.27862316, -0.26133393,\n",
       "         -0.24412247, -0.22698303, -0.20991002, -0.19289797, -0.17594158,\n",
       "         -0.15903562, -0.142175  , -0.12535471, -0.10856981, -0.09181544,\n",
       "         -0.07508681, -0.05837916, -0.0416878 , -0.02500804, -0.00833524,\n",
       "          0.00833524,  0.02500804,  0.0416878 ,  0.05837916,  0.07508681,\n",
       "          0.09181544,  0.10856981,  0.12535471,  0.142175  ,  0.15903562,\n",
       "          0.17594158,  0.19289797,  0.20991002,  0.22698303,  0.24412247,\n",
       "          0.26133393,  0.27862316,  0.29599609,  0.31345882,  0.33101768,\n",
       "          0.3486792 ,  0.36645016,  0.38433762,  0.40234892,  0.4204917 ,\n",
       "          0.43877397,  0.45720409,  0.47579085,  0.49454346,  0.51347162,\n",
       "          0.53258558,  0.55189613,  0.57141472,  0.59115349,  0.61112532,\n",
       "          0.63134396,  0.65182406,  0.67258128,  0.69363244,  0.71499557,\n",
       "          0.73669013,  0.75873709,  0.78115919,  0.80398107,  0.8272296 ,\n",
       "          0.85093408,  0.87512664,  0.89984257,  0.92512081,  0.95100448,\n",
       "          0.97754152,  1.00478546,  1.03279638,  1.06164202,  1.0913992 ,\n",
       "          1.12215558,  1.15401181,  1.18708433,  1.22150891,  1.25744533,\n",
       "          1.29508341,  1.33465133,  1.37642684,  1.42075308,  1.46806125,\n",
       "          1.51890417,  1.57400778,  1.63435332,  1.70131573,  1.77691182,\n",
       "          1.86428437,  1.96875864,  2.1005573 ,  2.283875  ,  2.60376328]),\n",
       "  array([0.        , 0.09966806, 0.19871456, 0.19871456, 0.29719483,\n",
       "         0.29719483, 0.29719483, 0.29719483, 0.29719483, 0.29719483,\n",
       "         0.29719483, 0.39515539, 0.39515539, 0.39515539, 0.39515539,\n",
       "         0.39515539, 0.39515539, 0.39515539, 0.39515539, 0.39515539,\n",
       "         0.39515539, 0.39515539, 0.39515539, 0.39515539, 0.49263588,\n",
       "         0.49263588, 0.49263588, 0.49263588, 0.49263588, 0.49263588,\n",
       "         0.49263588, 0.49263588, 0.49263588, 0.49263588, 0.49263588,\n",
       "         0.49263588, 0.49263588, 0.58967049, 0.58967049, 0.58967049,\n",
       "         0.58967049, 0.58967049, 0.58967049, 0.58967049, 0.68628897,\n",
       "         0.68628897, 0.68628897, 0.68628897, 0.87837911, 0.87837911,\n",
       "         1.91333743, 2.19060004, 2.19060004, 2.3744711 , 2.3744711 ,\n",
       "         2.46613355, 2.55762118, 2.64893903, 2.74009188, 2.74009188,\n",
       "         2.74009188, 2.83108425, 2.83108425, 2.83108425, 2.83108425,\n",
       "         2.83108425, 2.92192042, 2.92192042, 2.92192042, 3.01260446,\n",
       "         3.01260446, 3.01260446, 3.01260446, 3.10314024, 3.10314024,\n",
       "         3.19353143, 3.19353143, 3.19353143, 3.19353143, 3.28378156,\n",
       "         3.28378156, 3.28378156, 3.28378156, 3.28378156, 3.28378156,\n",
       "         3.28378156, 3.28378156, 3.37389397, 3.37389397, 3.37389397,\n",
       "         3.46387186, 3.46387186, 3.46387186, 3.46387186, 3.46387186,\n",
       "         3.55371827, 3.55371827, 3.55371827, 3.55371827, 3.64343615,\n",
       "         3.64343615, 3.64343615, 3.64343615, 3.64343615, 3.73302829,\n",
       "         3.73302829, 3.73302829, 3.73302829, 3.82249738, 3.82249738,\n",
       "         3.82249738, 3.82249738, 3.82249738, 3.82249738, 3.82249738,\n",
       "         3.82249738, 3.91184599, 3.91184599, 4.0010766 , 4.0010766 ,\n",
       "         4.09019159, 4.09019159, 4.17919325, 4.17919325, 4.17919325,\n",
       "         4.26808376, 4.26808376, 4.26808376, 4.26808376, 4.26808376,\n",
       "         4.26808376, 4.35686527, 4.35686527, 4.35686527, 4.4455398 ,\n",
       "         4.4455398 , 4.4455398 , 4.53410933, 4.53410933, 4.62257577,\n",
       "         4.62257577, 4.71094093, 4.71094093, 4.71094093, 4.88737451,\n",
       "         4.97544628, 5.15130785, 5.23910069, 5.23910069, 5.4144178 ])),\n",
       " (1.543089842150142, 2.581364781793216, 0.9376658707759861))"
      ]
     },
     "execution_count": 60,
     "metadata": {},
     "output_type": "execute_result"
    },
    {
     "data": {
      "image/png": "[encoded data removed]",
      "text/plain": [
       "<Figure size 640x480 with 1 Axes>"
      ]
     },
     "metadata": {},
     "output_type": "display_data"
    }
   ],
   "source": [
    "stats.probplot(transform_data,dist='norm',plot=plt)"
   ]
  },
  {
   "cell_type": "raw",
   "id": "6e6ed9c8-44ec-43c3-9f2f-97db88f55d8a",
   "metadata": {},
   "source": [
    "## @30/5/25"
   ]
  },
  {
   "cell_type": "markdown",
   "id": "9cef5df3-db5b-4afa-a372-0f0789caae9b",
   "metadata": {},
   "source": [
    "## @ chi-square Test:\n",
    "\n",
    "   - it is hypothesis test particular used for the catogirical variable.\n",
    "   - we dont required any distribution parameters\n",
    "   - categorical variable:normal or ordinal\n",
    "       nominal data:dont have any order ---->gender\n",
    "       ordinal data: we have order----->ex.days\n",
    "\n",
    " - * task:\n",
    "   * to check the two categorical variable are having the relation or not\n",
    "- terminologies:\n",
    "1. chi-saquare value\n",
    "2. observed data \n",
    "3. expected data\n",
    "4. p_value\n",
    "5. degree of freedom\n",
    "* ex:\n",
    "   - IS there any relationship between the Gender and movie type?\n",
    "   - gender:Male/Female\n",
    "   - movie type: horror  action  comedy  love stories\n",
    "\n",
    "1. \n",
    "data--->sample=100\n",
    "#####            horror     action    comedy  lovestories\n",
    " - male        10          15         10      15\n",
    "- female       5           10         10      25\n",
    "\n",
    "2.\n",
    "hypothesis:\n",
    "- H0:there is no relationship between these two columns\n",
    "- H1:there is a relationship between these two columns\n",
    "- observed data\n",
    "\n",
    "                  horror     action    comedy  lovestories\n",
    " -      male         10          15         10      15-------->50\n",
    " -      female       5           10         10      25-------->50\n",
    " -      total        15          25         20      40-------->100\n",
    "\n",
    "3.   Expected value=(row_value)*(Column_value)/100\n",
    "\n",
    "                 horror         action    comedy   lS\n",
    "         male    10*15/100      15*25/100\n",
    "\n",
    " \n",
    "\n",
    "\n",
    "4. chi-squar=  summation(expected value-observed value)^2/E\n",
    "\n",
    "       chi-square_value\n",
    "   \n",
    "\n",
    "6. degree of freedom\n",
    "\n",
    "       dof= no of categorical variable-1\n",
    "       dof=2-1=1\n",
    "\n",
    "8. dof and significance level alpha=0.05\n",
    "\n",
    "       7.879\n",
    "9. chi-square>7.879---->H0 is accepted\n",
    "  - chi-square<7.879----->H0 is rejected\n",
    "                 \n",
    "\n",
    "* titanic dataset:survived or not survived\n",
    "   \n",
    "* survived and Pclass--->\n",
    "\n",
    "\n",
    "* titanic dataset:\n",
    "* task:Is there any relationship between the survived and Pclass columns"
   ]
  },
  {
   "cell_type": "code",
   "execution_count": 12,
   "id": "9b1eaa86-f3b3-40b6-b2d2-fe048d589c97",
   "metadata": {},
   "outputs": [],
   "source": [
    "import pandas as pd"
   ]
  },
  {
   "cell_type": "code",
   "execution_count": 66,
   "id": "7ae3a878-8577-4bd7-b866-93cae8004595",
   "metadata": {},
   "outputs": [
    {
     "data": {
      "text/html": [
       "<div>\n",
       "<style scoped>\n",
       "    .dataframe tbody tr th:only-of-type {\n",
       "        vertical-align: middle;\n",
       "    }\n",
       "\n",
       "    .dataframe tbody tr th {\n",
       "        vertical-align: top;\n",
       "    }\n",
       "\n",
       "    .dataframe thead th {\n",
       "        text-align: right;\n",
       "    }\n",
       "</style>\n",
       "<table border=\"1\" class=\"dataframe\">\n",
       "  <thead>\n",
       "    <tr style=\"text-align: right;\">\n",
       "      <th></th>\n",
       "      <th>PassengerId</th>\n",
       "      <th>Survived</th>\n",
       "      <th>Pclass</th>\n",
       "      <th>Name</th>\n",
       "      <th>Sex</th>\n",
       "      <th>Age</th>\n",
       "      <th>SibSp</th>\n",
       "      <th>Parch</th>\n",
       "      <th>Ticket</th>\n",
       "      <th>Fare</th>\n",
       "      <th>Cabin</th>\n",
       "      <th>Embarked</th>\n",
       "    </tr>\n",
       "  </thead>\n",
       "  <tbody>\n",
       "    <tr>\n",
       "      <th>0</th>\n",
       "      <td>1</td>\n",
       "      <td>0</td>\n",
       "      <td>3</td>\n",
       "      <td>Braund, Mr. Owen Harris</td>\n",
       "      <td>male</td>\n",
       "      <td>22.0</td>\n",
       "      <td>1</td>\n",
       "      <td>0</td>\n",
       "      <td>A/5 21171</td>\n",
       "      <td>7.2500</td>\n",
       "      <td>NaN</td>\n",
       "      <td>S</td>\n",
       "    </tr>\n",
       "    <tr>\n",
       "      <th>1</th>\n",
       "      <td>2</td>\n",
       "      <td>1</td>\n",
       "      <td>1</td>\n",
       "      <td>Cumings, Mrs. John Bradley (Florence Briggs Th...</td>\n",
       "      <td>female</td>\n",
       "      <td>38.0</td>\n",
       "      <td>1</td>\n",
       "      <td>0</td>\n",
       "      <td>PC 17599</td>\n",
       "      <td>71.2833</td>\n",
       "      <td>C85</td>\n",
       "      <td>C</td>\n",
       "    </tr>\n",
       "    <tr>\n",
       "      <th>2</th>\n",
       "      <td>3</td>\n",
       "      <td>1</td>\n",
       "      <td>3</td>\n",
       "      <td>Heikkinen, Miss. Laina</td>\n",
       "      <td>female</td>\n",
       "      <td>26.0</td>\n",
       "      <td>0</td>\n",
       "      <td>0</td>\n",
       "      <td>STON/O2. 3101282</td>\n",
       "      <td>7.9250</td>\n",
       "      <td>NaN</td>\n",
       "      <td>S</td>\n",
       "    </tr>\n",
       "    <tr>\n",
       "      <th>3</th>\n",
       "      <td>4</td>\n",
       "      <td>1</td>\n",
       "      <td>1</td>\n",
       "      <td>Futrelle, Mrs. Jacques Heath (Lily May Peel)</td>\n",
       "      <td>female</td>\n",
       "      <td>35.0</td>\n",
       "      <td>1</td>\n",
       "      <td>0</td>\n",
       "      <td>113803</td>\n",
       "      <td>53.1000</td>\n",
       "      <td>C123</td>\n",
       "      <td>S</td>\n",
       "    </tr>\n",
       "    <tr>\n",
       "      <th>4</th>\n",
       "      <td>5</td>\n",
       "      <td>0</td>\n",
       "      <td>3</td>\n",
       "      <td>Allen, Mr. William Henry</td>\n",
       "      <td>male</td>\n",
       "      <td>35.0</td>\n",
       "      <td>0</td>\n",
       "      <td>0</td>\n",
       "      <td>373450</td>\n",
       "      <td>8.0500</td>\n",
       "      <td>NaN</td>\n",
       "      <td>S</td>\n",
       "    </tr>\n",
       "    <tr>\n",
       "      <th>...</th>\n",
       "      <td>...</td>\n",
       "      <td>...</td>\n",
       "      <td>...</td>\n",
       "      <td>...</td>\n",
       "      <td>...</td>\n",
       "      <td>...</td>\n",
       "      <td>...</td>\n",
       "      <td>...</td>\n",
       "      <td>...</td>\n",
       "      <td>...</td>\n",
       "      <td>...</td>\n",
       "      <td>...</td>\n",
       "    </tr>\n",
       "    <tr>\n",
       "      <th>886</th>\n",
       "      <td>887</td>\n",
       "      <td>0</td>\n",
       "      <td>2</td>\n",
       "      <td>Montvila, Rev. Juozas</td>\n",
       "      <td>male</td>\n",
       "      <td>27.0</td>\n",
       "      <td>0</td>\n",
       "      <td>0</td>\n",
       "      <td>211536</td>\n",
       "      <td>13.0000</td>\n",
       "      <td>NaN</td>\n",
       "      <td>S</td>\n",
       "    </tr>\n",
       "    <tr>\n",
       "      <th>887</th>\n",
       "      <td>888</td>\n",
       "      <td>1</td>\n",
       "      <td>1</td>\n",
       "      <td>Graham, Miss. Margaret Edith</td>\n",
       "      <td>female</td>\n",
       "      <td>19.0</td>\n",
       "      <td>0</td>\n",
       "      <td>0</td>\n",
       "      <td>112053</td>\n",
       "      <td>30.0000</td>\n",
       "      <td>B42</td>\n",
       "      <td>S</td>\n",
       "    </tr>\n",
       "    <tr>\n",
       "      <th>888</th>\n",
       "      <td>889</td>\n",
       "      <td>0</td>\n",
       "      <td>3</td>\n",
       "      <td>Johnston, Miss. Catherine Helen \"Carrie\"</td>\n",
       "      <td>female</td>\n",
       "      <td>NaN</td>\n",
       "      <td>1</td>\n",
       "      <td>2</td>\n",
       "      <td>W./C. 6607</td>\n",
       "      <td>23.4500</td>\n",
       "      <td>NaN</td>\n",
       "      <td>S</td>\n",
       "    </tr>\n",
       "    <tr>\n",
       "      <th>889</th>\n",
       "      <td>890</td>\n",
       "      <td>1</td>\n",
       "      <td>1</td>\n",
       "      <td>Behr, Mr. Karl Howell</td>\n",
       "      <td>male</td>\n",
       "      <td>26.0</td>\n",
       "      <td>0</td>\n",
       "      <td>0</td>\n",
       "      <td>111369</td>\n",
       "      <td>30.0000</td>\n",
       "      <td>C148</td>\n",
       "      <td>C</td>\n",
       "    </tr>\n",
       "    <tr>\n",
       "      <th>890</th>\n",
       "      <td>891</td>\n",
       "      <td>0</td>\n",
       "      <td>3</td>\n",
       "      <td>Dooley, Mr. Patrick</td>\n",
       "      <td>male</td>\n",
       "      <td>32.0</td>\n",
       "      <td>0</td>\n",
       "      <td>0</td>\n",
       "      <td>370376</td>\n",
       "      <td>7.7500</td>\n",
       "      <td>NaN</td>\n",
       "      <td>Q</td>\n",
       "    </tr>\n",
       "  </tbody>\n",
       "</table>\n",
       "<p>891 rows × 12 columns</p>\n",
       "</div>"
      ],
      "text/plain": [
       "     PassengerId  Survived  Pclass  \\\n",
       "0              1         0       3   \n",
       "1              2         1       1   \n",
       "2              3         1       3   \n",
       "3              4         1       1   \n",
       "4              5         0       3   \n",
       "..           ...       ...     ...   \n",
       "886          887         0       2   \n",
       "887          888         1       1   \n",
       "888          889         0       3   \n",
       "889          890         1       1   \n",
       "890          891         0       3   \n",
       "\n",
       "                                                  Name     Sex   Age  SibSp  \\\n",
       "0                              Braund, Mr. Owen Harris    male  22.0      1   \n",
       "1    Cumings, Mrs. John Bradley (Florence Briggs Th...  female  38.0      1   \n",
       "2                               Heikkinen, Miss. Laina  female  26.0      0   \n",
       "3         Futrelle, Mrs. Jacques Heath (Lily May Peel)  female  35.0      1   \n",
       "4                             Allen, Mr. William Henry    male  35.0      0   \n",
       "..                                                 ...     ...   ...    ...   \n",
       "886                              Montvila, Rev. Juozas    male  27.0      0   \n",
       "887                       Graham, Miss. Margaret Edith  female  19.0      0   \n",
       "888           Johnston, Miss. Catherine Helen \"Carrie\"  female   NaN      1   \n",
       "889                              Behr, Mr. Karl Howell    male  26.0      0   \n",
       "890                                Dooley, Mr. Patrick    male  32.0      0   \n",
       "\n",
       "     Parch            Ticket     Fare Cabin Embarked  \n",
       "0        0         A/5 21171   7.2500   NaN        S  \n",
       "1        0          PC 17599  71.2833   C85        C  \n",
       "2        0  STON/O2. 3101282   7.9250   NaN        S  \n",
       "3        0            113803  53.1000  C123        S  \n",
       "4        0            373450   8.0500   NaN        S  \n",
       "..     ...               ...      ...   ...      ...  \n",
       "886      0            211536  13.0000   NaN        S  \n",
       "887      0            112053  30.0000   B42        S  \n",
       "888      2        W./C. 6607  23.4500   NaN        S  \n",
       "889      0            111369  30.0000  C148        C  \n",
       "890      0            370376   7.7500   NaN        Q  \n",
       "\n",
       "[891 rows x 12 columns]"
      ]
     },
     "execution_count": 66,
     "metadata": {},
     "output_type": "execute_result"
    }
   ],
   "source": [
    "df=pd.read_csv(\"C:\\\\Users\\\\magar\\\\OneDrive\\\\Desktop\\\\PROGRAMM\\\\Data Science\\\\train.csv\")\n",
    "df"
   ]
  },
  {
   "cell_type": "code",
   "execution_count": 24,
   "id": "f7e5d71c-a516-4358-8872-b2b64fe11a50",
   "metadata": {},
   "outputs": [
    {
     "data": {
      "text/plain": [
       "0"
      ]
     },
     "execution_count": 24,
     "metadata": {},
     "output_type": "execute_result"
    }
   ],
   "source": [
    "df['Survived'].isnull().sum()"
   ]
  },
  {
   "cell_type": "code",
   "execution_count": 26,
   "id": "3f2cf22e-114b-4cd9-b283-739dbcdbb693",
   "metadata": {},
   "outputs": [
    {
     "data": {
      "text/plain": [
       "0"
      ]
     },
     "execution_count": 26,
     "metadata": {},
     "output_type": "execute_result"
    }
   ],
   "source": [
    "df['Pclass'].isnull().sum()"
   ]
  },
  {
   "cell_type": "code",
   "execution_count": 28,
   "id": "f1c28c55-e4bc-4639-b8d8-b364c92aa093",
   "metadata": {},
   "outputs": [
    {
     "data": {
      "text/plain": [
       "Survived\n",
       "0    549\n",
       "1    342\n",
       "Name: count, dtype: int64"
      ]
     },
     "execution_count": 28,
     "metadata": {},
     "output_type": "execute_result"
    }
   ],
   "source": [
    "df['Survived'].value_counts()"
   ]
  },
  {
   "cell_type": "code",
   "execution_count": 30,
   "id": "c01c85ca-e12f-4f24-8131-9c0e6e052f8c",
   "metadata": {},
   "outputs": [
    {
     "data": {
      "text/plain": [
       "Pclass\n",
       "3    491\n",
       "1    216\n",
       "2    184\n",
       "Name: count, dtype: int64"
      ]
     },
     "execution_count": 30,
     "metadata": {},
     "output_type": "execute_result"
    }
   ],
   "source": [
    "df['Pclass'].value_counts()"
   ]
  },
  {
   "cell_type": "code",
   "execution_count": 42,
   "id": "dcb83ddf-06d7-4128-b94f-df129823d72c",
   "metadata": {},
   "outputs": [],
   "source": [
    "Survived0=[\n",
    "    len(df[(df[\"Survived\"]==1) & (df[\"Pclass\"]==1)]),\n",
    "    len(df[(df[\"Survived\"]==1) & (df[\"Pclass\"]==2)]),\n",
    "    len(df[(df[\"Survived\"]==1) & (df[\"Pclass\"]==3)])\n",
    "]\n"
   ]
  },
  {
   "cell_type": "code",
   "execution_count": 44,
   "id": "fccdd6bf-b059-460f-9f40-a7697d717e53",
   "metadata": {},
   "outputs": [],
   "source": [
    "Survived1=[\n",
    "    len(df[(df[\"Survived\"]==1) & (df[\"Pclass\"]==1)]),\n",
    "    len(df[(df[\"Survived\"]==1) & (df[\"Pclass\"]==2)]),\n",
    "    len(df[(df[\"Survived\"]==1) & (df[\"Pclass\"]==3)])\n",
    "]\n"
   ]
  },
  {
   "cell_type": "code",
   "execution_count": 46,
   "id": "cbb48643-80a8-4fac-b3c0-7ff227a6d61a",
   "metadata": {},
   "outputs": [
    {
     "data": {
      "text/plain": [
       "array([[ 80,  97, 372],\n",
       "       [136,  87, 119]])"
      ]
     },
     "execution_count": 46,
     "metadata": {},
     "output_type": "execute_result"
    }
   ],
   "source": [
    "observed=np.array([Survived0,Survived1])\n",
    "observed"
   ]
  },
  {
   "cell_type": "code",
   "execution_count": 4,
   "id": "52ba6b3f-ccaa-4157-9aab-d8328c0a0588",
   "metadata": {},
   "outputs": [],
   "source": [
    "from scipy.stats import chi2_contingency"
   ]
  },
  {
   "cell_type": "code",
   "execution_count": 52,
   "id": "61bfe10b-8422-4196-b959-0b4eafe6bf6a",
   "metadata": {},
   "outputs": [
    {
     "data": {
      "text/plain": [
       "4.549251711298793e-23"
      ]
     },
     "execution_count": 52,
     "metadata": {},
     "output_type": "execute_result"
    }
   ],
   "source": [
    "# H0 is rejected \n",
    "chi,p_value,dof,expected=chi2_contingency(observed)\n",
    "p_value"
   ]
  },
  {
   "cell_type": "code",
   "execution_count": 10,
   "id": "0211aeb3-d89d-4f3c-ba6b-523e75b8e68f",
   "metadata": {},
   "outputs": [],
   "source": [
    "import pandas as pd\n",
    "import numpy as np\n",
    "import matplotlib.pyplot as plt\n",
    "import seaborn as sns\n",
    "import scipy.stats as stats"
   ]
  },
  {
   "cell_type": "code",
   "execution_count": 11,
   "id": "fb4d44d2-a702-4bd4-ba50-57b16609931b",
   "metadata": {},
   "outputs": [
    {
     "name": "stderr",
     "output_type": "stream",
     "text": [
      "<>:1: SyntaxWarning: invalid escape sequence '\\m'\n",
      "<>:1: SyntaxWarning: invalid escape sequence '\\m'\n",
      "C:\\Users\\magar\\AppData\\Local\\Temp\\ipykernel_1256\\2943195835.py:1: SyntaxWarning: invalid escape sequence '\\m'\n",
      "  df=pd.read_csv(\"C:\\\\Users\\magar\\\\Downloads\\\\marketing_cva_f.csv\")\n"
     ]
    },
    {
     "data": {
      "text/html": [
       "<div>\n",
       "<style scoped>\n",
       "    .dataframe tbody tr th:only-of-type {\n",
       "        vertical-align: middle;\n",
       "    }\n",
       "\n",
       "    .dataframe tbody tr th {\n",
       "        vertical-align: top;\n",
       "    }\n",
       "\n",
       "    .dataframe thead th {\n",
       "        text-align: right;\n",
       "    }\n",
       "</style>\n",
       "<table border=\"1\" class=\"dataframe\">\n",
       "  <thead>\n",
       "    <tr style=\"text-align: right;\">\n",
       "      <th></th>\n",
       "      <th>Customer</th>\n",
       "      <th>State</th>\n",
       "      <th>CLV</th>\n",
       "      <th>Coverage</th>\n",
       "      <th>Income</th>\n",
       "      <th>loc_type</th>\n",
       "      <th>monthly_premium</th>\n",
       "      <th>months_last_claim</th>\n",
       "      <th>Months_Since_Policy_Inception</th>\n",
       "      <th>Total_Claim_Amount</th>\n",
       "      <th>Vehicle_Class</th>\n",
       "      <th>avg_vehicle_age</th>\n",
       "    </tr>\n",
       "  </thead>\n",
       "  <tbody>\n",
       "    <tr>\n",
       "      <th>0</th>\n",
       "      <td>BU79786</td>\n",
       "      <td>Washington</td>\n",
       "      <td>2763.519279</td>\n",
       "      <td>Basic</td>\n",
       "      <td>56274</td>\n",
       "      <td>Suburban</td>\n",
       "      <td>69</td>\n",
       "      <td>32</td>\n",
       "      <td>5</td>\n",
       "      <td>384.811147</td>\n",
       "      <td>Two-Door Car</td>\n",
       "      <td>40.696695</td>\n",
       "    </tr>\n",
       "    <tr>\n",
       "      <th>1</th>\n",
       "      <td>AI49188</td>\n",
       "      <td>Nevada</td>\n",
       "      <td>12887.431650</td>\n",
       "      <td>Premium</td>\n",
       "      <td>48767</td>\n",
       "      <td>Suburban</td>\n",
       "      <td>108</td>\n",
       "      <td>18</td>\n",
       "      <td>38</td>\n",
       "      <td>566.472247</td>\n",
       "      <td>Two-Door Car</td>\n",
       "      <td>48.755298</td>\n",
       "    </tr>\n",
       "    <tr>\n",
       "      <th>2</th>\n",
       "      <td>HB64268</td>\n",
       "      <td>Washington</td>\n",
       "      <td>2813.692575</td>\n",
       "      <td>Basic</td>\n",
       "      <td>43836</td>\n",
       "      <td>Rural</td>\n",
       "      <td>73</td>\n",
       "      <td>12</td>\n",
       "      <td>44</td>\n",
       "      <td>138.130879</td>\n",
       "      <td>Four-Door Car</td>\n",
       "      <td>70.394474</td>\n",
       "    </tr>\n",
       "    <tr>\n",
       "      <th>3</th>\n",
       "      <td>OC83172</td>\n",
       "      <td>Oregon</td>\n",
       "      <td>8256.297800</td>\n",
       "      <td>Basic</td>\n",
       "      <td>62902</td>\n",
       "      <td>Rural</td>\n",
       "      <td>69</td>\n",
       "      <td>14</td>\n",
       "      <td>94</td>\n",
       "      <td>159.383042</td>\n",
       "      <td>Two-Door Car</td>\n",
       "      <td>53.460212</td>\n",
       "    </tr>\n",
       "    <tr>\n",
       "      <th>4</th>\n",
       "      <td>XZ87318</td>\n",
       "      <td>Oregon</td>\n",
       "      <td>5380.898636</td>\n",
       "      <td>Basic</td>\n",
       "      <td>55350</td>\n",
       "      <td>Suburban</td>\n",
       "      <td>67</td>\n",
       "      <td>0</td>\n",
       "      <td>13</td>\n",
       "      <td>321.600000</td>\n",
       "      <td>Four-Door Car</td>\n",
       "      <td>32.811507</td>\n",
       "    </tr>\n",
       "    <tr>\n",
       "      <th>...</th>\n",
       "      <td>...</td>\n",
       "      <td>...</td>\n",
       "      <td>...</td>\n",
       "      <td>...</td>\n",
       "      <td>...</td>\n",
       "      <td>...</td>\n",
       "      <td>...</td>\n",
       "      <td>...</td>\n",
       "      <td>...</td>\n",
       "      <td>...</td>\n",
       "      <td>...</td>\n",
       "      <td>...</td>\n",
       "    </tr>\n",
       "    <tr>\n",
       "      <th>6812</th>\n",
       "      <td>TF56202</td>\n",
       "      <td>California</td>\n",
       "      <td>5032.165498</td>\n",
       "      <td>Basic</td>\n",
       "      <td>66367</td>\n",
       "      <td>Suburban</td>\n",
       "      <td>64</td>\n",
       "      <td>6</td>\n",
       "      <td>48</td>\n",
       "      <td>307.200000</td>\n",
       "      <td>Two-Door Car</td>\n",
       "      <td>37.492591</td>\n",
       "    </tr>\n",
       "    <tr>\n",
       "      <th>6813</th>\n",
       "      <td>YM19146</td>\n",
       "      <td>California</td>\n",
       "      <td>4100.398533</td>\n",
       "      <td>Premium</td>\n",
       "      <td>47761</td>\n",
       "      <td>Suburban</td>\n",
       "      <td>104</td>\n",
       "      <td>16</td>\n",
       "      <td>58</td>\n",
       "      <td>541.282007</td>\n",
       "      <td>Four-Door Car</td>\n",
       "      <td>48.946675</td>\n",
       "    </tr>\n",
       "    <tr>\n",
       "      <th>6814</th>\n",
       "      <td>LA72316</td>\n",
       "      <td>California</td>\n",
       "      <td>23405.987980</td>\n",
       "      <td>Basic</td>\n",
       "      <td>71941</td>\n",
       "      <td>Urban</td>\n",
       "      <td>73</td>\n",
       "      <td>18</td>\n",
       "      <td>89</td>\n",
       "      <td>198.234764</td>\n",
       "      <td>Four-Door Car</td>\n",
       "      <td>65.310053</td>\n",
       "    </tr>\n",
       "    <tr>\n",
       "      <th>6815</th>\n",
       "      <td>PK87824</td>\n",
       "      <td>California</td>\n",
       "      <td>3096.511217</td>\n",
       "      <td>Extended</td>\n",
       "      <td>21604</td>\n",
       "      <td>Suburban</td>\n",
       "      <td>79</td>\n",
       "      <td>14</td>\n",
       "      <td>28</td>\n",
       "      <td>379.200000</td>\n",
       "      <td>Four-Door Car</td>\n",
       "      <td>48.002914</td>\n",
       "    </tr>\n",
       "    <tr>\n",
       "      <th>6816</th>\n",
       "      <td>UP19263</td>\n",
       "      <td>California</td>\n",
       "      <td>7524.442436</td>\n",
       "      <td>Extended</td>\n",
       "      <td>21941</td>\n",
       "      <td>Suburban</td>\n",
       "      <td>96</td>\n",
       "      <td>34</td>\n",
       "      <td>3</td>\n",
       "      <td>691.200000</td>\n",
       "      <td>Four-Door Car</td>\n",
       "      <td>45.151858</td>\n",
       "    </tr>\n",
       "  </tbody>\n",
       "</table>\n",
       "<p>6817 rows × 12 columns</p>\n",
       "</div>"
      ],
      "text/plain": [
       "     Customer       State           CLV  Coverage  Income  loc_type  \\\n",
       "0     BU79786  Washington   2763.519279     Basic   56274  Suburban   \n",
       "1     AI49188      Nevada  12887.431650   Premium   48767  Suburban   \n",
       "2     HB64268  Washington   2813.692575     Basic   43836     Rural   \n",
       "3     OC83172      Oregon   8256.297800     Basic   62902     Rural   \n",
       "4     XZ87318      Oregon   5380.898636     Basic   55350  Suburban   \n",
       "...       ...         ...           ...       ...     ...       ...   \n",
       "6812  TF56202  California   5032.165498     Basic   66367  Suburban   \n",
       "6813  YM19146  California   4100.398533   Premium   47761  Suburban   \n",
       "6814  LA72316  California  23405.987980     Basic   71941     Urban   \n",
       "6815  PK87824  California   3096.511217  Extended   21604  Suburban   \n",
       "6816  UP19263  California   7524.442436  Extended   21941  Suburban   \n",
       "\n",
       "      monthly_premium  months_last_claim  Months_Since_Policy_Inception  \\\n",
       "0                  69                 32                              5   \n",
       "1                 108                 18                             38   \n",
       "2                  73                 12                             44   \n",
       "3                  69                 14                             94   \n",
       "4                  67                  0                             13   \n",
       "...               ...                ...                            ...   \n",
       "6812               64                  6                             48   \n",
       "6813              104                 16                             58   \n",
       "6814               73                 18                             89   \n",
       "6815               79                 14                             28   \n",
       "6816               96                 34                              3   \n",
       "\n",
       "      Total_Claim_Amount  Vehicle_Class  avg_vehicle_age  \n",
       "0             384.811147   Two-Door Car        40.696695  \n",
       "1             566.472247   Two-Door Car        48.755298  \n",
       "2             138.130879  Four-Door Car        70.394474  \n",
       "3             159.383042   Two-Door Car        53.460212  \n",
       "4             321.600000  Four-Door Car        32.811507  \n",
       "...                  ...            ...              ...  \n",
       "6812          307.200000   Two-Door Car        37.492591  \n",
       "6813          541.282007  Four-Door Car        48.946675  \n",
       "6814          198.234764  Four-Door Car        65.310053  \n",
       "6815          379.200000  Four-Door Car        48.002914  \n",
       "6816          691.200000  Four-Door Car        45.151858  \n",
       "\n",
       "[6817 rows x 12 columns]"
      ]
     },
     "execution_count": 11,
     "metadata": {},
     "output_type": "execute_result"
    }
   ],
   "source": [
    "df=pd.read_csv(\"C:\\\\Users\\magar\\\\Downloads\\\\marketing_cva_f.csv\")\n",
    "df"
   ]
  },
  {
   "cell_type": "code",
   "execution_count": 8,
   "id": "e589797a-0916-4f79-9612-1df82c1457ce",
   "metadata": {},
   "outputs": [
    {
     "name": "stdout",
     "output_type": "stream",
     "text": [
      "<class 'pandas.core.frame.DataFrame'>\n",
      "RangeIndex: 6817 entries, 0 to 6816\n",
      "Data columns (total 12 columns):\n",
      " #   Column                         Non-Null Count  Dtype  \n",
      "---  ------                         --------------  -----  \n",
      " 0   Customer                       6817 non-null   object \n",
      " 1   State                          6817 non-null   object \n",
      " 2   CLV                            6817 non-null   float64\n",
      " 3   Coverage                       6817 non-null   object \n",
      " 4   Income                         6817 non-null   int64  \n",
      " 5   loc_type                       6817 non-null   object \n",
      " 6   monthly_premium                6817 non-null   int64  \n",
      " 7   months_last_claim              6817 non-null   int64  \n",
      " 8   Months_Since_Policy_Inception  6817 non-null   int64  \n",
      " 9   Total_Claim_Amount             6817 non-null   float64\n",
      " 10  Vehicle_Class                  6817 non-null   object \n",
      " 11  avg_vehicle_age                6817 non-null   float64\n",
      "dtypes: float64(3), int64(4), object(5)\n",
      "memory usage: 639.2+ KB\n"
     ]
    }
   ],
   "source": [
    "df.info()"
   ]
  },
  {
   "cell_type": "code",
   "execution_count": 10,
   "id": "88be5ba6-cc41-4e20-b3df-af12d3af12f9",
   "metadata": {},
   "outputs": [
    {
     "data": {
      "text/plain": [
       "0       40.696695\n",
       "1       48.755298\n",
       "2       70.394474\n",
       "3       53.460212\n",
       "4       32.811507\n",
       "          ...    \n",
       "6812    37.492591\n",
       "6813    48.946675\n",
       "6814    65.310053\n",
       "6815    48.002914\n",
       "6816    45.151858\n",
       "Name: avg_vehicle_age, Length: 6817, dtype: float64"
      ]
     },
     "execution_count": 10,
     "metadata": {},
     "output_type": "execute_result"
    }
   ],
   "source": [
    "df['avg_vehicle_age']"
   ]
  },
  {
   "cell_type": "code",
   "execution_count": 12,
   "id": "72a851d4-0984-4148-a69e-018fe8550a87",
   "metadata": {},
   "outputs": [
    {
     "data": {
      "text/plain": [
       "0"
      ]
     },
     "execution_count": 12,
     "metadata": {},
     "output_type": "execute_result"
    }
   ],
   "source": [
    "df['avg_vehicle_age'].isnull().sum()"
   ]
  },
  {
   "cell_type": "code",
   "execution_count": 16,
   "id": "9eb96b39-d15f-4fb7-bf9d-e5f389a70734",
   "metadata": {},
   "outputs": [
    {
     "name": "stderr",
     "output_type": "stream",
     "text": [
      "C:\\Users\\magar\\AppData\\Local\\Temp\\ipykernel_1256\\300751294.py:1: UserWarning: \n",
      "\n",
      "`distplot` is a deprecated function and will be removed in seaborn v0.14.0.\n",
      "\n",
      "Please adapt your code to use either `displot` (a figure-level function with\n",
      "similar flexibility) or `histplot` (an axes-level function for histograms).\n",
      "\n",
      "For a guide to updating your code to use the new functions, please see\n",
      "https://gist.github.com/mwaskom/de44147ed2974457ad6372750bbe5751\n",
      "\n",
      "  sns.distplot(df['avg_vehicle_age'],hist=True)\n"
     ]
    },
    {
     "data": {
      "text/plain": [
       "<Axes: xlabel='avg_vehicle_age', ylabel='Density'>"
      ]
     },
     "execution_count": 16,
     "metadata": {},
     "output_type": "execute_result"
    },
    {
     "data": {
      "image/png": "[encoded data removed]",
      "text/plain": [
       "<Figure size 640x480 with 1 Axes>"
      ]
     },
     "metadata": {},
     "output_type": "display_data"
    }
   ],
   "source": [
    "sns.distplot(df['avg_vehicle_age'],hist=True)"
   ]
  },
  {
   "cell_type": "code",
   "execution_count": 58,
   "id": "2f05e79a-c2b5-4d6e-8135-a461f67c0f12",
   "metadata": {},
   "outputs": [
    {
     "data": {
      "text/plain": [
       "((array([-3.71482038, -3.48420977, -3.35734064, ...,  3.35734064,\n",
       "          3.48420977,  3.71482038]),\n",
       "  array([11.87597393, 12.97579736, 13.65700265, ..., 81.36779223,\n",
       "         83.20637063, 83.38748475])),\n",
       " (9.922473086072275, 50.12625675651166, 0.9998408439831585))"
      ]
     },
     "execution_count": 58,
     "metadata": {},
     "output_type": "execute_result"
    },
    {
     "data": {
      "image/png": "[encoded data removed]",
      "text/plain": [
       "<Figure size 640x480 with 1 Axes>"
      ]
     },
     "metadata": {},
     "output_type": "display_data"
    }
   ],
   "source": [
    "stats.probplot(df['avg_vehicle_age'],dist='norm',plot=plt)"
   ]
  },
  {
   "cell_type": "code",
   "execution_count": 60,
   "id": "35c2cbba-21e5-473e-aa11-85bde808e9c5",
   "metadata": {},
   "outputs": [
    {
     "data": {
      "text/plain": [
       "array([44.44389775, 53.83105166, 79.32549155, ..., 73.30260475,\n",
       "       52.95181483, 49.62516201])"
      ]
     },
     "execution_count": 60,
     "metadata": {},
     "output_type": "execute_result"
    }
   ],
   "source": [
    "transform_data,l=stats.boxcox(df['avg_vehicle_age'])\n",
    "transform_data"
   ]
  },
  {
   "cell_type": "code",
   "execution_count": 62,
   "id": "9fc3b87b-89ad-4a25-9e20-757737a78029",
   "metadata": {},
   "outputs": [
    {
     "data": {
      "text/plain": [
       "1.0401662897663373"
      ]
     },
     "execution_count": 62,
     "metadata": {},
     "output_type": "execute_result"
    }
   ],
   "source": [
    "l"
   ]
  },
  {
   "cell_type": "code",
   "execution_count": 14,
   "id": "faee90a6-09ff-476e-8352-b49fa30e26b4",
   "metadata": {},
   "outputs": [
    {
     "data": {
      "text/plain": [
       "AndersonResult(statistic=0.38327277704684093, critical_values=array([0.576, 0.656, 0.787, 0.917, 1.091]), significance_level=array([15. , 10. ,  5. ,  2.5,  1. ]), fit_result=  params: FitParams(loc=50.12625675651166, scale=9.919766709600536)\n",
       " success: True\n",
       " message: '`anderson` successfully fit the distribution to the data.')"
      ]
     },
     "execution_count": 14,
     "metadata": {},
     "output_type": "execute_result"
    }
   ],
   "source": [
    "stats.anderson(df['avg_vehicle_age'],dist='norm')"
   ]
  },
  {
   "cell_type": "code",
   "execution_count": 30,
   "id": "eb386b56-e775-4b82-ade2-773c8941e1dc",
   "metadata": {},
   "outputs": [
    {
     "data": {
      "text/plain": [
       "0       40.696695\n",
       "1       48.755298\n",
       "2       70.394474\n",
       "3       53.460212\n",
       "4       32.811507\n",
       "          ...    \n",
       "6812    37.492591\n",
       "6813    48.946675\n",
       "6814    65.310053\n",
       "6815    48.002914\n",
       "6816    45.151858\n",
       "Name: avg_vehicle_age, Length: 6817, dtype: float64"
      ]
     },
     "execution_count": 30,
     "metadata": {},
     "output_type": "execute_result"
    }
   ],
   "source": [
    "data=df['avg_vehicle_age']\n",
    "data"
   ]
  },
  {
   "cell_type": "code",
   "execution_count": 40,
   "id": "99c3a168-31da-4c73-ac59-accc92264f44",
   "metadata": {},
   "outputs": [
    {
     "data": {
      "text/plain": [
       "0      -1.0\n",
       "1      -1.0\n",
       "2       2.0\n",
       "3       0.0\n",
       "4      -2.0\n",
       "       ... \n",
       "6812   -2.0\n",
       "6813   -1.0\n",
       "6814    1.0\n",
       "6815   -1.0\n",
       "6816   -1.0\n",
       "Name: avg_vehicle_age, Length: 6817, dtype: float64"
      ]
     },
     "execution_count": 40,
     "metadata": {},
     "output_type": "execute_result"
    }
   ],
   "source": [
    "norm_data=(data-np.mean(data))//np.std(data)\n",
    "norm_data"
   ]
  },
  {
   "cell_type": "code",
   "execution_count": 42,
   "id": "fe8d02ee-3fcd-4a23-a3b7-fc9c6e3288ee",
   "metadata": {},
   "outputs": [
    {
     "data": {
      "text/plain": [
       "KstestResult(statistic=0.34244493676826426, pvalue=0.0, statistic_location=-1.0, statistic_sign=1)"
      ]
     },
     "execution_count": 42,
     "metadata": {},
     "output_type": "execute_result"
    }
   ],
   "source": [
    "stats.kstest(norm_data,'norm')\n"
   ]
  },
  {
   "cell_type": "code",
   "execution_count": 102,
   "id": "cf7ad2dd-d963-4568-a942-0dc2802517c2",
   "metadata": {},
   "outputs": [
    {
     "data": {
      "text/plain": [
       "array([57.00633324, 45.47377041, 57.08024239, 43.46764988, 43.53189337,\n",
       "       67.53500316, 49.39796583, 53.79149081, 46.38829307, 31.72768764,\n",
       "       63.1842778 , 42.28856907, 67.50304038, 54.65400471, 63.83902693,\n",
       "       53.82428441, 62.49706945, 62.33108226, 45.92027269, 51.01031985,\n",
       "       31.84878624, 65.3436056 , 38.69397002, 42.77874981, 37.2004843 ,\n",
       "       32.16985252, 31.08076873, 54.42663729, 59.58197415, 52.72414141,\n",
       "       49.79836542, 62.52735945, 47.2269739 , 60.48894218, 40.50186748,\n",
       "       56.23982582, 50.59985941, 63.4958957 , 68.32061381, 66.03078877,\n",
       "       43.65208284, 47.79521022, 37.68878064, 66.10535815, 40.88208908,\n",
       "       53.51593022, 48.55148518, 69.77021004, 42.71740749, 53.3461977 ,\n",
       "       67.81507877, 53.57756912, 45.67818867, 46.7388298 , 51.94935102,\n",
       "       39.65090496, 41.4978321 , 50.5843133 , 50.39594762, 30.97090199,\n",
       "       42.67519464, 50.81798575, 44.65755087, 51.6216606 , 37.9377975 ,\n",
       "       56.54055716, 54.85803336, 55.31100717, 56.93846835, 41.72139204,\n",
       "       67.81348488, 29.3840157 , 53.3461977 , 49.1863083 , 49.97128114,\n",
       "       49.97399005, 50.59435172, 57.79188339, 70.2968168 , 52.21304426,\n",
       "       38.72657108, 40.69669469, 42.22762122, 39.282577  , 45.02788531,\n",
       "       51.29120485, 50.0653636 , 51.05195715, 48.29731429, 55.55701852,\n",
       "       33.91094645, 48.65491263, 36.10749154, 52.4609944 , 36.17537225,\n",
       "       60.34208407, 49.38151561, 31.8989531 , 54.99173677, 66.36391246,\n",
       "       52.08045902, 45.55779029, 52.70555559, 61.28524584, 54.55612326,\n",
       "       49.91053768, 22.59158928, 50.06854952, 57.34427605, 55.38178351,\n",
       "       31.14978677, 71.06885514, 53.18463709, 52.0778105 , 45.36438246,\n",
       "       46.61946885, 58.17765616, 46.32136366, 51.02117962, 43.84328087,\n",
       "       32.90508625, 59.61491836, 61.00104332, 45.78095273, 46.72629588,\n",
       "       47.63729398, 61.64702651, 36.43999509, 34.39869118, 59.64575906,\n",
       "       70.5166963 , 26.97949621, 38.35432346, 43.81942808, 52.21468896,\n",
       "       35.50975105, 59.26969883, 30.27081717, 40.44923741, 55.72007738,\n",
       "       59.76449852, 61.2920757 , 35.94190364, 48.89620309, 47.47183627,\n",
       "       44.88220962, 45.43428318, 69.16820242, 47.66355788, 47.7636595 ,\n",
       "       51.60367042, 48.55901888, 66.67113689, 42.55186572, 33.36880755,\n",
       "       49.85930826, 54.1881743 , 49.11241569, 42.50989222, 41.50063328,\n",
       "       58.26305567, 55.53766292, 60.481709  , 36.92605703, 42.48547222,\n",
       "       54.28777612, 58.72687681, 59.90334704, 43.55994728, 63.75687531,\n",
       "       54.96616566, 45.11781513, 66.43577441, 50.11245804, 53.08026053,\n",
       "       37.35930581, 45.60574606, 57.25649886, 48.81420771, 60.42602953,\n",
       "       38.83327788, 43.18623323, 68.26596724, 66.42127867, 58.9348965 ,\n",
       "       24.52145676, 55.12897981, 42.00854167, 43.36826872, 45.76391656,\n",
       "       45.97310053, 56.68717055, 56.89219005, 56.03024607, 52.29145015,\n",
       "       49.24665372, 53.47680903, 43.66054796, 48.04954273, 53.74100585,\n",
       "       36.28220662, 51.09774335, 38.01675181, 54.23052183, 53.18410426,\n",
       "       49.20684068, 47.22103134, 56.05613213, 65.88070865, 31.5195426 ,\n",
       "       64.76302367, 51.36879838, 45.86846523, 37.68033647, 38.31390744,\n",
       "       37.84432225, 39.69163467, 43.93369669, 43.34654377, 61.47000008,\n",
       "       59.29407078, 56.99151581, 53.92648758, 50.92020438, 47.54021869,\n",
       "       67.69556524, 46.69783719, 45.90965379, 30.29124856, 28.44080573,\n",
       "       62.95050495, 46.56420538, 71.73086276, 49.45859997, 56.23982582,\n",
       "       52.16522279, 56.27739372, 59.13213372, 52.48630688, 62.49706945,\n",
       "       49.50456619, 51.60559699, 64.07188611, 49.83232531, 14.67281976,\n",
       "       46.82642831, 41.15771534, 44.98831308, 48.10851791, 62.87435719,\n",
       "       57.4891604 , 41.92742252, 56.24747266, 40.88190299, 40.42492121,\n",
       "       37.88850296, 44.88295683, 32.79533056, 68.84836974, 48.14139512,\n",
       "       41.83492574, 53.80169467, 47.40120517, 46.51560984, 59.51774801,\n",
       "       52.20120838, 56.69664787, 43.64322204, 55.36509462, 42.23253002,\n",
       "       56.3429151 , 50.33394238, 47.68257544, 48.33221588, 42.37232536,\n",
       "       65.97509972, 37.29458699, 56.47310392, 64.6045218 , 45.80664596,\n",
       "       60.22939547, 49.98578223, 29.78722996, 48.07505136, 60.43669476,\n",
       "       67.20513117, 51.75203667, 64.85108837, 55.69481996, 72.45331062,\n",
       "       50.47382555, 42.47138982, 50.29629272, 55.17908603, 58.21458008,\n",
       "       53.26442438, 54.73308611, 48.10851791, 55.00216676, 40.18783542,\n",
       "       54.49734263, 45.56767072, 36.56999391, 57.13005334, 56.37232214,\n",
       "       53.49168206, 50.76039725, 35.33335054, 47.77341442, 43.16574207,\n",
       "       43.51324928, 43.92484088, 56.83970768, 39.3749385 , 52.78284834,\n",
       "       38.07103564, 38.39728092, 32.82397772, 67.86050221, 56.62085723,\n",
       "       31.8989531 , 53.52400513, 42.5147764 , 43.77189692, 39.47674207,\n",
       "       56.74912225, 35.97155828, 49.169299  , 51.51344331, 56.87723439,\n",
       "       31.33358822, 47.07893177, 54.81850079, 50.83669561, 45.59955941,\n",
       "       47.29080791, 47.90230329, 40.11628515, 54.64929058, 57.56340237,\n",
       "       65.35483578, 56.84945532, 54.41079474, 47.41471705, 45.50901348,\n",
       "       52.46806788, 42.71777598, 59.11394334, 38.11048332, 48.48654371,\n",
       "       56.64263438, 44.34437518, 61.69578634, 57.85018884, 53.79668146,\n",
       "       60.40961439, 47.16235541, 46.84766125, 36.17355239, 52.46154354,\n",
       "       50.87488933, 51.81724684, 37.54140264, 53.90192693, 32.21829353,\n",
       "       71.24960377, 37.96873573, 40.02726659, 67.25953737, 40.68278171,\n",
       "       54.79610854, 56.64735968, 44.0218905 , 43.78507801, 53.25773566,\n",
       "       43.41961881, 40.42492121, 53.18634946, 46.71491996, 48.14139512,\n",
       "       66.48821043, 40.04006097, 42.90953522, 37.30547343, 57.45897595,\n",
       "       46.80058142, 57.28932778, 57.59419517, 56.57850604, 61.46919272,\n",
       "       46.2232645 , 76.40762318, 69.18057801, 49.27739567, 41.47967111,\n",
       "       46.01699903, 51.02627283, 45.68954283, 67.22428538, 47.40120517,\n",
       "       48.01173139, 67.06301952, 33.67080068, 32.13357827, 46.72971565,\n",
       "       49.63885787, 62.11049257, 47.67881061, 47.99548369, 48.93055659,\n",
       "       53.29286116, 63.69512616, 38.03583034, 56.83184809, 40.82333467,\n",
       "       43.01065268, 53.40977258, 43.86903518, 52.87119662, 47.5023868 ,\n",
       "       36.61514829, 43.30681447, 52.8317258 , 62.43958866, 47.8051325 ,\n",
       "       38.03921249, 49.50456619, 49.75988508, 45.65744279, 50.7435694 ,\n",
       "       44.00930805, 66.57038138, 49.01379471, 45.21760862, 45.255263  ,\n",
       "       46.39928449, 48.15685757, 55.5779798 , 40.50186748, 56.16770976,\n",
       "       64.03331897, 38.90687439, 52.87454802, 53.05568346, 24.46614726,\n",
       "       33.04385744, 48.72432462, 57.68690727, 43.26331871, 64.08521065,\n",
       "       44.09943709, 42.27791164, 35.16625863, 50.62232743, 68.72709063,\n",
       "       43.03434774, 44.92890556, 34.43858706, 46.00951716, 58.2118316 ,\n",
       "       40.54350046, 42.37232536, 40.56698753, 50.00450314, 50.06902174,\n",
       "       63.02765109, 52.54578184, 48.3198229 , 58.62055166, 52.71654291,\n",
       "       44.45089009, 64.30182421, 36.23627203, 46.83621171, 49.37700924,\n",
       "       42.57011167, 48.74651046, 42.02637358, 56.29019862, 52.16522279,\n",
       "       45.26519243, 44.09168281, 42.30816699, 75.51596848, 51.33937082,\n",
       "       57.35315831, 37.34017583, 43.88101385, 59.90334704, 59.51774801,\n",
       "       42.3697046 , 45.73104697, 62.54902055, 51.16045666, 56.95879985,\n",
       "       75.75885241, 50.53275217, 56.72146856, 56.35805555, 39.0425405 ,\n",
       "       44.23399832, 47.45433913, 53.36258756, 56.13614781, 76.32933282,\n",
       "       47.78267777, 55.20723367, 42.36155264, 61.65038479, 56.73998855,\n",
       "       57.31217773, 56.43097083, 55.39329545, 53.54163829, 49.07510855,\n",
       "       46.6299397 , 45.37888208, 51.20631142, 45.78513761, 48.00291377,\n",
       "       52.84968326, 41.36710478, 62.87112243, 80.13547482, 54.55343435,\n",
       "       58.28988958, 57.19883534, 59.00418232, 40.61345676, 45.22910184,\n",
       "       55.77470625, 35.51567786, 43.85005676, 50.76260268, 57.4140783 ,\n",
       "       50.98160204, 50.00802008, 49.75621871, 59.27841238, 45.65735634,\n",
       "       61.49167786, 48.09673919, 75.6222744 , 57.47669634, 46.99052074,\n",
       "       55.34037891, 57.46292444, 28.60914299, 53.88887532, 44.86643653,\n",
       "       44.62760107, 58.88793134, 46.28286425, 64.6045218 , 50.10092351,\n",
       "       62.30322446, 65.30819947, 52.59908848, 51.11127864, 47.33574344,\n",
       "       46.28286425, 49.56251287, 52.62658774, 61.28598495, 60.72883299,\n",
       "       71.41189362, 34.01570723, 34.98060836, 68.44528963, 50.27656025,\n",
       "       65.68446423, 52.73745511, 41.53527971, 47.73546884, 60.36091154,\n",
       "       50.40573218, 61.43748216, 43.79884499, 41.8837221 , 40.81242411,\n",
       "       45.90968   , 56.7835086 , 44.50224257, 45.29352566, 44.968312  ,\n",
       "       52.72109682, 42.61323722, 61.49167786, 50.07734681, 43.3792245 ,\n",
       "       40.6556316 , 69.06539735, 34.39531583, 42.02553291, 50.44123006,\n",
       "       52.14375094, 52.8513111 , 58.29398521, 37.09578423, 62.74580743,\n",
       "       49.07398982, 44.49128528, 61.93980923, 37.08158653, 40.58453771,\n",
       "       51.90755777, 64.86283023, 48.72321148, 45.38932624, 51.74312233,\n",
       "       39.79489323, 69.07466036, 38.39728092, 39.78533667, 49.79582646,\n",
       "       58.93753037, 56.01339099, 40.4704315 , 44.52570262, 48.05902803,\n",
       "       34.51983888, 57.68488868, 40.33163762, 43.12578671, 50.4747308 ,\n",
       "       44.87750649, 64.40021773, 63.13726482, 46.31488519, 41.59945518,\n",
       "       69.06539735, 63.90067182, 43.65208284, 36.15383009, 66.92773684,\n",
       "       27.30326403, 28.49016188, 54.29846859, 57.57085698, 57.05605784,\n",
       "       70.93770279, 53.34309495, 19.72081642, 48.55501737, 58.21426759,\n",
       "       49.58620306, 54.84285901, 47.6935099 , 50.39578848, 58.07135676,\n",
       "       58.68222639, 38.61027532, 39.08609177, 34.36110783, 48.34226966,\n",
       "       45.49121255, 50.41167886, 66.23556772, 40.30141461, 41.70882938,\n",
       "       55.92277826, 71.23939032, 54.19910006, 71.23939032, 65.1574415 ,\n",
       "       70.8746217 , 34.78405476, 44.31262965, 53.45019325, 51.04828371,\n",
       "       68.95968   , 48.11261786, 66.61308725, 34.34415819, 54.46060395,\n",
       "       43.09122225, 49.94633899, 46.51516228, 46.57810506, 60.70222516,\n",
       "       31.46986238, 50.2511799 , 34.70607077, 58.02922498, 66.23556772,\n",
       "       38.11048332, 41.78796522, 35.88869196, 63.63286452, 57.72830465,\n",
       "       59.86988101, 42.48020504, 35.8605593 , 29.3840157 , 42.68138114,\n",
       "       47.72054798, 49.89924321, 53.52527948, 52.53460328, 59.39122967,\n",
       "       44.14382964, 74.11655225, 70.43372256, 59.52799861, 52.00830152,\n",
       "       47.0252066 , 50.5167014 , 35.04688486, 46.18672474, 65.05332471,\n",
       "       45.07894128, 43.34654377, 61.0822485 , 57.99080564, 50.9550325 ,\n",
       "       51.33937082, 52.94868674, 59.48808876, 36.1479233 , 51.93240551,\n",
       "       46.55442591, 47.67684621, 78.91468854, 56.83659336, 44.23399832,\n",
       "       53.90192693, 54.95646265, 48.9183996 , 42.51173559, 61.90100004,\n",
       "       61.00838758, 62.16002343, 43.18623323, 61.40483   , 53.31760994,\n",
       "       44.75220807, 62.43958866, 56.42770166, 44.70249404, 66.7814849 ,\n",
       "       32.06206732, 31.58538635, 46.37099306, 65.75929862, 54.17105129,\n",
       "       42.98530555, 54.68251784, 52.80737258, 25.83993282, 56.2770328 ,\n",
       "       40.07066006, 59.25491441, 69.39154276, 44.31354848, 51.6216606 ,\n",
       "       57.17146052, 74.00357224, 42.28184738, 46.04051885, 38.19258513,\n",
       "       45.67818867, 56.54055716, 46.27731691, 42.93737542, 23.05205904,\n",
       "       48.51166261, 46.61970407, 50.09109022, 60.75543627, 53.05340763,\n",
       "       36.55185838, 45.3918323 , 37.02976569, 66.46451669, 59.82980962,\n",
       "       55.43852433, 37.3114621 , 44.75220807, 48.75529783, 53.49168206,\n",
       "       42.68138114, 59.19735767, 66.48068453, 43.90989767, 41.70853191,\n",
       "       42.81423979, 53.36258756, 66.32265506, 66.2049899 , 64.28496691,\n",
       "       40.97788925, 56.95507682, 30.72388422, 57.95681333, 50.62958068,\n",
       "       38.61027532, 46.93906306, 75.42472665, 60.60723707, 64.08521065,\n",
       "       35.88869196, 39.65090496, 58.07135676, 64.69082843, 67.44852597,\n",
       "       54.4557396 , 44.3162384 , 48.55835016, 42.98638538, 51.80429352,\n",
       "       54.18285523, 34.27690357, 37.68033647, 53.64304049, 45.59955941,\n",
       "       54.51569766, 45.41128035, 56.67223987, 39.51960559, 66.3150366 ,\n",
       "       55.90682812, 33.23372118, 33.96260472, 43.77189692, 48.42738803,\n",
       "       59.3751647 , 54.42663729, 49.45859997, 51.82895892, 59.25974831,\n",
       "       48.72209095, 57.48110496, 66.70938824, 36.82747488, 49.0410512 ,\n",
       "       39.44112409, 55.34121608, 57.07248316, 56.9923963 , 60.60520096,\n",
       "       43.26190435, 61.76661207, 48.61966557, 59.7271313 , 46.60062551,\n",
       "       52.39940257, 54.94434598, 37.80404507, 55.43852433, 46.65105044,\n",
       "       56.99903277, 51.87883921, 61.17885823, 28.98692473, 56.94288275,\n",
       "       53.3220168 , 55.88666825, 54.75057687, 46.74496003, 68.12784569,\n",
       "       46.09964856, 63.09269722, 60.01864075, 22.05939341, 48.03914699,\n",
       "       61.02083942, 61.36923233, 49.07201571, 57.74143145, 62.44946817,\n",
       "       51.61669102, 34.00264935, 26.83732391, 49.98578223, 58.20751319,\n",
       "       55.46861465, 44.03928748, 39.91091857, 62.05430535, 57.25649886,\n",
       "       47.33699296, 60.87397033, 42.58929881, 53.30014387, 62.30394114,\n",
       "       53.10154279, 44.94593764, 44.09297861, 50.10374081, 63.86692789,\n",
       "       44.55976889, 58.11148787, 37.99809229, 44.75220807, 59.86988101,\n",
       "       56.00380898, 50.48929578, 49.96338832, 41.74818375, 55.42076077,\n",
       "       57.01695887, 50.64143396, 44.46813984, 73.28453083, 57.30050901,\n",
       "       61.14835657, 46.04051885, 49.55324794, 34.36090851, 51.89505098,\n",
       "       63.64745126, 38.69191077, 35.60241956, 48.98171343, 66.48068453,\n",
       "       69.89131832, 64.72585989, 49.06260238, 64.11852745, 48.95890894,\n",
       "       29.10950621, 68.41704477, 41.85818998, 29.27788278, 30.20013245,\n",
       "       42.67519464, 48.76331077, 63.46626774, 61.32474753, 30.2595292 ,\n",
       "       46.18672474, 33.90697866, 45.93179818, 61.35207234, 58.03503036,\n",
       "       59.601132  , 64.80888209, 41.49394873, 49.2522649 , 42.83182159,\n",
       "       34.35718855, 52.48507876, 41.59945518, 56.67223987, 58.20542853,\n",
       "       55.44161338, 45.27319958, 46.31289818, 38.31945014, 61.67451555,\n",
       "       47.45433913, 42.89616896, 57.72056603, 42.28856907, 52.73326732,\n",
       "       53.19098701, 49.00947514, 37.5523636 , 42.75868826, 36.42664399,\n",
       "       41.50135751, 57.23805774, 53.65405761, 52.56358526, 39.42312958,\n",
       "       42.3643134 , 29.63577127, 61.10677293, 32.1131744 , 53.40232604,\n",
       "       35.12772932, 49.63885787, 61.51609367, 54.39651778, 60.67868393,\n",
       "       44.18153349, 45.32153091, 45.21775   , 51.89449092, 62.46921715,\n",
       "       41.27951735, 54.25801235, 51.81472244, 36.05914635, 43.45488441,\n",
       "       33.00582799, 44.00336211, 48.67778975, 51.8776776 , 51.39947916,\n",
       "       37.96035091, 50.17117184, 64.54831626, 58.98636429, 47.29009162,\n",
       "       44.7333605 , 64.08892607, 47.63658074, 42.88486356, 57.59419517])"
      ]
     },
     "execution_count": 102,
     "metadata": {},
     "output_type": "execute_result"
    }
   ],
   "source": [
    "sample=np.random.choice(df['avg_vehicle_age'],size=1000,replace=True)\n",
    "sample"
   ]
  },
  {
   "cell_type": "code",
   "execution_count": null,
   "id": "eb8e0a8b-d36d-4e6f-babd-eb2478ffaf2f",
   "metadata": {},
   "outputs": [],
   "source": [
    "sample_mean="
   ]
  },
  {
   "cell_type": "code",
   "execution_count": 8,
   "id": "6f1f054f-6e33-4e71-8ea8-641d446165fe",
   "metadata": {},
   "outputs": [
    {
     "data": {
      "text/html": [
       "<div>\n",
       "<style scoped>\n",
       "    .dataframe tbody tr th:only-of-type {\n",
       "        vertical-align: middle;\n",
       "    }\n",
       "\n",
       "    .dataframe tbody tr th {\n",
       "        vertical-align: top;\n",
       "    }\n",
       "\n",
       "    .dataframe thead th {\n",
       "        text-align: right;\n",
       "    }\n",
       "</style>\n",
       "<table border=\"1\" class=\"dataframe\">\n",
       "  <thead>\n",
       "    <tr style=\"text-align: right;\">\n",
       "      <th></th>\n",
       "      <th>PassengerId</th>\n",
       "      <th>Survived</th>\n",
       "      <th>Pclass</th>\n",
       "      <th>Name</th>\n",
       "      <th>Sex</th>\n",
       "      <th>Age</th>\n",
       "      <th>SibSp</th>\n",
       "      <th>Parch</th>\n",
       "      <th>Ticket</th>\n",
       "      <th>Fare</th>\n",
       "      <th>Cabin</th>\n",
       "      <th>Embarked</th>\n",
       "    </tr>\n",
       "  </thead>\n",
       "  <tbody>\n",
       "    <tr>\n",
       "      <th>0</th>\n",
       "      <td>1</td>\n",
       "      <td>0</td>\n",
       "      <td>3</td>\n",
       "      <td>Braund, Mr. Owen Harris</td>\n",
       "      <td>male</td>\n",
       "      <td>22.0</td>\n",
       "      <td>1</td>\n",
       "      <td>0</td>\n",
       "      <td>A/5 21171</td>\n",
       "      <td>7.2500</td>\n",
       "      <td>NaN</td>\n",
       "      <td>S</td>\n",
       "    </tr>\n",
       "    <tr>\n",
       "      <th>1</th>\n",
       "      <td>2</td>\n",
       "      <td>1</td>\n",
       "      <td>1</td>\n",
       "      <td>Cumings, Mrs. John Bradley (Florence Briggs Th...</td>\n",
       "      <td>female</td>\n",
       "      <td>38.0</td>\n",
       "      <td>1</td>\n",
       "      <td>0</td>\n",
       "      <td>PC 17599</td>\n",
       "      <td>71.2833</td>\n",
       "      <td>C85</td>\n",
       "      <td>C</td>\n",
       "    </tr>\n",
       "    <tr>\n",
       "      <th>2</th>\n",
       "      <td>3</td>\n",
       "      <td>1</td>\n",
       "      <td>3</td>\n",
       "      <td>Heikkinen, Miss. Laina</td>\n",
       "      <td>female</td>\n",
       "      <td>26.0</td>\n",
       "      <td>0</td>\n",
       "      <td>0</td>\n",
       "      <td>STON/O2. 3101282</td>\n",
       "      <td>7.9250</td>\n",
       "      <td>NaN</td>\n",
       "      <td>S</td>\n",
       "    </tr>\n",
       "    <tr>\n",
       "      <th>3</th>\n",
       "      <td>4</td>\n",
       "      <td>1</td>\n",
       "      <td>1</td>\n",
       "      <td>Futrelle, Mrs. Jacques Heath (Lily May Peel)</td>\n",
       "      <td>female</td>\n",
       "      <td>35.0</td>\n",
       "      <td>1</td>\n",
       "      <td>0</td>\n",
       "      <td>113803</td>\n",
       "      <td>53.1000</td>\n",
       "      <td>C123</td>\n",
       "      <td>S</td>\n",
       "    </tr>\n",
       "    <tr>\n",
       "      <th>4</th>\n",
       "      <td>5</td>\n",
       "      <td>0</td>\n",
       "      <td>3</td>\n",
       "      <td>Allen, Mr. William Henry</td>\n",
       "      <td>male</td>\n",
       "      <td>35.0</td>\n",
       "      <td>0</td>\n",
       "      <td>0</td>\n",
       "      <td>373450</td>\n",
       "      <td>8.0500</td>\n",
       "      <td>NaN</td>\n",
       "      <td>S</td>\n",
       "    </tr>\n",
       "    <tr>\n",
       "      <th>...</th>\n",
       "      <td>...</td>\n",
       "      <td>...</td>\n",
       "      <td>...</td>\n",
       "      <td>...</td>\n",
       "      <td>...</td>\n",
       "      <td>...</td>\n",
       "      <td>...</td>\n",
       "      <td>...</td>\n",
       "      <td>...</td>\n",
       "      <td>...</td>\n",
       "      <td>...</td>\n",
       "      <td>...</td>\n",
       "    </tr>\n",
       "    <tr>\n",
       "      <th>886</th>\n",
       "      <td>887</td>\n",
       "      <td>0</td>\n",
       "      <td>2</td>\n",
       "      <td>Montvila, Rev. Juozas</td>\n",
       "      <td>male</td>\n",
       "      <td>27.0</td>\n",
       "      <td>0</td>\n",
       "      <td>0</td>\n",
       "      <td>211536</td>\n",
       "      <td>13.0000</td>\n",
       "      <td>NaN</td>\n",
       "      <td>S</td>\n",
       "    </tr>\n",
       "    <tr>\n",
       "      <th>887</th>\n",
       "      <td>888</td>\n",
       "      <td>1</td>\n",
       "      <td>1</td>\n",
       "      <td>Graham, Miss. Margaret Edith</td>\n",
       "      <td>female</td>\n",
       "      <td>19.0</td>\n",
       "      <td>0</td>\n",
       "      <td>0</td>\n",
       "      <td>112053</td>\n",
       "      <td>30.0000</td>\n",
       "      <td>B42</td>\n",
       "      <td>S</td>\n",
       "    </tr>\n",
       "    <tr>\n",
       "      <th>888</th>\n",
       "      <td>889</td>\n",
       "      <td>0</td>\n",
       "      <td>3</td>\n",
       "      <td>Johnston, Miss. Catherine Helen \"Carrie\"</td>\n",
       "      <td>female</td>\n",
       "      <td>NaN</td>\n",
       "      <td>1</td>\n",
       "      <td>2</td>\n",
       "      <td>W./C. 6607</td>\n",
       "      <td>23.4500</td>\n",
       "      <td>NaN</td>\n",
       "      <td>S</td>\n",
       "    </tr>\n",
       "    <tr>\n",
       "      <th>889</th>\n",
       "      <td>890</td>\n",
       "      <td>1</td>\n",
       "      <td>1</td>\n",
       "      <td>Behr, Mr. Karl Howell</td>\n",
       "      <td>male</td>\n",
       "      <td>26.0</td>\n",
       "      <td>0</td>\n",
       "      <td>0</td>\n",
       "      <td>111369</td>\n",
       "      <td>30.0000</td>\n",
       "      <td>C148</td>\n",
       "      <td>C</td>\n",
       "    </tr>\n",
       "    <tr>\n",
       "      <th>890</th>\n",
       "      <td>891</td>\n",
       "      <td>0</td>\n",
       "      <td>3</td>\n",
       "      <td>Dooley, Mr. Patrick</td>\n",
       "      <td>male</td>\n",
       "      <td>32.0</td>\n",
       "      <td>0</td>\n",
       "      <td>0</td>\n",
       "      <td>370376</td>\n",
       "      <td>7.7500</td>\n",
       "      <td>NaN</td>\n",
       "      <td>Q</td>\n",
       "    </tr>\n",
       "  </tbody>\n",
       "</table>\n",
       "<p>891 rows × 12 columns</p>\n",
       "</div>"
      ],
      "text/plain": [
       "     PassengerId  Survived  Pclass  \\\n",
       "0              1         0       3   \n",
       "1              2         1       1   \n",
       "2              3         1       3   \n",
       "3              4         1       1   \n",
       "4              5         0       3   \n",
       "..           ...       ...     ...   \n",
       "886          887         0       2   \n",
       "887          888         1       1   \n",
       "888          889         0       3   \n",
       "889          890         1       1   \n",
       "890          891         0       3   \n",
       "\n",
       "                                                  Name     Sex   Age  SibSp  \\\n",
       "0                              Braund, Mr. Owen Harris    male  22.0      1   \n",
       "1    Cumings, Mrs. John Bradley (Florence Briggs Th...  female  38.0      1   \n",
       "2                               Heikkinen, Miss. Laina  female  26.0      0   \n",
       "3         Futrelle, Mrs. Jacques Heath (Lily May Peel)  female  35.0      1   \n",
       "4                             Allen, Mr. William Henry    male  35.0      0   \n",
       "..                                                 ...     ...   ...    ...   \n",
       "886                              Montvila, Rev. Juozas    male  27.0      0   \n",
       "887                       Graham, Miss. Margaret Edith  female  19.0      0   \n",
       "888           Johnston, Miss. Catherine Helen \"Carrie\"  female   NaN      1   \n",
       "889                              Behr, Mr. Karl Howell    male  26.0      0   \n",
       "890                                Dooley, Mr. Patrick    male  32.0      0   \n",
       "\n",
       "     Parch            Ticket     Fare Cabin Embarked  \n",
       "0        0         A/5 21171   7.2500   NaN        S  \n",
       "1        0          PC 17599  71.2833   C85        C  \n",
       "2        0  STON/O2. 3101282   7.9250   NaN        S  \n",
       "3        0            113803  53.1000  C123        S  \n",
       "4        0            373450   8.0500   NaN        S  \n",
       "..     ...               ...      ...   ...      ...  \n",
       "886      0            211536  13.0000   NaN        S  \n",
       "887      0            112053  30.0000   B42        S  \n",
       "888      2        W./C. 6607  23.4500   NaN        S  \n",
       "889      0            111369  30.0000  C148        C  \n",
       "890      0            370376   7.7500   NaN        Q  \n",
       "\n",
       "[891 rows x 12 columns]"
      ]
     },
     "execution_count": 8,
     "metadata": {},
     "output_type": "execute_result"
    }
   ],
   "source": [
    "dff=pd.read_csv(\"C:\\\\Users\\\\magar\\\\OneDrive\\\\Desktop\\\\PROGRAMM\\\\Data Science\\\\train.csv\")\n",
    "dff"
   ]
  },
  {
   "cell_type": "code",
   "execution_count": 74,
   "id": "f6361eb2-3713-4149-8cc7-7190b496b2be",
   "metadata": {},
   "outputs": [
    {
     "data": {
      "text/plain": [
       "0"
      ]
     },
     "execution_count": 74,
     "metadata": {},
     "output_type": "execute_result"
    }
   ],
   "source": [
    "dff['Sex'].isnull().sum()"
   ]
  },
  {
   "cell_type": "code",
   "execution_count": 41,
   "id": "4bb52c42-543c-4d7e-8b71-0b72d295efd3",
   "metadata": {},
   "outputs": [
    {
     "data": {
      "text/plain": [
       "[468, 81]"
      ]
     },
     "execution_count": 41,
     "metadata": {},
     "output_type": "execute_result"
    }
   ],
   "source": [
    "survived=[\n",
    "    len(dff[(dff[\"Survived\"]==0) & (dff[\"Sex\"]=='male')]),\n",
    "    len(dff[(dff[\"Survived\"]==0) & (dff[\"Sex\"]=='female')])\n",
    "]\n",
    "survived"
   ]
  },
  {
   "cell_type": "code",
   "execution_count": 108,
   "id": "43b85684-0d5f-4410-bdfd-026f46fd6741",
   "metadata": {},
   "outputs": [],
   "source": [
    "non_survived=[\n",
    "    len(dff[(dff[\"Survived\"]==1) & (dff[\"Sex\"]=='male')]),\n",
    "    len(dff[(dff[\"Survived\"]==1) & (dff[\"Sex\"]=='female')])\n",
    "]"
   ]
  },
  {
   "cell_type": "code",
   "execution_count": 110,
   "id": "d1c47584-ccb8-4839-8deb-bf1e91e87425",
   "metadata": {},
   "outputs": [
    {
     "data": {
      "text/plain": [
       "array([[468,  81],\n",
       "       [109, 233]])"
      ]
     },
     "execution_count": 110,
     "metadata": {},
     "output_type": "execute_result"
    }
   ],
   "source": [
    "observed=np.array([survived,non_survived])\n",
    "observed"
   ]
  },
  {
   "cell_type": "code",
   "execution_count": 112,
   "id": "0155fe2c-9bc4-4f77-8186-2de17386352a",
   "metadata": {},
   "outputs": [],
   "source": [
    "from scipy.stats import chi2_contingency"
   ]
  },
  {
   "cell_type": "code",
   "execution_count": 114,
   "id": "2e9ffbf3-1194-4f4a-b5d1-a4a21e1a01a2",
   "metadata": {},
   "outputs": [
    {
     "data": {
      "text/plain": [
       "1.1973570627755645e-58"
      ]
     },
     "execution_count": 114,
     "metadata": {},
     "output_type": "execute_result"
    }
   ],
   "source": [
    "chi,p_value,dof,expected=chi2_contingency(observed)\n",
    "p_value"
   ]
  },
  {
   "cell_type": "markdown",
   "id": "186229d4-3dde-4a2a-922b-630b63a538da",
   "metadata": {},
   "source": [
    "#### Q5.Did children (age < 16) have a better survival rate than adults (age ≥ 16)?\n",
    "\n",
    "H₀: Survival rate of children = survival rate of adults\n",
    "\n",
    "H₁: Survival rate of children > survival rate o\n",
    "\n",
    "chi-square test"
   ]
  },
  {
   "cell_type": "code",
   "execution_count": 23,
   "id": "944203f5-686b-4f06-8d63-6ee94b71889d",
   "metadata": {},
   "outputs": [
    {
     "data": {
      "text/plain": [
       "[45, 55]"
      ]
     },
     "execution_count": 23,
     "metadata": {},
     "output_type": "execute_result"
    }
   ],
   "source": [
    "survived_child=[\n",
    "    len(dff[(dff[\"Survived\"]==0) & (dff[\"Age\"]<=16)]),\n",
    "    len(dff[(dff[\"Survived\"]==1) & (dff[\"Age\"]<=16)])\n",
    "]\n",
    "survived_child"
   ]
  },
  {
   "cell_type": "code",
   "execution_count": 25,
   "id": "d337c798-4c0f-4bea-82c8-d6c5b4ce2469",
   "metadata": {},
   "outputs": [
    {
     "data": {
      "text/plain": [
       "[379, 235]"
      ]
     },
     "execution_count": 25,
     "metadata": {},
     "output_type": "execute_result"
    }
   ],
   "source": [
    "survived_adult=[\n",
    "    len(dff[(dff[\"Survived\"]==0) & (dff[\"Age\"]>16)]),\n",
    "    len(dff[(dff[\"Survived\"]==1) & (dff[\"Age\"]>16)])\n",
    "]\n",
    "survived_adult"
   ]
  },
  {
   "cell_type": "code",
   "execution_count": 19,
   "id": "b730ccdd-c851-414d-9a22-7d285aebf2a5",
   "metadata": {},
   "outputs": [
    {
     "data": {
      "text/plain": [
       "[45, 379, 55, 235]"
      ]
     },
     "execution_count": 19,
     "metadata": {},
     "output_type": "execute_result"
    }
   ],
   "source": [
    "survived+non_survived"
   ]
  },
  {
   "cell_type": "code",
   "execution_count": 27,
   "id": "72f0b1bb-6df2-465c-a3cd-4871279b8ea8",
   "metadata": {},
   "outputs": [
    {
     "data": {
      "text/plain": [
       "45"
      ]
     },
     "execution_count": 27,
     "metadata": {},
     "output_type": "execute_result"
    }
   ],
   "source": [
    "x=len(dff[(dff[\"Survived\"]==0) & (dff[\"Age\"]<=16)])\n",
    "x"
   ]
  },
  {
   "cell_type": "code",
   "execution_count": 31,
   "id": "abbad84a-26ab-4a8b-b0c5-306931aca832",
   "metadata": {},
   "outputs": [
    {
     "data": {
      "text/plain": [
       "379"
      ]
     },
     "execution_count": 31,
     "metadata": {},
     "output_type": "execute_result"
    }
   ],
   "source": [
    "y=len(dff[(dff[\"Survived\"]==0) & (dff[\"Age\"]>16)])\n",
    "y"
   ]
  },
  {
   "cell_type": "code",
   "execution_count": 37,
   "id": "0a3bbac8-9b8e-40dd-b439-058444a9abb0",
   "metadata": {},
   "outputs": [
    {
     "data": {
      "text/plain": [
       "100"
      ]
     },
     "execution_count": 37,
     "metadata": {},
     "output_type": "execute_result"
    }
   ],
   "source": [
    "h1=(dff[\"Age\"]<=16).sum()\n",
    "h1"
   ]
  },
  {
   "cell_type": "code",
   "execution_count": 39,
   "id": "082d1d6b-3744-47a6-87d5-94949212e433",
   "metadata": {},
   "outputs": [
    {
     "data": {
      "text/plain": [
       "614"
      ]
     },
     "execution_count": 39,
     "metadata": {},
     "output_type": "execute_result"
    }
   ],
   "source": [
    "h2=(dff[\"Age\"]>16).sum()\n",
    "h2"
   ]
  },
  {
   "cell_type": "code",
   "execution_count": 49,
   "id": "273748a5-fef3-4cd1-915b-5f80c3a57588",
   "metadata": {},
   "outputs": [
    {
     "data": {
      "text/plain": [
       "array([[ 45, 100],\n",
       "       [379, 614]], dtype=int64)"
      ]
     },
     "execution_count": 49,
     "metadata": {},
     "output_type": "execute_result"
    }
   ],
   "source": [
    "observed=np.array([[x,h1],[y,h2]])\n",
    "observed"
   ]
  },
  {
   "cell_type": "code",
   "execution_count": 53,
   "id": "e4dcf75e-c7af-4551-bd60-ea5d9e1fece2",
   "metadata": {},
   "outputs": [],
   "source": [
    "from statsmodels.stats.proportion import proportions_ztest"
   ]
  },
  {
   "cell_type": "code",
   "execution_count": null,
   "id": "1761db07-a2e8-46bc-8b06-a4eb8dbb9d06",
   "metadata": {},
   "outputs": [],
   "source": []
  }
 ],
 "metadata": {
  "kernelspec": {
   "display_name": "Python 3 (ipykernel)",
   "language": "python",
   "name": "python3"
  },
  "language_info": {
   "codemirror_mode": {
    "name": "ipython",
    "version": 3
   },
   "file_extension": ".py",
   "mimetype": "text/x-python",
   "name": "python",
   "nbconvert_exporter": "python",
   "pygments_lexer": "ipython3",
   "version": "3.12.7"
  }
 },
 "nbformat": 4,
 "nbformat_minor": 5
}
