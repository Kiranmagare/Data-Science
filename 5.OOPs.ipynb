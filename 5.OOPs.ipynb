{
 "cells": [
  {
   "cell_type": "code",
   "execution_count": 6,
   "id": "55d64c3c-a9a0-4e4c-a6c0-8fbe297410cb",
   "metadata": {},
   "outputs": [
    {
     "data": {
      "text/plain": [
       "list"
      ]
     },
     "execution_count": 6,
     "metadata": {},
     "output_type": "execute_result"
    }
   ],
   "source": [
    "l=[1,2,3,4,5]\n",
    "type(l)"
   ]
  },
  {
   "cell_type": "code",
   "execution_count": 8,
   "id": "e87143e7-cabc-4217-8d83-bfc0f11598c2",
   "metadata": {},
   "outputs": [
    {
     "data": {
      "text/plain": [
       "{'kiran': 1, 'pqr': 2, 'abc': 3}"
      ]
     },
     "execution_count": 8,
     "metadata": {},
     "output_type": "execute_result"
    }
   ],
   "source": [
    "my_dict=dict(kiran=1,pqr=2,abc=3)\n",
    "my_dict"
   ]
  },
  {
   "cell_type": "code",
   "execution_count": 8,
   "id": "3b40110c-8383-44d9-a9e6-1ffd43b055c5",
   "metadata": {},
   "outputs": [
    {
     "name": "stdout",
     "output_type": "stream",
     "text": [
      "[1, 2, 3, 4, 5]\n",
      "[1, 2, 3, 4, 5]\n"
     ]
    }
   ],
   "source": [
    "a=[1,2,3,4]\n",
    "b=a\n",
    "b.append(5)\n",
    "print(a)\n",
    "print(b)"
   ]
  },
  {
   "cell_type": "code",
   "execution_count": 14,
   "id": "6c38b30d-d760-47d4-9533-4107f26705ca",
   "metadata": {},
   "outputs": [],
   "source": [
    "class sample:\n",
    "    def __init__(self):\n",
    "        self.name=\"Kiran\"\n",
    "        self.marks=80"
   ]
  },
  {
   "cell_type": "code",
   "execution_count": 20,
   "id": "39d4e793-de66-4c22-931b-44e77d23230e",
   "metadata": {},
   "outputs": [
    {
     "data": {
      "text/plain": [
       "'Kiran'"
      ]
     },
     "execution_count": 20,
     "metadata": {},
     "output_type": "execute_result"
    }
   ],
   "source": [
    "obj.name"
   ]
  },
  {
   "cell_type": "code",
   "execution_count": 22,
   "id": "73c06c87-7e9b-485d-b295-a84d1bfc7825",
   "metadata": {},
   "outputs": [
    {
     "data": {
      "text/plain": [
       "80"
      ]
     },
     "execution_count": 22,
     "metadata": {},
     "output_type": "execute_result"
    }
   ],
   "source": [
    "obj.marks"
   ]
  },
  {
   "cell_type": "code",
   "execution_count": 16,
   "id": "229a68c6-c746-4095-bbb1-13fc67d982a2",
   "metadata": {},
   "outputs": [
    {
     "name": "stdout",
     "output_type": "stream",
     "text": [
      "1498622872704\n"
     ]
    }
   ],
   "source": [
    "obj=sample()\n",
    "print(id(obj))"
   ]
  },
  {
   "cell_type": "code",
   "execution_count": 18,
   "id": "9fb77acc-014b-4264-9e0c-06832bb1e138",
   "metadata": {},
   "outputs": [],
   "source": [
    "l=[1,2,3,4]\n",
    "len(l) #function\n",
    "l.append(5) #method"
   ]
  },
  {
   "cell_type": "code",
   "execution_count": 42,
   "id": "c752f532-60d2-4b59-abfa-06bc5687e255",
   "metadata": {},
   "outputs": [],
   "source": [
    "class sample:\n",
    "    def __init__(self,name,marks):\n",
    "        self.name=name\n",
    "        self.marks=marks\n",
    "    def display(self):\n",
    "        print(self.name)\n",
    "        print(self.marks)"
   ]
  },
  {
   "cell_type": "code",
   "execution_count": 44,
   "id": "7d32cf87-e44f-4ea3-aa94-0aad133835c5",
   "metadata": {},
   "outputs": [
    {
     "name": "stdout",
     "output_type": "stream",
     "text": [
      "Kiran\n",
      "80\n"
     ]
    }
   ],
   "source": [
    "s1=sample(\"Kiran\",80)\n",
    "s1.display()"
   ]
  },
  {
   "cell_type": "code",
   "execution_count": 36,
   "id": "af68ef93-78ae-4db9-ba42-f9f7fc201e3d",
   "metadata": {},
   "outputs": [
    {
     "name": "stdout",
     "output_type": "stream",
     "text": [
      "Kiran\n",
      "80\n"
     ]
    }
   ],
   "source": [
    "s2=sample()\n",
    "s2.display()"
   ]
  },
  {
   "cell_type": "code",
   "execution_count": 38,
   "id": "a9888669-c768-4bae-b61f-b8d6f920c1e3",
   "metadata": {},
   "outputs": [
    {
     "name": "stdout",
     "output_type": "stream",
     "text": [
      "1498650719632\n",
      "1498622714480\n"
     ]
    }
   ],
   "source": [
    "print(id(s1))\n",
    "print(id(s2))"
   ]
  },
  {
   "cell_type": "code",
   "execution_count": 60,
   "id": "4dc72094-2065-4351-a32f-e0a4491eb11e",
   "metadata": {},
   "outputs": [
    {
     "name": "stdin",
     "output_type": "stream",
     "text": [
      "enter any name:  Kiran\n",
      "Enter marks: 85\n"
     ]
    },
    {
     "name": "stdout",
     "output_type": "stream",
     "text": [
      "Kiran\n",
      "85\n"
     ]
    }
   ],
   "source": [
    "class sample:\n",
    "    def __init__(self,name,marks):\n",
    "        self.name=input(\"enter any name: \")\n",
    "        self.marks=input(\"Enter marks:\")\n",
    "    def display(self):\n",
    "        print(self.name)\n",
    "        print(self.marks)\n",
    "s3=sample(\"name\",\"marks\")\n",
    "s3.display()"
   ]
  },
  {
   "cell_type": "code",
   "execution_count": 64,
   "id": "df7006e0-1eb5-47eb-a876-71fd51d27f89",
   "metadata": {},
   "outputs": [
    {
     "name": "stdout",
     "output_type": "stream",
     "text": [
      "1498608032304\n",
      "1498608032304\n"
     ]
    }
   ],
   "source": [
    "class sample:\n",
    "    def __init__(self):\n",
    "        self.name=\"Kiran\"\n",
    "        self.marks=85\n",
    "        print(id(self))\n",
    "    def display(self):\n",
    "        print(self.name)\n",
    "        print(self.marks)\n",
    "s1=sample()\n",
    "print(id(s1))"
   ]
  },
  {
   "cell_type": "code",
   "execution_count": null,
   "id": "d1236c8f-3f4d-4124-871a-8e43c284ed70",
   "metadata": {},
   "outputs": [
    {
     "name": "stdin",
     "output_type": "stream",
     "text": [
      "please enter the number:\n",
      "        1.enter 1 for creating pin\n",
      "        2. enter 2for changing pin\n",
      "        3, enter 3 for checking the balance\n",
      "        4. enter 4 for withdraw\n",
      "        5. enter 5 for deposite\n",
      "        6.anything else to exit\n",
      "         1\n",
      "Enter the pin: 2002\n",
      "re-enter the pin: 2002\n"
     ]
    },
    {
     "name": "stdout",
     "output_type": "stream",
     "text": [
      "pin created successfully\n"
     ]
    },
    {
     "name": "stdin",
     "output_type": "stream",
     "text": [
      "please enter the number:\n",
      "        1.enter 1 for creating pin\n",
      "        2. enter 2for changing pin\n",
      "        3, enter 3 for checking the balance\n",
      "        4. enter 4 for withdraw\n",
      "        5. enter 5 for deposite\n",
      "        6.anything else to exit\n",
      "         2\n",
      "Enter the pin: 2002\n",
      "Enter old pin:  2002\n",
      "Enter new pin 2000\n"
     ]
    },
    {
     "name": "stdout",
     "output_type": "stream",
     "text": [
      "pin created\n"
     ]
    }
   ],
   "source": [
    "class AtmMachine:\n",
    "    def __init__(self):\n",
    "        self.pin=''\n",
    "        self.balance=0\n",
    "    def menu(self):\n",
    "        user_input=input(\"\"\"please enter the number:\n",
    "        1.enter 1 for creating pin\n",
    "        2. enter 2for changing pin\n",
    "        3, enter 3 for checking the balance\n",
    "        4. enter 4 for withdraw\n",
    "        5. enter 5 for deposite\n",
    "        6.anything else to exit\n",
    "        \"\"\")\n",
    "        if user_input=='1':\n",
    "            #we have to create pin\n",
    "            self.create_pin()\n",
    "        elif user_input=='2':\n",
    "            self.change_pin()\n",
    "        elif user_input=='3':\n",
    "            self.check_balance()\n",
    "        elif user_input=='4':\n",
    "            self.withdraw()\n",
    "        elif user_input=='5':\n",
    "            self.deposite()\n",
    "        else:\n",
    "            self.exit()\n",
    "    def create_pin(self):\n",
    "        user_pin=int(input(\"Enter the pin:\"))\n",
    "        re_pin=int(input(\"re-enter the pin:\"))\n",
    "        if user_pin==re_pin:\n",
    "            print(\"pin created successfully\")\n",
    "        else:\n",
    "            print(\"Galat enter kiya hai\")\n",
    "        self.menu()\n",
    "        \n",
    "    def change_pin(self):\n",
    "        user_pin=int(input(\"Enter the pin:\"))\n",
    "        old_pin=int(input(\"Enter old pin: \"))\n",
    "        if user_pin==old_pin:\n",
    "            new_pin=int(input(\"Enter new pin\"))\n",
    "            print(\"pin created\")\n",
    "        else:\n",
    "            print(\"bhool gaya tu!!\")\n",
    "        self.menu()\n",
    "        \n",
    "s1=AtmMachine()\n",
    "s1.menu()\n"
   ]
  },
  {
   "cell_type": "code",
   "execution_count": 3,
   "id": "c0e1e777-a049-4e2a-bc74-34a50f3be55f",
   "metadata": {},
   "outputs": [
    {
     "name": "stdout",
     "output_type": "stream",
     "text": [
      "[15, 12]\n",
      "[15]\n",
      "1\n",
      "15\n"
     ]
    }
   ],
   "source": [
    "class Stack:\n",
    "    def __init_(self):\n",
    "        self.stack=[]\n",
    "    def push(self,ele1,ele2):\n",
    "        self.stack.append(ele1)\n",
    "        self.stack.append(ele2)\n",
    "        print(self.stack)\n",
    "    def pop(self):\n",
    "        if len(self.stack)==0:\n",
    "            print(\"stack is empty.\")\n",
    "        else:\n",
    "            self.stack.pop()\n",
    "            print(self.stack)\n",
    "    def size(self):\n",
    "        print(len(self.stack))\n",
    "    def peek(self):\n",
    "        if len(self.stack)==0:\n",
    "            print(\"it is empty\")\n",
    "        else:\n",
    "            print(self.stack[-1])\n",
    "s1=Stack()\n",
    "s1.push(15,12)\n",
    "s1.pop()\n",
    "s1.size()\n",
    "s1.peek()"
   ]
  },
  {
   "cell_type": "code",
   "execution_count": 2,
   "id": "67bd7082-87cf-45fa-a641-71340bcadb71",
   "metadata": {},
   "outputs": [],
   "source": [
    "#Count the objects\n"
   ]
  },
  {
   "cell_type": "code",
   "execution_count": 4,
   "id": "9d55f7a5-ec7a-4a28-a7d4-7b1239c495fb",
   "metadata": {},
   "outputs": [],
   "source": [
    "#Binary search tree"
   ]
  },
  {
   "cell_type": "code",
   "execution_count": 12,
   "id": "5a680263-ca71-4e3f-b33b-3b7b884b4f7e",
   "metadata": {},
   "outputs": [
    {
     "name": "stdout",
     "output_type": "stream",
     "text": [
      "{'root': 10, 'LC': {'root': 5, 'LC': None, 'RC': {'root': 7, 'LC': None, 'RC': None}}, 'RC': {'root': 11, 'LC': None, 'RC': {'root': 13, 'LC': None, 'RC': None}}}\n"
     ]
    }
   ],
   "source": [
    "def BST(root,key):\n",
    "    dict={'root':None,'LC':None,'RC':None}\n",
    "    def insertion(root,key):\n",
    "        if root is None:\n",
    "            return{'root':key,'LC':None,'RC':None}\n",
    "        if key<root:\n",
    "            root['LC']=insertion(root['LC'],key)\n",
    "        if key>root:\n",
    "            root['RC']=insertion(root['RC'],Key)\n",
    "        return root\n",
    "root=None\n",
    "root=insert(root,10)\n",
    "root=insert(root,5)\n",
    "root=insert(root,7)\n",
    "root=insert(root,11)\n",
    "root=insert(root,13)\n",
    "print(root)"
   ]
  },
  {
   "cell_type": "code",
   "execution_count": 6,
   "id": "e5108263-a048-4058-b239-10f47b041b34",
   "metadata": {},
   "outputs": [],
   "source": [
    "#u have to take the n no. of people in round table seatted and every k=4 no of people is killed output want that who is live\n"
   ]
  },
  {
   "cell_type": "code",
   "execution_count": 8,
   "id": "df93f4e0-3bf4-45c8-b70d-8a16eb79e2af",
   "metadata": {},
   "outputs": [
    {
     "name": "stdout",
     "output_type": "stream",
     "text": [
      "Hello\n"
     ]
    }
   ],
   "source": [
    "class sample:\n",
    "    print(\"Hello\")"
   ]
  },
  {
   "cell_type": "code",
   "execution_count": 10,
   "id": "e0ff7c0c-61da-4b85-8d0d-2e6db75e4fa0",
   "metadata": {},
   "outputs": [
    {
     "name": "stdout",
     "output_type": "stream",
     "text": [
      "10\n"
     ]
    }
   ],
   "source": [
    "class sample:\n",
    "    a=10\n",
    "    print(a)"
   ]
  },
  {
   "cell_type": "code",
   "execution_count": 14,
   "id": "4c85f864-5be8-47fe-a3de-a1934be18501",
   "metadata": {},
   "outputs": [],
   "source": [
    "class sample:\n",
    "    def __init__(self,name,country):\n",
    "        self.name=name\n",
    "        self.country=country\n",
    "obj=sample(\"Kiran\",\"India\")"
   ]
  },
  {
   "cell_type": "code",
   "execution_count": 20,
   "id": "12a3a826-00aa-4937-bf88-eba060bc09bc",
   "metadata": {},
   "outputs": [
    {
     "data": {
      "text/plain": [
       "'Kiran'"
      ]
     },
     "execution_count": 20,
     "metadata": {},
     "output_type": "execute_result"
    }
   ],
   "source": [
    "#accessing the atrributes\n",
    "obj.name"
   ]
  },
  {
   "cell_type": "code",
   "execution_count": 18,
   "id": "224c84ba-7eb4-4763-88ec-9b65a06532f8",
   "metadata": {},
   "outputs": [
    {
     "data": {
      "text/plain": [
       "'India'"
      ]
     },
     "execution_count": 18,
     "metadata": {},
     "output_type": "execute_result"
    }
   ],
   "source": [
    "obj.country"
   ]
  },
  {
   "cell_type": "code",
   "execution_count": 22,
   "id": "4c64872c-b276-4628-80a9-982d0dc8a3f9",
   "metadata": {},
   "outputs": [],
   "source": [
    "#define the attributes outside the class\n",
    "class sample:\n",
    "    def __init__(self,name,age):\n",
    "        self.name=name\n",
    "        self.age=age\n",
    "obj=sample(\"Kiran\",\"age\")"
   ]
  },
  {
   "cell_type": "code",
   "execution_count": 24,
   "id": "2677d336-9a5c-4d78-8b41-f6b9a99fb326",
   "metadata": {},
   "outputs": [],
   "source": [
    "obj.age=23"
   ]
  },
  {
   "cell_type": "code",
   "execution_count": 26,
   "id": "e56cd46a-73d3-4440-9f4a-ca62cb51bcc6",
   "metadata": {},
   "outputs": [
    {
     "data": {
      "text/plain": [
       "23"
      ]
     },
     "execution_count": 26,
     "metadata": {},
     "output_type": "execute_result"
    }
   ],
   "source": [
    "obj.age"
   ]
  },
  {
   "cell_type": "code",
   "execution_count": 38,
   "id": "efaea20d-e697-4a77-9d17-bad23e8c8f05",
   "metadata": {},
   "outputs": [
    {
     "name": "stdout",
     "output_type": "stream",
     "text": [
      "2129731670560\n",
      "Kiran\n",
      "London\n",
      "2129731670560\n"
     ]
    }
   ],
   "source": [
    "#call by reference concept\n",
    "class sample:\n",
    "    def __init__(self,name,country):\n",
    "        self.name=name\n",
    "        self.country=country\n",
    "def fun(person):\n",
    "    print(person.name)\n",
    "    print(person.country)\n",
    "    print(id(person))\n",
    "obj=sample(\"Kiran\",\"London\")\n",
    "print(id(obj))\n",
    "fun(obj)"
   ]
  },
  {
   "cell_type": "code",
   "execution_count": 44,
   "id": "413db17e-364b-435f-a2d7-d74712b856ef",
   "metadata": {},
   "outputs": [
    {
     "name": "stdout",
     "output_type": "stream",
     "text": [
      "Kiran\n",
      "London\n",
      "Kiran\n",
      "London\n"
     ]
    }
   ],
   "source": [
    "class sample:\n",
    "    def __init__(self,name,country):\n",
    "        self.name=name\n",
    "        self.country=country\n",
    "def fun(person):\n",
    "    print(person.name)\n",
    "    print(person.country)\n",
    "    return person\n",
    "obj=sample(\"Kiran\",\"London\")\n",
    "p1=fun(obj)\n",
    "print(p1.name)\n",
    "print(p1.country)"
   ]
  },
  {
   "cell_type": "code",
   "execution_count": 46,
   "id": "94f539b1-2e87-491c-a4b8-195ee0151d74",
   "metadata": {},
   "outputs": [
    {
     "name": "stdout",
     "output_type": "stream",
     "text": [
      "Kiran\n",
      "London\n",
      "Hardik\n",
      "London\n"
     ]
    }
   ],
   "source": [
    "class sample:\n",
    "    def __init__(self,name,country):\n",
    "        self.name=name\n",
    "        self.country=country\n",
    "def fun(person):\n",
    "    print(person.name)\n",
    "    print(person.country)\n",
    "    person.name=\"Hardik\"\n",
    "    return person\n",
    "obj=sample(\"Kiran\",\"London\")\n",
    "p1=fun(obj)\n",
    "print(p1.name)\n",
    "print(p1.country)"
   ]
  },
  {
   "cell_type": "code",
   "execution_count": 50,
   "id": "b7799891-4956-40ce-960d-8f9b166592a0",
   "metadata": {},
   "outputs": [
    {
     "name": "stdout",
     "output_type": "stream",
     "text": [
      "Kiran\n",
      "London\n"
     ]
    }
   ],
   "source": [
    "class sample:\n",
    "    def __init__(self,name,country):\n",
    "        #parameterized constructor\n",
    "        self.name=name\n",
    "        self.country=country\n",
    "def fun(person):\n",
    "    print(person.name)\n",
    "    print(person.country)\n",
    "p=sample(\"Kiran\",\"London\")\n",
    "q=p\n",
    "print(q.name)\n",
    "print(q.country)"
   ]
  },
  {
   "cell_type": "code",
   "execution_count": 52,
   "id": "1f464efb-fa72-4c2f-96c2-63a49d80fc45",
   "metadata": {},
   "outputs": [],
   "source": [
    "#count the no. of object is created for the class\n"
   ]
  },
  {
   "cell_type": "code",
   "execution_count": 2,
   "id": "30b55c37-f4c0-44cd-af2b-38d0e729a64f",
   "metadata": {},
   "outputs": [],
   "source": [
    "class sample:\n",
    "    def __init__(self,name,country):\n",
    "        self.name=name\n",
    "        self.country=country\n",
    "p1=sample(\"Kiran\",\"India\")\n",
    "p2=sample(\"Hardeek\",\"USA\")\n",
    "del p1"
   ]
  },
  {
   "cell_type": "code",
   "execution_count": 6,
   "id": "65776ae2-daa6-44b1-8ef6-3c3e663c6841",
   "metadata": {},
   "outputs": [
    {
     "name": "stdout",
     "output_type": "stream",
     "text": [
      "52\n",
      "70000\n"
     ]
    }
   ],
   "source": [
    "class employe:\n",
    "    def __init__(self,ID,salary):\n",
    "        self.ID=ID\n",
    "        self.salary=salary\n",
    "    def display(self):\n",
    "        print(self.ID)\n",
    "        print(self.salary)\n",
    "obj=employe(52,70000)\n",
    "obj.display()"
   ]
  },
  {
   "cell_type": "code",
   "execution_count": 8,
   "id": "634fbb9d-e925-4fda-b485-4d237ab43011",
   "metadata": {},
   "outputs": [
    {
     "name": "stdout",
     "output_type": "stream",
     "text": [
      "52\n",
      "50000\n"
     ]
    }
   ],
   "source": [
    "obj.salary=50000\n",
    "obj.display()"
   ]
  },
  {
   "cell_type": "code",
   "execution_count": 10,
   "id": "46c08835-c987-49bc-b1a6-24808ac89f10",
   "metadata": {},
   "outputs": [
    {
     "name": "stdout",
     "output_type": "stream",
     "text": [
      "10\n",
      "45000\n"
     ]
    }
   ],
   "source": [
    "class employe:\n",
    "    def __init__(self,ID,salary):\n",
    "        self.ID=ID\n",
    "        self.__salary=salary\n",
    "    def display(self):\n",
    "        print(self.ID)\n",
    "        print(self.__salary)\n",
    "obj=employe(10,45000)\n",
    "obj.display()"
   ]
  },
  {
   "cell_type": "code",
   "execution_count": 12,
   "id": "25cb097b-d894-4212-84d0-290ec5b5873f",
   "metadata": {},
   "outputs": [
    {
     "data": {
      "text/plain": [
       "10"
      ]
     },
     "execution_count": 12,
     "metadata": {},
     "output_type": "execute_result"
    }
   ],
   "source": [
    "obj.ID"
   ]
  },
  {
   "cell_type": "code",
   "execution_count": 22,
   "id": "79ce7af5-2efb-4ea3-8c43-9fc25e8eea7f",
   "metadata": {},
   "outputs": [
    {
     "ename": "AttributeError",
     "evalue": "'employe' object has no attribute 'salary'",
     "output_type": "error",
     "traceback": [
      "\u001b[1;31m---------------------------------------------------------------------------\u001b[0m",
      "\u001b[1;31mAttributeError\u001b[0m                            Traceback (most recent call last)",
      "Cell \u001b[1;32mIn[22], line 1\u001b[0m\n\u001b[1;32m----> 1\u001b[0m obj\u001b[38;5;241m.\u001b[39msalary\n",
      "\u001b[1;31mAttributeError\u001b[0m: 'employe' object has no attribute 'salary'"
     ]
    }
   ],
   "source": [
    "obj.salary"
   ]
  },
  {
   "cell_type": "code",
   "execution_count": 24,
   "id": "10208fd0-5fcb-4fd4-b24e-425f98e2452c",
   "metadata": {},
   "outputs": [
    {
     "data": {
      "text/plain": [
       "45000"
      ]
     },
     "execution_count": 24,
     "metadata": {},
     "output_type": "execute_result"
    }
   ],
   "source": [
    "#accessing private attributes\n",
    "obj._employe__salary"
   ]
  },
  {
   "cell_type": "code",
   "execution_count": 30,
   "id": "3dc004f7-7cf7-4f3f-bba0-15419c3e3002",
   "metadata": {},
   "outputs": [
    {
     "name": "stdin",
     "output_type": "stream",
     "text": [
      "Enter the username: Kiran\n",
      "Enter the password 2002\n",
      "Enter the password 2003\n"
     ]
    },
    {
     "name": "stdout",
     "output_type": "stream",
     "text": [
      "login failed\n"
     ]
    }
   ],
   "source": [
    "#program for login system\n",
    "class login:\n",
    "    def __init__(self,username,password):\n",
    "        self.username=username\n",
    "        self.__password=password\n",
    "username=input(\"Enter the username:\")\n",
    "password=input(\"Enter the password\")\n",
    "obj=login(username,password)\n",
    "new_password=input(\"Enter the password\")\n",
    "if obj._login__password==new_password:\n",
    "    print(\"Login successful\")\n",
    "else:\n",
    "    print(\"login failed\")"
   ]
  },
  {
   "cell_type": "code",
   "execution_count": 4,
   "id": "17b82efa-7e31-487a-b1d8-ab8fbfb5a260",
   "metadata": {},
   "outputs": [],
   "source": [
    "class school:\n",
    "    def __init__(self,name,marks):\n",
    "        self.name=name\n",
    "        self.marks=marks\n",
    "    def display(self):\n",
    "        print(\"student detailed saved\")\n",
    "class student(school):\n",
    "    def get_status(self):\n",
    "        print(\"student got admitted\")\n",
    "s=student(\"Kiran\",70)\n"
   ]
  },
  {
   "cell_type": "code",
   "execution_count": 6,
   "id": "7f578cb7-c286-42c8-965e-1f5ade5094bf",
   "metadata": {},
   "outputs": [
    {
     "data": {
      "text/plain": [
       "'Kiran'"
      ]
     },
     "execution_count": 6,
     "metadata": {},
     "output_type": "execute_result"
    }
   ],
   "source": [
    "s.name"
   ]
  },
  {
   "cell_type": "code",
   "execution_count": 8,
   "id": "ba6a663f-2cd9-4a52-a7fc-eec39366c7b0",
   "metadata": {},
   "outputs": [
    {
     "data": {
      "text/plain": [
       "70"
      ]
     },
     "execution_count": 8,
     "metadata": {},
     "output_type": "execute_result"
    }
   ],
   "source": [
    "s.marks"
   ]
  },
  {
   "cell_type": "code",
   "execution_count": 10,
   "id": "9c68f758-456a-4528-b33f-9615a38c54a9",
   "metadata": {},
   "outputs": [
    {
     "name": "stdout",
     "output_type": "stream",
     "text": [
      "student detailed saved\n"
     ]
    }
   ],
   "source": [
    "s.display()"
   ]
  },
  {
   "cell_type": "code",
   "execution_count": 12,
   "id": "6b30509c-f5a6-4adf-9776-c5fab21091f6",
   "metadata": {},
   "outputs": [
    {
     "name": "stdout",
     "output_type": "stream",
     "text": [
      "student got admitted\n"
     ]
    }
   ],
   "source": [
    "s.get_status()"
   ]
  },
  {
   "cell_type": "code",
   "execution_count": 14,
   "id": "33161a1a-47bd-4a9d-a85d-45b9d0927a5e",
   "metadata": {},
   "outputs": [],
   "source": [
    "sh=school(\"Keshav\",75)"
   ]
  },
  {
   "cell_type": "code",
   "execution_count": 16,
   "id": "768e9fe6-c655-4e54-a937-dbd4ae8c38cc",
   "metadata": {},
   "outputs": [
    {
     "ename": "AttributeError",
     "evalue": "'school' object has no attribute 'get_status'",
     "output_type": "error",
     "traceback": [
      "\u001b[1;31m---------------------------------------------------------------------------\u001b[0m",
      "\u001b[1;31mAttributeError\u001b[0m                            Traceback (most recent call last)",
      "Cell \u001b[1;32mIn[16], line 1\u001b[0m\n\u001b[1;32m----> 1\u001b[0m sh\u001b[38;5;241m.\u001b[39mget_status()\n",
      "\u001b[1;31mAttributeError\u001b[0m: 'school' object has no attribute 'get_status'"
     ]
    }
   ],
   "source": [
    "sh.get_status()"
   ]
  },
  {
   "cell_type": "code",
   "execution_count": 32,
   "id": "b0d81f55-09c2-4681-98f5-491c7c19dc69",
   "metadata": {},
   "outputs": [
    {
     "name": "stdout",
     "output_type": "stream",
     "text": [
      "pant purchased\n"
     ]
    }
   ],
   "source": [
    "class shirt:#parent class\n",
    "    def __init__(self,color,size,price):\n",
    "        self.color=color\n",
    "        self.size=size\n",
    "        self.price=price\n",
    "    def display(self):\n",
    "        print(self.color)\n",
    "        print(self.size)\n",
    "        print(self.price)\n",
    "        print(\"shirt purchased\")\n",
    "class pant(shirt):#child class\n",
    "    def __init__(self,color,size,price):\n",
    "        self.color=color\n",
    "        self.size=size\n",
    "        self.price=price\n",
    "        print(\"pant purchased\")\n",
    "p=pant(\"White\",\"XL\",1500)"
   ]
  },
  {
   "cell_type": "code",
   "execution_count": 30,
   "id": "0270ab65-4cb9-40eb-9a16-ea3bc21bf774",
   "metadata": {},
   "outputs": [
    {
     "name": "stdout",
     "output_type": "stream",
     "text": [
      "White\n",
      "XL\n",
      "1500\n",
      "shirt purchased\n"
     ]
    }
   ],
   "source": [
    "p.display()"
   ]
  },
  {
   "cell_type": "code",
   "execution_count": 34,
   "id": "8f0438f1-e7a9-4561-bd0e-140a042b49c8",
   "metadata": {},
   "outputs": [],
   "source": [
    "class college:\n",
    "    def __init__(self,name,ID,marks):\n",
    "        self.name=name\n",
    "        self.ID=ID\n",
    "        self.marks=marks\n",
    "    def display(self):\n",
    "        print(self.name)\n",
    "        print(self.ID)\n",
    "        print(self.marks)\n",
    "class student(college):\n",
    "    def display(self):\n",
    "        print(\"student registered\")\n",
    "s=student(\"Keshav\",10,90)"
   ]
  },
  {
   "cell_type": "code",
   "execution_count": 36,
   "id": "f11cb665-03ba-4712-b23c-9cf4266f1c91",
   "metadata": {},
   "outputs": [
    {
     "name": "stdout",
     "output_type": "stream",
     "text": [
      "student registered\n"
     ]
    }
   ],
   "source": [
    "s.display()"
   ]
  },
  {
   "cell_type": "code",
   "execution_count": 38,
   "id": "bee0f8c2-7a09-45bc-87ef-95cb4ac1ca80",
   "metadata": {},
   "outputs": [],
   "source": [
    "class shirt:#parent class\n",
    "    def __init__(self,color,size,price):\n",
    "        self.color=color\n",
    "        self.size=size\n",
    "        self.__price=price\n",
    "class pant(shirt):\n",
    "    def display(self):\n",
    "        print(self._shirt__price)\n",
    "p=pant(\"White\",\"XL\",1200)\n",
    "        "
   ]
  },
  {
   "cell_type": "code",
   "execution_count": 40,
   "id": "9f2cbf27-56ad-4e24-8514-d9d00134c316",
   "metadata": {},
   "outputs": [
    {
     "name": "stdout",
     "output_type": "stream",
     "text": [
      "1200\n"
     ]
    }
   ],
   "source": [
    "p.display()"
   ]
  },
  {
   "cell_type": "code",
   "execution_count": 48,
   "id": "e4638f82-baf2-451b-83b6-d2d75807044c",
   "metadata": {},
   "outputs": [
    {
     "name": "stdout",
     "output_type": "stream",
     "text": [
      "Black\n",
      "xl\n",
      "2000\n",
      "child class method\n"
     ]
    }
   ],
   "source": [
    "#superb method\n",
    "class shirt:\n",
    "    def __init__(self,color,size,price):\n",
    "         self.color=color\n",
    "         self.size=size\n",
    "         self.price=price\n",
    "    def display(self):\n",
    "        print(self.color)\n",
    "        print(self.size)\n",
    "        print(self.price)\n",
    "class pant(shirt):\n",
    "    def display(self):\n",
    "        super().display()\n",
    "        print(\"child class method\")\n",
    "p=pant(\"Black\",\"xl\",2000)\n",
    "p.display()\n",
    "\n"
   ]
  },
  {
   "cell_type": "markdown",
   "id": "84841a4d-6597-4116-9ea6-7a8fd56554c7",
   "metadata": {},
   "source": [
    "# @Inheritance"
   ]
  },
  {
   "cell_type": "code",
   "execution_count": 58,
   "id": "b9b56e3c-2096-4d46-8cdd-2014468fe966",
   "metadata": {},
   "outputs": [
    {
     "name": "stdout",
     "output_type": "stream",
     "text": [
      "child class method\n",
      "Black\n",
      "xl\n",
      "2000\n"
     ]
    }
   ],
   "source": [
    "class shirt:\n",
    "    def __init__(self,color,size,price):\n",
    "         self.color=color\n",
    "         self.size=size\n",
    "         self.price=price\n",
    "    def display(self):\n",
    "        print(self.color)\n",
    "        print(self.size)\n",
    "        print(self.price)\n",
    "class pant(shirt):\n",
    "    def __init__(self,color,size,price):\n",
    "        super().__init__(color,size,price)\n",
    "        print(\"child class method\")\n",
    "p=pant(\"Black\",\"xl\",2000)\n",
    "p.display()"
   ]
  },
  {
   "cell_type": "code",
   "execution_count": 90,
   "id": "6d811eda-ee21-4bdc-984d-282bedc6c9d2",
   "metadata": {},
   "outputs": [
    {
     "name": "stdout",
     "output_type": "stream",
     "text": [
      "10\n",
      "20\n"
     ]
    }
   ],
   "source": [
    "class test:\n",
    "    def __init__(self,a):\n",
    "        self.a=10\n",
    "class test1(test):\n",
    "    def __init__(self,a,b):\n",
    "        self.b=20\n",
    "    def display(self):\n",
    "        super().__init__('a')\n",
    "        print(self.a)\n",
    "        print(self.b)\n",
    "t=test1('a','b')\n",
    "t.display()"
   ]
  },
  {
   "cell_type": "code",
   "execution_count": 6,
   "id": "b223d3b9-c67c-4a98-b40c-be60f0b81967",
   "metadata": {},
   "outputs": [
    {
     "name": "stdout",
     "output_type": "stream",
     "text": [
      "product details\n",
      "Python Programming\n",
      "29.99\n",
      "An introduction to Python.\n",
      "John Doe\n",
      "TechPress\n"
     ]
    }
   ],
   "source": [
    "class product:\n",
    "    def __init__(self,name,price,description):\n",
    "        self.name=name\n",
    "        self.price=price\n",
    "        self.description=description\n",
    "    def display_details(self):\n",
    "        print(\"product details\")\n",
    "        print(self.name)\n",
    "        print(self.price)\n",
    "        print(self.description)\n",
    "class book(product):\n",
    "    def __init__(self,name,price,description,author,publisher):\n",
    "        super().__init__(name,price,description)\n",
    "        self.author=author\n",
    "        self.publisher=publisher\n",
    "    def display_details(self):\n",
    "        super().display_details()\n",
    "        print(self.author)\n",
    "        print(self.publisher)\n",
    "b=book(\"Python Programming\", 29.99, \"An introduction to Python.\", \"John Doe\", \"TechPress\")\n",
    "b.display_details()"
   ]
  },
  {
   "cell_type": "markdown",
   "id": "5bf08221-7b3a-48b1-881f-3144bf4a6425",
   "metadata": {},
   "source": [
    "## @1/02/2025"
   ]
  },
  {
   "cell_type": "code",
   "execution_count": 18,
   "id": "154d764f-f9dc-4d0d-b34b-a917ef9a8fc3",
   "metadata": {},
   "outputs": [
    {
     "name": "stdout",
     "output_type": "stream",
     "text": [
      "Kiran\n",
      "22\n",
      "2011031\n",
      "75\n",
      "Btech\n"
     ]
    }
   ],
   "source": [
    "# multilevel inheritance\n",
    "class person:\n",
    "    def __init__(self,name,age):\n",
    "        self.name=name\n",
    "        self.age=age\n",
    "    def person_display(self):\n",
    "        print(self.name)\n",
    "        print(self.age)\n",
    "class student(person):\n",
    "    def __init__(self,name,age,rollno,grades):\n",
    "        super().__init__(name,age)\n",
    "        self.roll_no=rollno\n",
    "        self.grades=grades\n",
    "    def student_display(self):\n",
    "        print(self.roll_no)\n",
    "        print(self.grades)\n",
    "class graduate(student):\n",
    "    def __init__(self,name,age,rollno,grades,degree):\n",
    "        super().__init__(name,age,rollno,grades)\n",
    "        self.degree=degree\n",
    "    def graduate_display(self):\n",
    "        print(self.name)\n",
    "        print(self.age)\n",
    "        print(self.roll_no)\n",
    "        print(self.grades)\n",
    "        print(self.degree)\n",
    "p=graduate(\"Kiran\",22,2011031,75,\"Btech\")\n",
    "p.graduate_display()"
   ]
  },
  {
   "cell_type": "code",
   "execution_count": 20,
   "id": "623b91f8-9875-4616-b424-d27fc006e651",
   "metadata": {},
   "outputs": [
    {
     "name": "stdout",
     "output_type": "stream",
     "text": [
      "Student Details:\n",
      "90\n",
      "math\n",
      "Extracurricular Details:\n",
      "sports\n",
      "runner up\n"
     ]
    }
   ],
   "source": [
    "#multiple inheritance\n",
    "class academic:\n",
    "    def __init__(self,grades,subjects):\n",
    "        self.grades=grades\n",
    "        self.subjects=subjects\n",
    "    def academic_display(self):\n",
    "        print(self.grades)\n",
    "        print(self.subjects)\n",
    "class extracurriculum(academic):\n",
    "    def __init__(self,grades,subjects,activities,awards):\n",
    "        super().__init__(grades,subjects)\n",
    "        self.activities=activities\n",
    "        self.awards=awards\n",
    "    def extracurricular_display(self):\n",
    "        print(\"Extracurricular Details:\")\n",
    "        print(self.activities)\n",
    "        print(self.awards)\n",
    "class student(extracurriculum):\n",
    "     def __init__(self,grades,subjects,activities,awards):\n",
    "         super().__init__(grades,subjects,activities,awards)\n",
    "     def display(self):\n",
    "        print(\"Student Details:\")\n",
    "        self.academic_display()\n",
    "        self.extracurricular_display()\n",
    "s=student(90,\"math\",\"sports\",\"runner up\")\n",
    "s.display()\n",
    "    "
   ]
  },
  {
   "cell_type": "code",
   "execution_count": 2,
   "id": "31694bd3-a96f-4d9a-bbe2-56afe140defe",
   "metadata": {},
   "outputs": [
    {
     "name": "stdout",
     "output_type": "stream",
     "text": [
      "Kiran\n",
      "22\n"
     ]
    }
   ],
   "source": [
    "#Hierarchical inheritance\n",
    "class person:\n",
    "    def __init__(self,name,age):\n",
    "        self.name=name\n",
    "        self.age=age\n",
    "    def person_display(self):\n",
    "        print(self.name)\n",
    "        print(self.age)\n",
    "class undergraduate(person):\n",
    "    def __init__(self,name,age,grades):\n",
    "        super().__init__(self,name,age)\n",
    "        self.grades=grades\n",
    "    def undergraduate_display(self):\n",
    "        print(self.grades)\n",
    "class graduate(person):\n",
    "    def __init__(self,name,age,degree):\n",
    "        super().__init__(self,name,age,degree)\n",
    "        self.degree=degree\n",
    "    def graduate_display(self):\n",
    "        print(self.degree)\n",
    "p=person(\"Kiran\",22)\n",
    "p.person_display()\n",
    "\n",
    "    "
   ]
  },
  {
   "cell_type": "markdown",
   "id": "ac8b4e84-2310-49a2-9043-6dedae5935de",
   "metadata": {},
   "source": [
    "# Polymorphism"
   ]
  },
  {
   "cell_type": "code",
   "execution_count": 55,
   "id": "3564edad-fac2-453e-b1c9-6276e4ecd8c8",
   "metadata": {},
   "outputs": [
    {
     "name": "stdout",
     "output_type": "stream",
     "text": [
      "capital of india is new delhi\n",
      "hindi is language of india\n",
      "India is famous for culture\n",
      "washington is capital of usa \n",
      "English is language of usa\n",
      "Technology\n"
     ]
    }
   ],
   "source": [
    "class india:\n",
    "    def capital(self):\n",
    "        print(\"capital of india is new delhi\")\n",
    "    def language(self):\n",
    "        print(\"hindi is language of india\")\n",
    "    def famous(self):\n",
    "        print(\"India is famous for culture\")\n",
    "class usa:\n",
    "     def capital(self):\n",
    "        print(\"washington is capital of usa \")\n",
    "     def language(self):\n",
    "        print(\"English is language of usa\")\n",
    "     def famous(self):\n",
    "        print(\"Technology\")\n",
    "obj_india=india()\n",
    "obj_usa=usa()\n",
    "for country in (obj_india,obj_usa):\n",
    "    country.capital()\n",
    "    country.language()\n",
    "    country.famous()\n",
    "    "
   ]
  },
  {
   "cell_type": "code",
   "execution_count": null,
   "id": "6a0adc99-1e85-4127-bb97-4a69348b5cf6",
   "metadata": {},
   "outputs": [],
   "source": [
    "class rectangle:\n",
    "    def area(self):\n",
    "        print(\"area of rectangle is length*breadth\")\n",
    "class circle:\n",
    "    def area(self):\n",
    "        print(\"area of circle is (3.14)*r*r\")\n",
    "obj_rectangle=ract"
   ]
  },
  {
   "cell_type": "code",
   "execution_count": 24,
   "id": "e8377fb4-7351-420c-a97c-f436b04cd856",
   "metadata": {},
   "outputs": [
    {
     "name": "stdout",
     "output_type": "stream",
     "text": [
      "bho bho\n",
      "meow\n",
      "horn\n"
     ]
    }
   ],
   "source": [
    "class animal:\n",
    "    alive=True\n",
    "class dog(animal):\n",
    "    def speaking(self):\n",
    "        print(\"bho bho\")\n",
    "class cat(animal):\n",
    "    def speaking(self):\n",
    "        print(\"meow\")\n",
    "class car(animal):\n",
    "    def speaking(self):\n",
    "        print(\"horn\")\n",
    "animals=[dog(),cat(),car()]\n",
    "for a in animals:\n",
    "    a.speaking()"
   ]
  },
  {
   "cell_type": "markdown",
   "id": "c98e7704-ddc1-4515-99d1-e889e732fc53",
   "metadata": {},
   "source": [
    "## @3/02/2025"
   ]
  },
  {
   "cell_type": "markdown",
   "id": "9ae483b3-41d5-414e-9011-8c421a30af01",
   "metadata": {},
   "source": [
    "## @Abstraction"
   ]
  },
  {
   "cell_type": "code",
   "execution_count": 9,
   "id": "32023ec7-c1e9-4f0d-9bc0-9402123e2904",
   "metadata": {},
   "outputs": [],
   "source": [
    "from abc import ABC,abstractmethod\n",
    "class car(ABC):\n",
    "    def info(self):\n",
    "        print(\"Car has 4 wheels\")\n",
    "    @abstractmethod\n",
    "    def speed(self):\n",
    "        pass\n",
    "class benz(car):\n",
    "    def speed(self):\n",
    "        print(\"Benz average speed is 100kmph\")\n",
    "class enova(car):\n",
    "    def speed(self):\n",
    "        print(\"Enova average speed is 70kmph\")\n",
    "obj1=benz()\n"
   ]
  },
  {
   "cell_type": "code",
   "execution_count": 13,
   "id": "a9c541ce-6753-4c44-94ce-87b26177a5a9",
   "metadata": {},
   "outputs": [
    {
     "name": "stdout",
     "output_type": "stream",
     "text": [
      "Car has 4 wheels\n"
     ]
    }
   ],
   "source": [
    "obj1.info()"
   ]
  },
  {
   "cell_type": "code",
   "execution_count": 15,
   "id": "577faca3-ef89-455d-95d6-ed59583b008f",
   "metadata": {},
   "outputs": [
    {
     "name": "stdout",
     "output_type": "stream",
     "text": [
      "Benz average speed is 100kmph\n"
     ]
    }
   ],
   "source": [
    "obj1.speed()"
   ]
  },
  {
   "cell_type": "code",
   "execution_count": 17,
   "id": "bacc9ca8-e15a-4b11-a4dd-fb4146e2d6c5",
   "metadata": {},
   "outputs": [
    {
     "name": "stdout",
     "output_type": "stream",
     "text": [
      "Enova average speed is 70kmph\n"
     ]
    }
   ],
   "source": [
    "obj2=enova()\n",
    "obj2.speed()"
   ]
  },
  {
   "cell_type": "code",
   "execution_count": null,
   "id": "7e96a5d6-5e33-4463-895a-81ccbc86a06c",
   "metadata": {},
   "outputs": [],
   "source": []
  }
 ],
 "metadata": {
  "kernelspec": {
   "display_name": "Python 3 (ipykernel)",
   "language": "python",
   "name": "python3"
  },
  "language_info": {
   "codemirror_mode": {
    "name": "ipython",
    "version": 3
   },
   "file_extension": ".py",
   "mimetype": "text/x-python",
   "name": "python",
   "nbconvert_exporter": "python",
   "pygments_lexer": "ipython3",
   "version": "3.12.7"
  }
 },
 "nbformat": 4,
 "nbformat_minor": 5
}
