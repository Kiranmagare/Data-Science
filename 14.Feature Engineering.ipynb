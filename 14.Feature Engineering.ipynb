{
 "cells": [
  {
   "cell_type": "markdown",
   "id": "9bde0294-df30-42e8-8a49-336207ff4d72",
   "metadata": {},
   "source": [
    "## Feature Engineering\n",
    "##### Relationship Between the Random variables:\n",
    "\n",
    "  - X:height of a student\n",
    "  - Y:Weight of a student\n",
    "  - find is there any relationship between X and Y?\n",
    "  - Class---->taken --->student--->\n",
    "\n",
    "  - X increases---->y increses?\n",
    "  - X increases---->Y decreases?\n",
    "* we have a three measures for this\n",
    "1. co-variance\n",
    "2. Pearsen coefficient of correlation\n",
    "3. spearmens rank correlations"
   ]
  },
  {
   "cell_type": "code",
   "execution_count": 2,
   "id": "ba59460b-c822-45ee-ae66-ec5b4bfed206",
   "metadata": {},
   "outputs": [],
   "source": [
    "import numpy as np"
   ]
  },
  {
   "cell_type": "markdown",
   "id": "b705fab5-f62d-4c2f-8c00-5d5d90f708d8",
   "metadata": {},
   "source": [
    "## 1. co-variance:\n",
    "\n",
    "   - somewhat similar to variance\n",
    "   - if we have two RV X and Y and we find the covariance by changing the measures then the covariance will change this is drawback of covariance\n",
    "   - This is solved using Pearson coefficient of correlation\n",
    "   - corelation doesn't imply the causation\n",
    "   -  X and Y -------> RV\n",
    "   -  corr(X,Y)----->it doesn't mean that X causes Y or Y causes X\n"
   ]
  },
  {
   "cell_type": "code",
   "execution_count": 4,
   "id": "f4c58464-eb14-4979-91a6-e1f94cc1a9d7",
   "metadata": {},
   "outputs": [
    {
     "data": {
      "text/plain": [
       "array([[134.16666667,  80.        ],\n",
       "       [ 80.        ,  58.8       ]])"
      ]
     },
     "execution_count": 4,
     "metadata": {},
     "output_type": "execute_result"
    }
   ],
   "source": [
    "height=np.array([140,145,160,155,165,170])\n",
    "weight=np.array([45,48,50,56,60,65])\n",
    "cv=np.cov(height,weight)\n",
    "cv      #it gives covariance matrix"
   ]
  },
  {
   "cell_type": "code",
   "execution_count": 11,
   "id": "79cee0cd-8273-4739-b347-0bad165c8554",
   "metadata": {},
   "outputs": [
    {
     "data": {
      "text/plain": [
       "80.0"
      ]
     },
     "execution_count": 11,
     "metadata": {},
     "output_type": "execute_result"
    }
   ],
   "source": [
    "cv[0,1]"
   ]
  },
  {
   "cell_type": "code",
   "execution_count": 25,
   "id": "04abdc1c-eae2-481c-8bf8-4473119b2329",
   "metadata": {},
   "outputs": [
    {
     "data": {
      "text/plain": [
       "array([[ 21.46666667,  70.4       ],\n",
       "       [ 70.4       , 284.592     ]])"
      ]
     },
     "execution_count": 25,
     "metadata": {},
     "output_type": "execute_result"
    }
   ],
   "source": [
    "height_inch=height*0.4\n",
    "weight_inch=weight*2.2\n",
    "cv2=np.cov(height_inch,weight_inch)\n",
    "cv2"
   ]
  },
  {
   "cell_type": "markdown",
   "id": "ef245c10-3c00-45a1-9845-bd6c8323172d",
   "metadata": {},
   "source": [
    "### 2. Pearsons coefficient of correlation:\n",
    "\n",
    "  - rho=cov(x,y)/sd(x)*sd(y)\n",
    "  - np.corrcoef(x,y)\n",
    "  - Pearson coefficient of correlation will work good when the relationship is linear\n",
    "  - if the relationship is non linear then the value of rho is 0"
   ]
  },
  {
   "cell_type": "code",
   "execution_count": 14,
   "id": "fecca2a0-91c0-4603-9fd0-0ecb8f51c6ab",
   "metadata": {},
   "outputs": [
    {
     "data": {
      "text/plain": [
       "array([[1.        , 0.90069761],\n",
       "       [0.90069761, 1.        ]])"
      ]
     },
     "execution_count": 14,
     "metadata": {},
     "output_type": "execute_result"
    }
   ],
   "source": [
    "rho=np.corrcoef(height,weight)\n",
    "rho"
   ]
  },
  {
   "cell_type": "markdown",
   "id": "2278e7dc-0ff4-4204-8a64-500a2f2e094f",
   "metadata": {},
   "source": [
    "### 3. Spearmen rank correlation\n",
    "\n",
    "   - let we have two random variable X and Y from this two random variable we are creating the new random variable and we will find the pearsons coefficient of correlation for new random variable\n",
    "   -  Syntax: from scipy.stats as stats import spearmanr\n",
    "   -  rho = spearmanr(x,y) "
   ]
  },
  {
   "cell_type": "code",
   "execution_count": 8,
   "id": "e3e634f9-4d98-428b-a1a0-55f6f276b87f",
   "metadata": {},
   "outputs": [],
   "source": [
    "from scipy.stats import spearmanr "
   ]
  },
  {
   "cell_type": "code",
   "execution_count": 9,
   "id": "f2292c05-10a1-4bb7-86f2-89b035e52444",
   "metadata": {},
   "outputs": [],
   "source": [
    "import scipy.stats as stats"
   ]
  },
  {
   "cell_type": "code",
   "execution_count": 10,
   "id": "457f8b17-4101-4368-bcbe-4d1e37d27556",
   "metadata": {},
   "outputs": [
    {
     "data": {
      "text/plain": [
       "SignificanceResult(statistic=0.942857142857143, pvalue=0.004804664723032055)"
      ]
     },
     "execution_count": 10,
     "metadata": {},
     "output_type": "execute_result"
    }
   ],
   "source": [
    "rho=spearmanr(height,weight)\n",
    "rho"
   ]
  },
  {
   "cell_type": "code",
   "execution_count": null,
   "id": "676f89b3-bf10-4a4a-8923-af8bf7337f48",
   "metadata": {},
   "outputs": [],
   "source": []
  }
 ],
 "metadata": {
  "kernelspec": {
   "display_name": "Python 3 (ipykernel)",
   "language": "python",
   "name": "python3"
  },
  "language_info": {
   "codemirror_mode": {
    "name": "ipython",
    "version": 3
   },
   "file_extension": ".py",
   "mimetype": "text/x-python",
   "name": "python",
   "nbconvert_exporter": "python",
   "pygments_lexer": "ipython3",
   "version": "3.12.7"
  }
 },
 "nbformat": 4,
 "nbformat_minor": 5
}
