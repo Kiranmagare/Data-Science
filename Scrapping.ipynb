{
 "cells": [
  {
   "cell_type": "markdown",
   "id": "077afa2e-e305-43e8-8b09-00a644de639c",
   "metadata": {},
   "source": [
    "# @Scraping"
   ]
  },
  {
   "cell_type": "markdown",
   "id": "80db0d2f-9e8d-4dbe-8310-f4bebc650187",
   "metadata": {},
   "source": [
    "## First step of a data science life cycle:\n",
    "\n",
    "1. Data gathering or acquisition:\n",
    "   - we are gathering the data from different kinds of resources\n",
    "\n",
    "        1. repository---->data---->Kaggle\n",
    "        2.  data can be any the form of binary file PDF files\n",
    "\n",
    "                PDF are binary files------->they use the binary data structures\n",
    "        3. website----->\n",
    "\n",
    "                a. free API, Paid API\n",
    "                b. web scrapping: web scrapping is a process of extracting the data from the website\n",
    "                        1.beautiful soup\n",
    "                        2.scrappy\n",
    "                        3.selenium\n",
    "                        4.RPA\n",
    "                        5.NLTK\n",
    "\n",
    "        4. Transactional database---MySQL\n",
    "       \n",
    "        5. Non relational databases\n",
    "       \n",
    "        6.  Datawarehouse-----OLAP------>mining/extraction algorithm\n",
    "        \n",
    "        7.  distributed storage: HDFS-----spark\n",
    "        \n",
    "        8.  cloud storage----->AWS---RDD--->\n",
    "\n",
    "                   i. gathering the data manually"
   ]
  },
  {
   "cell_type": "markdown",
   "id": "69343511-896f-4d2a-b27f-b57e55410ba2",
   "metadata": {},
   "source": [
    "## Data Extraction using PDF "
   ]
  },
  {
   "cell_type": "code",
   "execution_count": 5,
   "id": "3f119425-1753-4086-a8fe-ea08348056c2",
   "metadata": {},
   "outputs": [
    {
     "name": "stdout",
     "output_type": "stream",
     "text": [
      "Collecting pypdf\n",
      "  Downloading pypdf-5.5.0-py3-none-any.whl.metadata (7.2 kB)\n",
      "Downloading pypdf-5.5.0-py3-none-any.whl (303 kB)\n",
      "Installing collected packages: pypdf\n",
      "Successfully installed pypdf-5.5.0\n"
     ]
    }
   ],
   "source": [
    "!pip install pypdf"
   ]
  },
  {
   "cell_type": "code",
   "execution_count": 38,
   "id": "b08b1653-6707-4322-a2c0-039188f5622a",
   "metadata": {},
   "outputs": [],
   "source": [
    "from pypdf import PdfReader"
   ]
  },
  {
   "cell_type": "code",
   "execution_count": 40,
   "id": "fb8183db-c6a8-40ed-827b-487b25e7b882",
   "metadata": {},
   "outputs": [],
   "source": [
    "file_path=r\"C:\\Users\\magar\\Downloads\\invoice.pdf\""
   ]
  },
  {
   "cell_type": "code",
   "execution_count": 42,
   "id": "d77282f4-3628-42fb-8eb8-f3114da44a56",
   "metadata": {},
   "outputs": [
    {
     "name": "stdout",
     "output_type": "stream",
     "text": [
      "1\n"
     ]
    }
   ],
   "source": [
    "with open(file_path,mode='rb')as f:\n",
    "    reader=PdfReader(f)\n",
    "    print(len(reader.pages))\n",
    "    txt=reader.pages[0].extract_text()"
   ]
  },
  {
   "cell_type": "code",
   "execution_count": 44,
   "id": "9ecac1c3-d135-440e-b9a7-8259e09cf515",
   "metadata": {},
   "outputs": [
    {
     "data": {
      "text/plain": [
       "'Invoice\\nPayment is due within 30 days from date of invoice. Late payment is subject to fees of 5% per month.\\nThanks for choosing DEMO - Sliced Invoices | admin@slicedinvoices.com\\nPage 1/1\\nFrom:\\nDEMO - Sliced Invoices\\nSuite 5A-1204\\n123 Somewhere Street\\nYour City AZ 12345\\nadmin@slicedinvoices.com\\nInvoice Number INV-3337\\nOrder Number 12345\\nInvoice Date January 25, 2016\\nDue Date January 31, 2016\\nTotal Due $93.50\\nTo:\\nTest Business\\n123 Somewhere St\\nMelbourne, VIC 3000\\ntest@test.com\\nHrs/Qty Service Rate/Price Adjust Sub Total\\n1.00 Web Design\\nThis is a sample description... $85.00 0.00% $85.00\\nSub Total $85.00\\nTax $8.50\\nTotal $93.50\\nANZ Bank\\nACC # 1234 1234\\nBSB # 4321 432 Paid'"
      ]
     },
     "execution_count": 44,
     "metadata": {},
     "output_type": "execute_result"
    }
   ],
   "source": [
    "txt"
   ]
  },
  {
   "cell_type": "code",
   "execution_count": 48,
   "id": "7a6968b0-6b7d-4b65-908d-7e02a4d2ef33",
   "metadata": {},
   "outputs": [
    {
     "data": {
      "text/plain": [
       "['$93.50', '$85.00', '$85.00', '$85.00', '$8.50', '$93.50']"
      ]
     },
     "execution_count": 48,
     "metadata": {},
     "output_type": "execute_result"
    }
   ],
   "source": [
    "#extract all the amount from the text\n",
    "import re\n",
    "a=re.findall(r\"\\$\\d+\\.\\d+\",txt)\n",
    "a"
   ]
  },
  {
   "cell_type": "code",
   "execution_count": 42,
   "id": "ec9e104f-0b5a-4f26-91bc-9d4102e7087e",
   "metadata": {},
   "outputs": [
    {
     "data": {
      "text/plain": [
       "['Total Due $93.50']"
      ]
     },
     "execution_count": 42,
     "metadata": {},
     "output_type": "execute_result"
    }
   ],
   "source": [
    "# extract total due from txt\n",
    "b=re.findall(r\"Total Due\\s+\\$[\\d,]+\\.\\d{2}\" ,txt)\n",
    "b"
   ]
  },
  {
   "cell_type": "code",
   "execution_count": 48,
   "id": "f5ca8ee9-0b7b-4131-b139-d04d3368d639",
   "metadata": {},
   "outputs": [
    {
     "data": {
      "text/plain": [
       "['admin@slicedinvoices.com', 'admin@slicedinvoices.com', 'test@test.com']"
      ]
     },
     "execution_count": 48,
     "metadata": {},
     "output_type": "execute_result"
    }
   ],
   "source": [
    "# extract email from txt\n",
    "email=re.findall(r\"\\w+\\@\\w+\\.com\",txt)\n",
    "email"
   ]
  },
  {
   "cell_type": "code",
   "execution_count": 62,
   "id": "6c4af589-8b69-4466-89ea-ac38e7f7a90c",
   "metadata": {},
   "outputs": [
    {
     "data": {
      "text/plain": [
       "['January 25, 2016', 'January 31, 2016']"
      ]
     },
     "execution_count": 62,
     "metadata": {},
     "output_type": "execute_result"
    }
   ],
   "source": [
    "# extract date from txt\n",
    "date=re.findall(r\"\\w+\\s\\d{2}.+\\d{4}\",txt)\n",
    "date"
   ]
  },
  {
   "cell_type": "markdown",
   "id": "177bf8e0-84c2-44fe-a936-c97ec9a74983",
   "metadata": {},
   "source": [
    "## @API :\n",
    "\n",
    "  - API------Application Programming Interface\n",
    "  - API is used so that two application can communicate with each other\n",
    "  - chartgbt----->openAI\n",
    "\n",
    "#### @Web application:\n",
    "\n",
    "   - follows client server architecture\n",
    "   - for web application we required browser.\n",
    "   - query ------->chatgbt---->\n",
    "\n",
    "@ ML model --- API --- for that model --- live --- deployed on the cloud\n",
    " - server : computer --- high configure computer\n",
    " - database server ---  database is running\n",
    " - Application server --- app running --- app --- server --- live model (API)\n",
    "\n",
    "\n",
    "\n",
    " - OpenAI ------- company\n",
    " - Scikit learn\n",
    "    \n",
    "\n",
    "\n",
    "\n",
    "\n",
    "- HTTP is not a API it is a protocol used by API\n",
    "\n",
    "      HTTP                                   HTTPs\n",
    "      no encryption                          encryption (security)\n",
    "                                             HTTP + ss\n",
    "\n",
    "\n",
    "#### HTTP methods:\n",
    "\n",
    "   1. Get:it is used to fetch the data from the website or API\n",
    "   2. Post:we are sending a new information/info to website or API\n",
    "   3. Put:\n",
    "   4. Update\n",
    "   5. Patch\n",
    "\n",
    "#### request module:\n",
    "    \n",
    "   - if we want to communicate with website or API through python\n"
   ]
  },
  {
   "cell_type": "code",
   "execution_count": 19,
   "id": "1ddc9251-7125-44d1-9d5b-4f6abf176bae",
   "metadata": {},
   "outputs": [],
   "source": [
    "import requests"
   ]
  },
  {
   "cell_type": "code",
   "execution_count": 21,
   "id": "18c25371-e33b-4f35-9c08-b833c02c2ca4",
   "metadata": {},
   "outputs": [
    {
     "data": {
      "text/plain": [
       "<Response [200]>"
      ]
     },
     "execution_count": 21,
     "metadata": {},
     "output_type": "execute_result"
    }
   ],
   "source": [
    "response=requests.get(\"https://www.trustpilot.com/review/www.amazon.com\")\n",
    "response"
   ]
  },
  {
   "cell_type": "code",
   "execution_count": 23,
   "id": "d632ec8b-c0ee-40ae-9e82-46fd7ebafcbc",
   "metadata": {},
   "outputs": [
    {
     "data": {
      "text/plain": [
       "['__attrs__',\n",
       " '__bool__',\n",
       " '__class__',\n",
       " '__delattr__',\n",
       " '__dict__',\n",
       " '__dir__',\n",
       " '__doc__',\n",
       " '__enter__',\n",
       " '__eq__',\n",
       " '__exit__',\n",
       " '__format__',\n",
       " '__ge__',\n",
       " '__getattribute__',\n",
       " '__getstate__',\n",
       " '__gt__',\n",
       " '__hash__',\n",
       " '__init__',\n",
       " '__init_subclass__',\n",
       " '__iter__',\n",
       " '__le__',\n",
       " '__lt__',\n",
       " '__module__',\n",
       " '__ne__',\n",
       " '__new__',\n",
       " '__nonzero__',\n",
       " '__reduce__',\n",
       " '__reduce_ex__',\n",
       " '__repr__',\n",
       " '__setattr__',\n",
       " '__setstate__',\n",
       " '__sizeof__',\n",
       " '__str__',\n",
       " '__subclasshook__',\n",
       " '__weakref__',\n",
       " '_content',\n",
       " '_content_consumed',\n",
       " '_next',\n",
       " 'apparent_encoding',\n",
       " 'close',\n",
       " 'connection',\n",
       " 'content',\n",
       " 'cookies',\n",
       " 'elapsed',\n",
       " 'encoding',\n",
       " 'headers',\n",
       " 'history',\n",
       " 'is_permanent_redirect',\n",
       " 'is_redirect',\n",
       " 'iter_content',\n",
       " 'iter_lines',\n",
       " 'json',\n",
       " 'links',\n",
       " 'next',\n",
       " 'ok',\n",
       " 'raise_for_status',\n",
       " 'raw',\n",
       " 'reason',\n",
       " 'request',\n",
       " 'status_code',\n",
       " 'text',\n",
       " 'url']"
      ]
     },
     "execution_count": 23,
     "metadata": {},
     "output_type": "execute_result"
    }
   ],
   "source": [
    "dir(response)"
   ]
  },
  {
   "cell_type": "code",
   "execution_count": 31,
   "id": "25254478-ed9a-4e6d-807b-39ce55ed127f",
   "metadata": {},
   "outputs": [
    {
     "data": {
      "text/plain": [
       "['https://cdn.trustpilot.net/brand-assets/4.3.0/favicons/favicon.ico',\n",
       " '/manifest.json',\n",
       " 'https://cdn.trustpilot.net/brand-assets/4.3.0/favicons/apple-touch-icon.png',\n",
       " 'https://cdn.trustpilot.net/brand-assets/4.3.0/favicons/favicon-32x32.png',\n",
       " 'https://cdn.trustpilot.net/brand-assets/4.3.0/favicons/favicon-16x16.png',\n",
       " 'https://cdn.trustpilot.net/brand-assets/4.3.0/favicons/safari-pinned-tab.svg',\n",
       " 'https://businessunitprofile-cdn.trustpilot.net',\n",
       " 'https://cdn.trustpilot.net/',\n",
       " 'https://api.amplitude.com/',\n",
       " 'https://user-images.trustpilot.com/',\n",
       " 'https://cdn.segment.com/analytics.js/v1/8tb69qtawc/analytics.min.js',\n",
       " 'https://static.hotjar.com/c/hotjar-391767.js?sv=6',\n",
       " 'https://cdn.cookielaw.org',\n",
       " 'https://geolocation.onetrust.com',\n",
       " 'https://www.trustpilot.com/review/www.amazon.com',\n",
       " 'https://www.trustpilot.com/review/www.amazon.com?page=2',\n",
       " 'https://dk.trustpilot.com/review/www.amazon.com',\n",
       " 'https://at.trustpilot.com/review/www.amazon.com',\n",
       " 'https://ch.trustpilot.com/review/www.amazon.com',\n",
       " 'https://de.trustpilot.com/review/www.amazon.com',\n",
       " 'https://au.trustpilot.com/review/www.amazon.com',\n",
       " 'https://ca.trustpilot.com/review/www.amazon.com',\n",
       " 'https://uk.trustpilot.com/review/www.amazon.com',\n",
       " 'https://ie.trustpilot.com/review/www.amazon.com',\n",
       " 'https://nz.trustpilot.com/review/www.amazon.com',\n",
       " 'https://www.trustpilot.com/review/www.amazon.com',\n",
       " 'https://www.trustpilot.com/review/www.amazon.com',\n",
       " 'https://es.trustpilot.com/review/www.amazon.com',\n",
       " 'https://fi.trustpilot.com/review/www.amazon.com',\n",
       " 'https://fr-be.trustpilot.com/review/www.amazon.com',\n",
       " 'https://fr.trustpilot.com/review/www.amazon.com',\n",
       " 'https://it.trustpilot.com/review/www.amazon.com',\n",
       " 'https://nl-be.trustpilot.com/review/www.amazon.com',\n",
       " 'https://nl.trustpilot.com/review/www.amazon.com',\n",
       " 'https://pl.trustpilot.com/review/www.amazon.com',\n",
       " 'https://br.trustpilot.com/review/www.amazon.com',\n",
       " 'https://pt.trustpilot.com/review/www.amazon.com',\n",
       " 'https://se.trustpilot.com/review/www.amazon.com',\n",
       " 'https://businessunitprofile-cdn.trustpilot.net/businessunitprofile-consumersite/_next/static/css/cd457aa3ecda1314.css',\n",
       " 'https://businessunitprofile-cdn.trustpilot.net/businessunitprofile-consumersite/_next/static/css/cd457aa3ecda1314.css',\n",
       " 'https://businessunitprofile-cdn.trustpilot.net/businessunitprofile-consumersite/_next/static/css/48b3eb64291b0cd5.css',\n",
       " 'https://businessunitprofile-cdn.trustpilot.net/businessunitprofile-consumersite/_next/static/css/48b3eb64291b0cd5.css',\n",
       " 'https://businessunitprofile-cdn.trustpilot.net/businessunitprofile-consumersite/_next/static/css/ce4cb2fb8dff49d3.css',\n",
       " 'https://businessunitprofile-cdn.trustpilot.net/businessunitprofile-consumersite/_next/static/css/ce4cb2fb8dff49d3.css',\n",
       " 'https://businessunitprofile-cdn.trustpilot.net/businessunitprofile-consumersite/_next/static/css/b07f325581f3b6f9.css',\n",
       " 'https://businessunitprofile-cdn.trustpilot.net/businessunitprofile-consumersite/_next/static/css/b07f325581f3b6f9.css',\n",
       " 'https://businessunitprofile-cdn.trustpilot.net/businessunitprofile-consumersite/_next/static/css/0c7dcfe792f48abe.css',\n",
       " 'https://businessunitprofile-cdn.trustpilot.net/businessunitprofile-consumersite/_next/static/css/0c7dcfe792f48abe.css',\n",
       " '/',\n",
       " '/review/temu.com',\n",
       " '/review/www.shein.com',\n",
       " '/review/shein.co.uk',\n",
       " '/categories',\n",
       " '/blog',\n",
       " '/users/connect?redirect=&amp;source_cta=header',\n",
       " 'https://business.trustpilot.com',\n",
       " 'https://business.trustpilot.com',\n",
       " '/users/connect?redirect=&amp;source_cta=header',\n",
       " '/categories',\n",
       " '/blog',\n",
       " '/categories/media_publishing',\n",
       " '/categories/books_magazines',\n",
       " '/categories/book_store',\n",
       " 'http://www.amazon.com',\n",
       " '/evaluate/www.amazon.com',\n",
       " 'http://www.amazon.com?utm_medium=company_profile&amp;utm_source=trustpilot&amp;utm_campaign=logo_click',\n",
       " 'http://www.amazon.com?utm_medium=company_profile&amp;utm_source=trustpilot&amp;utm_campaign=domain_click',\n",
       " '/categories/book_store',\n",
       " '/evaluate/www.amazon.com',\n",
       " 'http://www.amazon.com?utm_medium=company_profile&amp;utm_source=trustpilot&amp;utm_campaign=domain_click',\n",
       " '/evaluate/www.amazon.com',\n",
       " '/users/5c49a6ec3f27fc7f2da86baf',\n",
       " '/users/568edb0c0000ff0001fa4d56',\n",
       " '/users/67dee054f01f2b7dca7e47e2',\n",
       " '/users/59d3d3dd0000ff000ad09425',\n",
       " '/categories/book_store',\n",
       " '/categories/clothing_store',\n",
       " '/categories/hobby_store',\n",
       " '/categories/shoe_store',\n",
       " 'http://www.amazon.com?utm_medium=company_profile&amp;utm_source=trustpilot&amp;utm_campaign=domain_click',\n",
       " '/review/www.amazon.com/transparency',\n",
       " '/review/temu.com',\n",
       " '/review/www.shein.com',\n",
       " '/review/shein.co.uk',\n",
       " '/review/www.amazon.de',\n",
       " '/review/shein.se',\n",
       " '/review/www.amazon.co.uk',\n",
       " '/review/www.amazon.fr',\n",
       " '/review/www.aliexpress.com',\n",
       " '/evaluate/www.amazon.com',\n",
       " '/users/669e2b8a9a84bb76344fafd3',\n",
       " '/reviews/68281618ce110d1ef5270ee0',\n",
       " '/users/5e7e89398a0cd7414a7007ca',\n",
       " '/reviews/6827ea5f685a1192884caea4',\n",
       " '/users/61cf8596149fa50012fba236',\n",
       " '/reviews/6827e3a1fac40a816df8d546',\n",
       " '/users/6827c98e4db5a0a472fad0ce',\n",
       " '/reviews/6827c99525ff806d2b0eb833',\n",
       " '/users/6827c3e875d9816b578b2311',\n",
       " '/reviews/6827c4629c3f279827ce50ce',\n",
       " '/users/5d13c25ba9030c0792293842',\n",
       " '/reviews/6827b62734c345b6144720fc',\n",
       " '/users/5e178ce7013d4121e91f36af',\n",
       " '/reviews/6827af8a485f219f1290e795',\n",
       " '/users/5da0a5b72cab1328f467cfee',\n",
       " '/reviews/6827ae2b2f24a89315d91567',\n",
       " '/users/6463daf653203000143dbcc9',\n",
       " '/reviews/6827ad85e41a389e1bf06826',\n",
       " '/users/6807232f959ac3b936378b22',\n",
       " '/reviews/6827a7579b4a1ce357e72b4a',\n",
       " '/users/5461c3b6000064000195b01e',\n",
       " '/reviews/68278a4836a30ee0ee136d15',\n",
       " '/users/636c52c55cb96f001286833a',\n",
       " '/reviews/6827844d0d9840c642372c35',\n",
       " '/users/68276595bf768b4931fefad4',\n",
       " '/reviews/682765d308fb8112d7a3d9cf',\n",
       " '/users/5c643df79aac32a92ec388dd',\n",
       " '/reviews/6827635ffb7bc378a86770a5',\n",
       " '/users/610ebed3bf368400125d02f1',\n",
       " '/reviews/68276140b43e4ad1fc025d94',\n",
       " '/users/5ff8381940c6a1001a454070',\n",
       " '/reviews/682757d8609aec3416674b95',\n",
       " '/users/5fa192e1544917001921fcc9',\n",
       " '/reviews/682756658e3b721a2a7f218b',\n",
       " '/users/6827124e5ad6655dc94f1bce',\n",
       " '/reviews/682721273c209aaf97b8a877',\n",
       " '/users/6284c3aaeefb8300124bf0b5',\n",
       " '/reviews/6826ee4b99dfd4d40139e74f',\n",
       " '/users/6826845b75d981695089948e',\n",
       " '/reviews/68268473b8fe59da82aa5eac',\n",
       " '/review/www.amazon.com',\n",
       " '/review/www.amazon.com?page=2',\n",
       " '/review/www.amazon.com?page=3',\n",
       " '/review/www.amazon.com?page=4',\n",
       " '/review/www.amazon.com?page=2',\n",
       " 'https://help.trustpilot.com/s/article/Who-can-write-a-review-and-when?language=en_US',\n",
       " 'https://help.trustpilot.com/s/article/Whats-the-retention-period-of-reviews?language=en_US',\n",
       " 'https://help.trustpilot.com/s/article/How-do-reviews-get-on-Trustpilot?utm_campaign=verified&amp;utm_content=verified_tooltip&amp;utm_medium=referral&amp;utm_source=transparency_page&amp;language=en_US',\n",
       " '/trust/combating-fake-reviews',\n",
       " 'https://help.trustpilot.com/s/article/The-journey-of-reviews-on-Trustpilot?language=en_US',\n",
       " 'https://help.trustpilot.com/s/article/8-tips-for-writing-great-customer-reviews?language=en_US',\n",
       " 'https://help.trustpilot.com/s/article/Verify-your-identity-with-photo-ID?language=en_US',\n",
       " 'https://help.trustpilot.com/s/article/Who-can-write-a-review-and-when?language=en_US',\n",
       " '/trust',\n",
       " '/end-of-the-line',\n",
       " 'https://www.trustpilot.com/about',\n",
       " 'https://business.trustpilot.com/jobs',\n",
       " 'https://www.trustpilot.com/contact',\n",
       " 'https://www.trustpilot.com/blog',\n",
       " 'https://www.trustpilot.com/trust/how-reviews-work',\n",
       " 'https://press.trustpilot.com',\n",
       " 'https://investors.trustpilot.com',\n",
       " 'https://apps.apple.com/app/trustpilot-reviews-ratings/id1608392803',\n",
       " 'https://www.trustpilot.com/trust',\n",
       " 'https://support.trustpilot.com',\n",
       " 'https://www.trustpilot.com/users/connect',\n",
       " 'https://www.trustpilot.com/users/connect?signup=True',\n",
       " 'https://business.trustpilot.com',\n",
       " 'https://business.trustpilot.com/features',\n",
       " 'https://business.trustpilot.com/pricing',\n",
       " 'https://businessapp.b2b.trustpilot.com/?locale=en-us',\n",
       " 'https://business.trustpilot.com/reviews',\n",
       " 'https://www.facebook.com/Trustpilot/',\n",
       " 'https://x.com/Trustpilot',\n",
       " 'https://www.instagram.com/trustpilot/',\n",
       " 'https://www.linkedin.com/company/trustpilot/',\n",
       " 'https://www.youtube.com/c/trustpilotreviews',\n",
       " 'https://legal.trustpilot.com',\n",
       " 'https://legal.trustpilot.com/end-user-privacy-terms',\n",
       " 'https://legal.trustpilot.com/for-reviewers/end-user-terms-and-conditions',\n",
       " 'https://legal.trustpilot.com/for-reviewers/guidelines-for-reviewers',\n",
       " 'https://status.trustpilot.com/',\n",
       " 'https://legal.trustpilot.com/for-everyone/modern-slavery-and-human-trafficking-statement',\n",
       " '\\\\',\n",
       " '\\\\']"
      ]
     },
     "execution_count": 31,
     "metadata": {},
     "output_type": "execute_result"
    }
   ],
   "source": [
    "import re\n",
    "urls=re.findall(r'href=[\\'\"]?([^\\'\" ]+)', response.text)\n",
    "urls"
   ]
  },
  {
   "cell_type": "markdown",
   "id": "f74407ee-82ed-462a-8a26-9495252dd12e",
   "metadata": {},
   "source": [
    "## @ Web Scrapping :\n",
    "\n",
    "- Scrapping : Extracting the data from website\n",
    "- Beautiful Soup"
   ]
  },
  {
   "cell_type": "code",
   "execution_count": 2,
   "id": "202d6119-117d-435e-88cb-ba82fb20450c",
   "metadata": {},
   "outputs": [
    {
     "name": "stdout",
     "output_type": "stream",
     "text": [
      "Requirement already satisfied: beautifulsoup4 in c:\\users\\magar\\anaconda3\\lib\\site-packages (4.12.3)\n",
      "Requirement already satisfied: soupsieve>1.2 in c:\\users\\magar\\anaconda3\\lib\\site-packages (from beautifulsoup4) (2.5)\n"
     ]
    }
   ],
   "source": [
    "! pip install beautifulsoup4"
   ]
  },
  {
   "cell_type": "code",
   "execution_count": null,
   "id": "f23ec7d4-6247-4d85-86c8-d075296bbdab",
   "metadata": {},
   "outputs": [],
   "source": []
  }
 ],
 "metadata": {
  "kernelspec": {
   "display_name": "Python 3 (ipykernel)",
   "language": "python",
   "name": "python3"
  },
  "language_info": {
   "codemirror_mode": {
    "name": "ipython",
    "version": 3
   },
   "file_extension": ".py",
   "mimetype": "text/x-python",
   "name": "python",
   "nbconvert_exporter": "python",
   "pygments_lexer": "ipython3",
   "version": "3.12.7"
  }
 },
 "nbformat": 4,
 "nbformat_minor": 5
}
